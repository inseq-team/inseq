{
 "cells": [
  {
   "attachments": {},
   "cell_type": "markdown",
   "metadata": {},
   "source": [
    "[![Open In Colab](https://colab.research.google.com/assets/colab-badge.svg)](https://colab.research.google.com/github/inseq-team/inseq/blob/main/examples/inseq_tutorial.ipynb)"
   ]
  },
  {
   "cell_type": "code",
   "execution_count": 1,
   "metadata": {},
   "outputs": [],
   "source": [
    "%%capture\n",
    "# Run in Colab to install local packages\n",
    "%pip install bitsandbytes accelerate\n",
    "%pip install git+https://github.com/huggingface/transformers.git\n",
    "%pip install git+https://github.com/inseq-team/inseq.git"
   ]
  },
  {
   "attachments": {},
   "cell_type": "markdown",
   "metadata": {},
   "source": [
    "This tutorial showcases how to use the [inseq](https://github.com/inseq-team/inseq) library for various interpretability analyses, with a focus on advanced use cases such as aggregation and contrastive attribution. The tutorial was adapted from the [LCL'23 tutorial on Interpretability for NLP](https://github.com/gsarti/lcl23-xnlm-lab) with the goal of updating it whenever new functionalities or breaking changes are introduced.\n",
    "\n",
    "⚠️ **IMPORTANT** ⚠️ : `inseq` is a very new library and under active development. Current results were obtained using the latest development versions on June 30, 2023. If you find any issue, or you are not able to reproduce the results shown here, we'd love if you could open an issue on [the inseq Github repository](https://github.com/inseq-team/inseq) so that we could update the tutorial accordingly! 🙂\n",
    "\n",
    "# Introduction: Feature Attribution for NLP\n",
    "\n",
    "*See [Madsen et al. 2022](https://dl.acm.org/doi/10.1145/3546577) for a survey on feature attribution methods for NLP applications.*\n",
    "\n",
    "**Feature attribution methods** leverage the internal information (e.g. gradients, attention) or predictions of a model to quantify the relationship between its inputs and its predictions.\n",
    "\n",
    "Attribution methods produce **importance scores** (or *saliency scores*) for every element of the input, reflecting the importance of every input element in driving the model prediction. These scores are often presented using <span style=\"background:#A85E9E\">highlights</span> (or *attribution maps*) to facilitate comprehension, although recent research showed the risks of textual highlights misinterpretation caused by human cognitive biases ([Jacovi et al. 2022](https://dl.acm.org/doi/abs/10.1145/3531146.3533127), [Jacovi et al. 2023](https://arxiv.org/abs/2305.02679))\n",
    "\n",
    "<img alt=\"Example of attribution map for sentiment analysis\" src=\"https://dl.acm.org/cms/asset/b4fe400e-9eb7-4f10-ab49-ac6a31a8a5cf/csur-2021-0674-f03.jpg\" height=\"150\"/>\n",
    "\n",
    "*Hypothetical example of attribution map for sentiment analysis from [Madsen et al. 2022](https://dl.acm.org/doi/10.1145/3546577). c represents the explained (predicted) class, while y is the correct label for the example.*\n",
    "\n",
    "We can categorize feature attribution approaches in three major families:\n",
    "\n",
    "- **Gradient-based methods** such as [Integrated gradients]() use gradients as a natural source of information to motivate model predictions. Gradients for model parameters computed in relation to a loss function are commonly used during training to update model parameters, since they represent *the magnitude of change needed for a parameter such that the prediction matches the target label*. In the case of feature attribution, gradients computed with respect to a model prediction logit or probability are instead taken as *how much the parameter is contributing towards the prediction*.\n",
    "\n",
    "<img alt=\"How gradient attribution is computed\" src=\"../docs/source/images/lm_gradient_attribution.png\" height=400/>\n",
    "\n",
    "*Overview of feature attribution using gradient information. Adapted from Jay Alammar blog post \"[Interfaces for Explaining Transformer Language Models](https://jalammar.github.io/explaining-transformers/)\"*\n",
    "\n",
    "- **Perturbation-based methods** such as [Occlusion](https://captum.ai/api/occlusion.html) estimate importance of inputs by introducing noise in the prediction process, usually by masking or removing either input features or network components, and verifying the downstream effect on model predictions. Intuitively, these can also be used to determine the importance of layers in the neural network.\n",
    "\n",
    "<img alt=\"How occlusion attribution is computed\" src=\"../docs/source/images/lm_perturbation_attribution.png\" height=400/>\n",
    "\n",
    "- **Internals-based methods** use quantities computed naturally by the network during their predictions to motivate its internal computations. For Transformers-based model, [attention weights](https://aclanthology.org/D19-1002/) are commonly used, by themselves or multiplied with other quantities, as indications of feature importance.\n",
    "\n",
    "<img alt=\"Aligning words across source and target sentences in translation with attention\" src=\"https://jalammar.github.io/images/attention_sentence.png\" height=400/>\n",
    "\n",
    "*Example of attention weights aligning source and target words in a translation task. From Bahdanau et al. 2015 \"[Neural Machine Translation by Jointly Learning to Align and Translate](https://arxiv.org/abs/1409.0473)\"*\n",
    "\n",
    "\n",
    "<details>\n",
    "    <summary><b>Additional details about feature attribution methods</b></summary>\n",
    "    <ol>\n",
    "        <li> We distinguish gradient and internals methods since gradient methods require a <i>prediction target</i> (e.g. the predicted class label, the next generated word) to compute importance scores, while internals-based one generally do not rely on the predicted output to determine importance.</li>\n",
    "        </br>\n",
    "        <li> Feature importance is generally computed for input tokens, but most methods can also be used to compute importance of intermediate representations (or <i>activations</i>) computed by the model (e.g. stopping at an intermediate layer when backpropagating gradients).</li>\n",
    "        </br>\n",
    "        <li> Methods using layer-specific quantities like attention weights usually aggregate those across layers to obtain a proxy importance for input features, either averaging naively or with more reasonable methods such as <a href=\"https://aclanthology.org/2020.acl-main.385/\">rollout and flow</a>.</li>\n",
    "        </br>\n",
    "        <li>The granularity of importance scores depend on the attribution method that is being used. For example, the attention mechanism operates at a token level, so attention weights used as importance scores will be one per token in the input sequence. Gradients, on the contrary, are computed for all the dimensions of each token embedding, so an aggregation strategy should be used to obtain a single score per token.</li>\n",
    "    </ol>\n",
    "</details>"
   ]
  },
  {
   "attachments": {},
   "cell_type": "markdown",
   "metadata": {},
   "source": [
    "## Attributing Generative Language Models with Inseq\n",
    "\n",
    "*Adapted in part from the [Inseq documentation](https://inseq.readthedocs.io/)*\n",
    "\n",
    "[Inseq](https://github.com/inseq-team/inseq) ([Sarti et al., 2023](https://arxiv.org/abs/2302.13942)) is a toolkit based on the [🤗 Transformers](https//github.com/huggingface/transformers) and [Captum](https://captum.ai/docs/introduction) libraries for intepreting language generation models using feature attribution methods. Inseq allows you to analyze the behavior of a language generation model by computing the importance of each input token for each token in the generated output using the various categories of attribution methods like those described in the previous section (use `inseq.list_feature_attribution_methods()` to list all available methods). You can refer to the [Inseq paper](https://arxiv.org/abs/2302.13942) for an overview of the tool and some usage examples.\n",
    "\n",
    "The current version of the library (v0.5.0, June 2023) supports all [`AutoModelForSeq2SeqLM`](https://huggingface.co/docs/transformers/model_doc/auto#transformers.AutoModelForSeq2SeqLM) (among others, [T5](https://huggingface.co/docs/transformers/model_doc/t5), [Bart](https://huggingface.co/docs/transformers/model_doc/bart) and all >1000 [MarianNMT](https://huggingface.co/docs/transformers/model_doc/marian) MT models) and [AutoModelForCausalLM](https://huggingface.co/docs/transformers/model_doc/auto#transformers.AutoModelForCausalLM) (among others, [GPT-2](https://huggingface.co/docs/transformers/model_doc/gpt2), [Bloom](https://huggingface.co/docs/transformers/model_doc/bloom) and [LLaMa](https://huggingface.co/docs/transformers/model_doc/llama)), including advanced tools for custom attribution targets and post-processing of attribution matrices.\n",
    "\n",
    "The following code is a \"Hello world\" equivalent in Inseq: in three lines of code, an English-to-Italian machine translation model is loaded alongside an attribution method, attribution is performed, and results are visualized:"
   ]
  },
  {
   "cell_type": "code",
   "execution_count": 1,
   "metadata": {},
   "outputs": [
    {
     "name": "stderr",
     "output_type": "stream",
     "text": [
      "/home/gsarti/.cache/pypoetry/virtualenvs/inseq-PzwjmCYf-py3.9/lib/python3.9/site-packages/transformers/models/marian/tokenization_marian.py:194: UserWarning: Recommended: pip install sacremoses.\n",
      "  warnings.warn(\"Recommended: pip install sacremoses.\")\n",
      "/home/gsarti/.cache/pypoetry/virtualenvs/inseq-PzwjmCYf-py3.9/lib/python3.9/site-packages/transformers/generation/utils.py:1255: UserWarning: You have modified the pretrained model configuration to control generation. This is a deprecated strategy to control generation and will be removed soon, in a future version. Please use a generation configuration file (see https://huggingface.co/docs/transformers/main_classes/text_generation)\n",
      "  warnings.warn(\n",
      "/home/gsarti/.cache/pypoetry/virtualenvs/inseq-PzwjmCYf-py3.9/lib/python3.9/site-packages/transformers/generation/utils.py:1349: UserWarning: Using `max_length`'s default (512) to control the generation length. This behaviour is deprecated and will be removed from the config in v5 of Transformers -- we recommend using `max_new_tokens` to control the maximum length of the generation.\n",
      "  warnings.warn(\n",
      "Attributing with input_x_gradient...: 100%|██████████| 20/20 [00:00<00:00, 24.44it/s]\n"
     ]
    },
    {
     "data": {
      "text/html": [
       "<br/><b>0th instance:</b><br/>\n",
       "<html>\n",
       "<div id=\"nzjovqwpsbfhcgchqjjf_viz_container\">\n",
       "    <div id=\"nzjovqwpsbfhcgchqjjf_content\" style=\"padding:15px;border-style:solid;margin:5px;\">\n",
       "        <div id = \"nzjovqwpsbfhcgchqjjf_saliency_plot_container\" class=\"nzjovqwpsbfhcgchqjjf_viz_container\" style=\"display:block\">\n",
       "            \n",
       "<div id=\"afqofpvausieyiccwpus_saliency_plot\" class=\"afqofpvausieyiccwpus_viz_content\">\n",
       "    <div style=\"margin:5px;font-family:sans-serif;font-weight:bold;\">\n",
       "        <span style=\"font-size: 20px;\">Source Saliency Heatmap</span>\n",
       "        <br>\n",
       "        x: Generated tokens, y: Attributed tokens\n",
       "    </div>\n",
       "    \n",
       "<table border=\"1\" cellpadding=\"5\" cellspacing=\"5\"\n",
       "    style=\"overflow-x:scroll;display:block;\">\n",
       "    <tr><th></th>\n",
       "<th>▁Ci</th><th>a</th><th>o</th><th>▁a</th><th>▁tutti</th><th>,</th><th>▁spero</th><th>▁che</th><th>▁vi</th><th>▁stia</th><th>te</th><th>▁gode</th><th>ndo</th><th>▁il</th><th>▁tu</th><th>tori</th><th>al</th><th>!</th><th>&lt;/s&gt;</th></tr><tr><th>▁H</th><th style=\"background:rgba(255.0, 13.0, 87.0, 0.3457318280847692)\">0.115</th><th style=\"background:rgba(255.0, 13.0, 87.0, 0.29055258467023165)\">0.096</th><th style=\"background:rgba(255.0, 13.0, 87.0, 0.18019409784115661)\">0.061</th><th style=\"background:rgba(255.0, 13.0, 87.0, 0.22749059219647458)\">0.076</th><th style=\"background:rgba(255.0, 13.0, 87.0, 0.14866310160427795)\">0.051</th><th style=\"background:rgba(255.0, 13.0, 87.0, 0.2590215884333532)\">0.086</th><th style=\"background:rgba(255.0, 13.0, 87.0, 0.13289760348583876)\">0.046</th><th style=\"background:rgba(255.0, 13.0, 87.0, 0.1880768469003763)\">0.063</th><th style=\"background:rgba(255.0, 13.0, 87.0, 0.1880768469003763)\">0.063</th><th style=\"background:rgba(255.0, 13.0, 87.0, 0.1959595959595959)\">0.065</th><th style=\"background:rgba(255.0, 13.0, 87.0, 0.06195286195286207)\">0.021</th><th style=\"background:rgba(255.0, 13.0, 87.0, 0.07771836007130124)\">0.028</th><th style=\"background:rgba(255.0, 13.0, 87.0, 0.10136660724896006)\">0.034</th><th style=\"background:rgba(255.0, 13.0, 87.0, 0.08560110913052081)\">0.031</th><th style=\"background:rgba(255.0, 13.0, 87.0, 0.13289760348583876)\">0.046</th><th style=\"background:rgba(255.0, 13.0, 87.0, 0.030421865715983164)\">0.011</th><th style=\"background:rgba(255.0, 13.0, 87.0, 0.02253911665676371)\">0.008</th><th style=\"background:rgba(255.0, 13.0, 87.0, 0.2117250940780353)\">0.071</th><th style=\"background:rgba(255.0, 13.0, 87.0, 0.1959595959595959)\">0.065</th></tr><tr><th>ello</th><th style=\"background:rgba(255.0, 13.0, 87.0, 0.4560903149138443)\">0.151</th><th style=\"background:rgba(255.0, 13.0, 87.0, 0.4087938205585263)\">0.137</th><th style=\"background:rgba(255.0, 13.0, 87.0, 0.2590215884333532)\">0.088</th><th style=\"background:rgba(255.0, 13.0, 87.0, 0.33784907902554967)\">0.112</th><th style=\"background:rgba(255.0, 13.0, 87.0, 0.24325609031491383)\">0.081</th><th style=\"background:rgba(255.0, 13.0, 87.0, 0.29843533372945136)\">0.101</th><th style=\"background:rgba(255.0, 13.0, 87.0, 0.14866310160427795)\">0.05</th><th style=\"background:rgba(255.0, 13.0, 87.0, 0.22749059219647458)\">0.077</th><th style=\"background:rgba(255.0, 13.0, 87.0, 0.24325609031491383)\">0.082</th><th style=\"background:rgba(255.0, 13.0, 87.0, 0.219607843137255)\">0.073</th><th style=\"background:rgba(255.0, 13.0, 87.0, 0.06983561101208159)\">0.024</th><th style=\"background:rgba(255.0, 13.0, 87.0, 0.09348385818974037)\">0.033</th><th style=\"background:rgba(255.0, 13.0, 87.0, 0.12501485442661908)\">0.042</th><th style=\"background:rgba(255.0, 13.0, 87.0, 0.1171321053673995)\">0.039</th><th style=\"background:rgba(255.0, 13.0, 87.0, 0.16442859972271742)\">0.055</th><th style=\"background:rgba(255.0, 13.0, 87.0, 0.030421865715983164)\">0.013</th><th style=\"background:rgba(255.0, 13.0, 87.0, 0.02253911665676371)\">0.008</th><th style=\"background:rgba(255.0, 13.0, 87.0, 0.2511388393741335)\">0.085</th><th style=\"background:rgba(255.0, 13.0, 87.0, 0.22749059219647458)\">0.077</th></tr><tr><th>▁everyone</th><th style=\"background:rgba(255.0, 13.0, 87.0, 0.3299663299663301)\">0.111</th><th style=\"background:rgba(255.0, 13.0, 87.0, 0.2747870865517925)\">0.093</th><th style=\"background:rgba(255.0, 13.0, 87.0, 0.1959595959595959)\">0.066</th><th style=\"background:rgba(255.0, 13.0, 87.0, 0.44032481679540497)\">0.147</th><th style=\"background:rgba(255.0, 13.0, 87.0, 0.44820756585462457)\">0.15</th><th style=\"background:rgba(255.0, 13.0, 87.0, 0.1959595959595959)\">0.065</th><th style=\"background:rgba(255.0, 13.0, 87.0, 0.15654585066349747)\">0.054</th><th style=\"background:rgba(255.0, 13.0, 87.0, 0.17231134878193693)\">0.058</th><th style=\"background:rgba(255.0, 13.0, 87.0, 0.1880768469003763)\">0.064</th><th style=\"background:rgba(255.0, 13.0, 87.0, 0.12501485442661908)\">0.043</th><th style=\"background:rgba(255.0, 13.0, 87.0, 0.04618736383442265)\">0.018</th><th style=\"background:rgba(255.0, 13.0, 87.0, 0.06195286195286207)\">0.022</th><th style=\"background:rgba(255.0, 13.0, 87.0, 0.06983561101208159)\">0.025</th><th style=\"background:rgba(255.0, 13.0, 87.0, 0.08560110913052081)\">0.029</th><th style=\"background:rgba(255.0, 13.0, 87.0, 0.1171321053673995)\">0.039</th><th style=\"background:rgba(255.0, 13.0, 87.0, 0.02253911665676371)\">0.01</th><th style=\"background:rgba(255.0, 13.0, 87.0, 0.02253911665676371)\">0.009</th><th style=\"background:rgba(255.0, 13.0, 87.0, 0.17231134878193693)\">0.059</th><th style=\"background:rgba(255.0, 13.0, 87.0, 0.16442859972271742)\">0.057</th></tr><tr><th>,</th><th style=\"background:rgba(255.0, 13.0, 87.0, 0.18019409784115661)\">0.062</th><th style=\"background:rgba(255.0, 13.0, 87.0, 0.14078035254505847)\">0.047</th><th style=\"background:rgba(255.0, 13.0, 87.0, 0.08560110913052081)\">0.031</th><th style=\"background:rgba(255.0, 13.0, 87.0, 0.14866310160427795)\">0.05</th><th style=\"background:rgba(255.0, 13.0, 87.0, 0.12501485442661908)\">0.044</th><th style=\"background:rgba(255.0, 13.0, 87.0, 0.14866310160427795)\">0.05</th><th style=\"background:rgba(255.0, 13.0, 87.0, 0.14866310160427795)\">0.05</th><th style=\"background:rgba(255.0, 13.0, 87.0, 0.12501485442661908)\">0.042</th><th style=\"background:rgba(255.0, 13.0, 87.0, 0.12501485442661908)\">0.042</th><th style=\"background:rgba(255.0, 13.0, 87.0, 0.08560110913052081)\">0.03</th><th style=\"background:rgba(255.0, 13.0, 87.0, 0.030421865715983164)\">0.012</th><th style=\"background:rgba(255.0, 13.0, 87.0, 0.03830461477520289)\">0.015</th><th style=\"background:rgba(255.0, 13.0, 87.0, 0.04618736383442265)\">0.017</th><th style=\"background:rgba(255.0, 13.0, 87.0, 0.05407011289364243)\">0.02</th><th style=\"background:rgba(255.0, 13.0, 87.0, 0.07771836007130124)\">0.027</th><th style=\"background:rgba(255.0, 13.0, 87.0, 0.030421865715983164)\">0.013</th><th style=\"background:rgba(255.0, 13.0, 87.0, 0.014656367597544035)\">0.006</th><th style=\"background:rgba(255.0, 13.0, 87.0, 0.1171321053673995)\">0.04</th><th style=\"background:rgba(255.0, 13.0, 87.0, 0.10924935630817992)\">0.037</th></tr><tr><th>▁hope</th><th style=\"background:rgba(255.0, 13.0, 87.0, 0.24325609031491383)\">0.082</th><th style=\"background:rgba(255.0, 13.0, 87.0, 0.17231134878193693)\">0.06</th><th style=\"background:rgba(255.0, 13.0, 87.0, 0.10136660724896006)\">0.034</th><th style=\"background:rgba(255.0, 13.0, 87.0, 0.16442859972271742)\">0.056</th><th style=\"background:rgba(255.0, 13.0, 87.0, 0.14078035254505847)\">0.048</th><th style=\"background:rgba(255.0, 13.0, 87.0, 0.16442859972271742)\">0.055</th><th style=\"background:rgba(255.0, 13.0, 87.0, 0.6846900376312143)\">0.227</th><th style=\"background:rgba(255.0, 13.0, 87.0, 0.23537334125569415)\">0.079</th><th style=\"background:rgba(255.0, 13.0, 87.0, 0.16442859972271742)\">0.057</th><th style=\"background:rgba(255.0, 13.0, 87.0, 0.14866310160427795)\">0.05</th><th style=\"background:rgba(255.0, 13.0, 87.0, 0.10924935630817992)\">0.036</th><th style=\"background:rgba(255.0, 13.0, 87.0, 0.12501485442661908)\">0.044</th><th style=\"background:rgba(255.0, 13.0, 87.0, 0.08560110913052081)\">0.029</th><th style=\"background:rgba(255.0, 13.0, 87.0, 0.06983561101208159)\">0.026</th><th style=\"background:rgba(255.0, 13.0, 87.0, 0.08560110913052081)\">0.03</th><th style=\"background:rgba(255.0, 13.0, 87.0, 0.030421865715983164)\">0.012</th><th style=\"background:rgba(255.0, 13.0, 87.0, 0.02253911665676371)\">0.008</th><th style=\"background:rgba(255.0, 13.0, 87.0, 0.13289760348583876)\">0.046</th><th style=\"background:rgba(255.0, 13.0, 87.0, 0.12501485442661908)\">0.043</th></tr><tr><th>▁you</th><th style=\"background:rgba(255.0, 13.0, 87.0, 0.10136660724896006)\">0.036</th><th style=\"background:rgba(255.0, 13.0, 87.0, 0.08560110913052081)\">0.029</th><th style=\"background:rgba(255.0, 13.0, 87.0, 0.03830461477520289)\">0.014</th><th style=\"background:rgba(255.0, 13.0, 87.0, 0.08560110913052081)\">0.031</th><th style=\"background:rgba(255.0, 13.0, 87.0, 0.06195286195286207)\">0.023</th><th style=\"background:rgba(255.0, 13.0, 87.0, 0.09348385818974037)\">0.033</th><th style=\"background:rgba(255.0, 13.0, 87.0, 0.12501485442661908)\">0.042</th><th style=\"background:rgba(255.0, 13.0, 87.0, 0.09348385818974037)\">0.033</th><th style=\"background:rgba(255.0, 13.0, 87.0, 0.09348385818974037)\">0.033</th><th style=\"background:rgba(255.0, 13.0, 87.0, 0.08560110913052081)\">0.031</th><th style=\"background:rgba(255.0, 13.0, 87.0, 0.05407011289364243)\">0.019</th><th style=\"background:rgba(255.0, 13.0, 87.0, 0.04618736383442265)\">0.018</th><th style=\"background:rgba(255.0, 13.0, 87.0, 0.030421865715983164)\">0.012</th><th style=\"background:rgba(255.0, 13.0, 87.0, 0.04618736383442265)\">0.017</th><th style=\"background:rgba(255.0, 13.0, 87.0, 0.05407011289364243)\">0.019</th><th style=\"background:rgba(255.0, 13.0, 87.0, 0.014656367597544035)\">0.007</th><th style=\"background:rgba(255.0, 13.0, 87.0, 0.00677361853832443)\">0.005</th><th style=\"background:rgba(255.0, 13.0, 87.0, 0.08560110913052081)\">0.03</th><th style=\"background:rgba(255.0, 13.0, 87.0, 0.07771836007130124)\">0.027</th></tr><tr><th>'</th><th style=\"background:rgba(255.0, 13.0, 87.0, 0.13289760348583876)\">0.045</th><th style=\"background:rgba(255.0, 13.0, 87.0, 0.10136660724896006)\">0.036</th><th style=\"background:rgba(255.0, 13.0, 87.0, 0.03830461477520289)\">0.014</th><th style=\"background:rgba(255.0, 13.0, 87.0, 0.10136660724896006)\">0.036</th><th style=\"background:rgba(255.0, 13.0, 87.0, 0.06983561101208159)\">0.024</th><th style=\"background:rgba(255.0, 13.0, 87.0, 0.14078035254505847)\">0.048</th><th style=\"background:rgba(255.0, 13.0, 87.0, 0.10136660724896006)\">0.035</th><th style=\"background:rgba(255.0, 13.0, 87.0, 0.10924935630817992)\">0.039</th><th style=\"background:rgba(255.0, 13.0, 87.0, 0.10136660724896006)\">0.036</th><th style=\"background:rgba(255.0, 13.0, 87.0, 0.13289760348583876)\">0.046</th><th style=\"background:rgba(255.0, 13.0, 87.0, 0.06983561101208159)\">0.024</th><th style=\"background:rgba(255.0, 13.0, 87.0, 0.06195286195286207)\">0.022</th><th style=\"background:rgba(255.0, 13.0, 87.0, 0.04618736383442265)\">0.016</th><th style=\"background:rgba(255.0, 13.0, 87.0, 0.06195286195286207)\">0.022</th><th style=\"background:rgba(255.0, 13.0, 87.0, 0.07771836007130124)\">0.027</th><th style=\"background:rgba(255.0, 13.0, 87.0, 0.02253911665676371)\">0.01</th><th style=\"background:rgba(255.0, 13.0, 87.0, 0.014656367597544035)\">0.006</th><th style=\"background:rgba(255.0, 13.0, 87.0, 0.1171321053673995)\">0.039</th><th style=\"background:rgba(255.0, 13.0, 87.0, 0.10136660724896006)\">0.034</th></tr><tr><th>re</th><th style=\"background:rgba(255.0, 13.0, 87.0, 0.1171321053673995)\">0.04</th><th style=\"background:rgba(255.0, 13.0, 87.0, 0.08560110913052081)\">0.03</th><th style=\"background:rgba(255.0, 13.0, 87.0, 0.030421865715983164)\">0.011</th><th style=\"background:rgba(255.0, 13.0, 87.0, 0.10136660724896006)\">0.035</th><th style=\"background:rgba(255.0, 13.0, 87.0, 0.06195286195286207)\">0.021</th><th style=\"background:rgba(255.0, 13.0, 87.0, 0.12501485442661908)\">0.043</th><th style=\"background:rgba(255.0, 13.0, 87.0, 0.08560110913052081)\">0.03</th><th style=\"background:rgba(255.0, 13.0, 87.0, 0.10136660724896006)\">0.034</th><th style=\"background:rgba(255.0, 13.0, 87.0, 0.10136660724896006)\">0.035</th><th style=\"background:rgba(255.0, 13.0, 87.0, 0.14078035254505847)\">0.047</th><th style=\"background:rgba(255.0, 13.0, 87.0, 0.06195286195286207)\">0.021</th><th style=\"background:rgba(255.0, 13.0, 87.0, 0.07771836007130124)\">0.027</th><th style=\"background:rgba(255.0, 13.0, 87.0, 0.04618736383442265)\">0.017</th><th style=\"background:rgba(255.0, 13.0, 87.0, 0.05407011289364243)\">0.019</th><th style=\"background:rgba(255.0, 13.0, 87.0, 0.06195286195286207)\">0.023</th><th style=\"background:rgba(255.0, 13.0, 87.0, 0.014656367597544035)\">0.007</th><th style=\"background:rgba(255.0, 13.0, 87.0, 0.02253911665676371)\">0.008</th><th style=\"background:rgba(255.0, 13.0, 87.0, 0.10924935630817992)\">0.036</th><th style=\"background:rgba(255.0, 13.0, 87.0, 0.09348385818974037)\">0.032</th></tr><tr><th>▁enjoying</th><th style=\"background:rgba(255.0, 13.0, 87.0, 0.2747870865517925)\">0.091</th><th style=\"background:rgba(255.0, 13.0, 87.0, 0.1959595959595959)\">0.066</th><th style=\"background:rgba(255.0, 13.0, 87.0, 0.09348385818974037)\">0.031</th><th style=\"background:rgba(255.0, 13.0, 87.0, 0.1959595959595959)\">0.066</th><th style=\"background:rgba(255.0, 13.0, 87.0, 0.14866310160427795)\">0.052</th><th style=\"background:rgba(255.0, 13.0, 87.0, 0.2747870865517925)\">0.093</th><th style=\"background:rgba(255.0, 13.0, 87.0, 0.2826698356110118)\">0.096</th><th style=\"background:rgba(255.0, 13.0, 87.0, 0.29843533372945136)\">0.101</th><th style=\"background:rgba(255.0, 13.0, 87.0, 0.4797385620915033)\">0.159</th><th style=\"background:rgba(255.0, 13.0, 87.0, 0.5112695583283818)\">0.17</th><th style=\"background:rgba(255.0, 13.0, 87.0, 0.5428005545652606)\">0.181</th><th style=\"background:rgba(255.0, 13.0, 87.0, 0.9211725094078035)\">0.305</th><th style=\"background:rgba(255.0, 13.0, 87.0, 0.26690433749257286)\">0.089</th><th style=\"background:rgba(255.0, 13.0, 87.0, 0.14078035254505847)\">0.049</th><th style=\"background:rgba(255.0, 13.0, 87.0, 0.15654585066349747)\">0.052</th><th style=\"background:rgba(255.0, 13.0, 87.0, 0.07771836007130124)\">0.026</th><th style=\"background:rgba(255.0, 13.0, 87.0, 0.06195286195286207)\">0.021</th><th style=\"background:rgba(255.0, 13.0, 87.0, 0.2590215884333532)\">0.088</th><th style=\"background:rgba(255.0, 13.0, 87.0, 0.22749059219647458)\">0.078</th></tr><tr><th>▁the</th><th style=\"background:rgba(255.0, 13.0, 87.0, 0.09348385818974037)\">0.032</th><th style=\"background:rgba(255.0, 13.0, 87.0, 0.06195286195286207)\">0.023</th><th style=\"background:rgba(255.0, 13.0, 87.0, 0.030421865715983164)\">0.011</th><th style=\"background:rgba(255.0, 13.0, 87.0, 0.06195286195286207)\">0.022</th><th style=\"background:rgba(255.0, 13.0, 87.0, 0.03830461477520289)\">0.015</th><th style=\"background:rgba(255.0, 13.0, 87.0, 0.08560110913052081)\">0.029</th><th style=\"background:rgba(255.0, 13.0, 87.0, 0.06983561101208159)\">0.025</th><th style=\"background:rgba(255.0, 13.0, 87.0, 0.07771836007130124)\">0.028</th><th style=\"background:rgba(255.0, 13.0, 87.0, 0.12501485442661908)\">0.042</th><th style=\"background:rgba(255.0, 13.0, 87.0, 0.10924935630817992)\">0.038</th><th style=\"background:rgba(255.0, 13.0, 87.0, 0.10924935630817992)\">0.037</th><th style=\"background:rgba(255.0, 13.0, 87.0, 0.18019409784115661)\">0.062</th><th style=\"background:rgba(255.0, 13.0, 87.0, 0.06195286195286207)\">0.023</th><th style=\"background:rgba(255.0, 13.0, 87.0, 0.12501485442661908)\">0.043</th><th style=\"background:rgba(255.0, 13.0, 87.0, 0.10924935630817992)\">0.038</th><th style=\"background:rgba(255.0, 13.0, 87.0, 0.12501485442661908)\">0.042</th><th style=\"background:rgba(255.0, 13.0, 87.0, 0.07771836007130124)\">0.029</th><th style=\"background:rgba(255.0, 13.0, 87.0, 0.07771836007130124)\">0.027</th><th style=\"background:rgba(255.0, 13.0, 87.0, 0.06983561101208159)\">0.025</th></tr><tr><th>▁tutor</th><th style=\"background:rgba(255.0, 13.0, 87.0, 0.2747870865517925)\">0.093</th><th style=\"background:rgba(255.0, 13.0, 87.0, 0.2117250940780353)\">0.071</th><th style=\"background:rgba(255.0, 13.0, 87.0, 0.13289760348583876)\">0.045</th><th style=\"background:rgba(255.0, 13.0, 87.0, 0.1959595959595959)\">0.066</th><th style=\"background:rgba(255.0, 13.0, 87.0, 0.12501485442661908)\">0.043</th><th style=\"background:rgba(255.0, 13.0, 87.0, 0.26690433749257286)\">0.089</th><th style=\"background:rgba(255.0, 13.0, 87.0, 0.17231134878193693)\">0.059</th><th style=\"background:rgba(255.0, 13.0, 87.0, 0.2117250940780353)\">0.07</th><th style=\"background:rgba(255.0, 13.0, 87.0, 0.2826698356110118)\">0.094</th><th style=\"background:rgba(255.0, 13.0, 87.0, 0.2590215884333532)\">0.087</th><th style=\"background:rgba(255.0, 13.0, 87.0, 0.1959595959595959)\">0.067</th><th style=\"background:rgba(255.0, 13.0, 87.0, 0.3693800752624282)\">0.122</th><th style=\"background:rgba(255.0, 13.0, 87.0, 0.14866310160427795)\">0.051</th><th style=\"background:rgba(255.0, 13.0, 87.0, 0.8738760150524857)\">0.289</th><th style=\"background:rgba(255.0, 13.0, 87.0, 0.7714002772826303)\">0.255</th><th style=\"background:rgba(255.0, 13.0, 87.0, 1.0)\">0.332</th><th style=\"background:rgba(255.0, 13.0, 87.0, 0.46397306397306415)\">0.154</th><th style=\"background:rgba(255.0, 13.0, 87.0, 0.2511388393741335)\">0.085</th><th style=\"background:rgba(255.0, 13.0, 87.0, 0.2117250940780353)\">0.073</th></tr><tr><th>ial</th><th style=\"background:rgba(255.0, 13.0, 87.0, 0.10924935630817992)\">0.037</th><th style=\"background:rgba(255.0, 13.0, 87.0, 0.09348385818974037)\">0.032</th><th style=\"background:rgba(255.0, 13.0, 87.0, 0.06195286195286207)\">0.021</th><th style=\"background:rgba(255.0, 13.0, 87.0, 0.08560110913052081)\">0.03</th><th style=\"background:rgba(255.0, 13.0, 87.0, 0.06195286195286207)\">0.021</th><th style=\"background:rgba(255.0, 13.0, 87.0, 0.10924935630817992)\">0.038</th><th style=\"background:rgba(255.0, 13.0, 87.0, 0.09348385818974037)\">0.032</th><th style=\"background:rgba(255.0, 13.0, 87.0, 0.10924935630817992)\">0.038</th><th style=\"background:rgba(255.0, 13.0, 87.0, 0.15654585066349747)\">0.054</th><th style=\"background:rgba(255.0, 13.0, 87.0, 0.13289760348583876)\">0.046</th><th style=\"background:rgba(255.0, 13.0, 87.0, 0.1171321053673995)\">0.039</th><th style=\"background:rgba(255.0, 13.0, 87.0, 0.20384234501881549)\">0.068</th><th style=\"background:rgba(255.0, 13.0, 87.0, 0.1171321053673995)\">0.04</th><th style=\"background:rgba(255.0, 13.0, 87.0, 0.44032481679540497)\">0.146</th><th style=\"background:rgba(255.0, 13.0, 87.0, 0.2511388393741335)\">0.085</th><th style=\"background:rgba(255.0, 13.0, 87.0, 0.5270350564468211)\">0.174</th><th style=\"background:rgba(255.0, 13.0, 87.0, 0.7083382848088731)\">0.236</th><th style=\"background:rgba(255.0, 13.0, 87.0, 0.12501485442661908)\">0.043</th><th style=\"background:rgba(255.0, 13.0, 87.0, 0.10136660724896006)\">0.035</th></tr><tr><th>!</th><th style=\"background:rgba(255.0, 13.0, 87.0, 0.15654585066349747)\">0.054</th><th style=\"background:rgba(255.0, 13.0, 87.0, 0.10924935630817992)\">0.037</th><th style=\"background:rgba(255.0, 13.0, 87.0, 0.1171321053673995)\">0.041</th><th style=\"background:rgba(255.0, 13.0, 87.0, 0.10136660724896006)\">0.036</th><th style=\"background:rgba(255.0, 13.0, 87.0, 0.08560110913052081)\">0.03</th><th style=\"background:rgba(255.0, 13.0, 87.0, 0.15654585066349747)\">0.054</th><th style=\"background:rgba(255.0, 13.0, 87.0, 0.08560110913052081)\">0.031</th><th style=\"background:rgba(255.0, 13.0, 87.0, 0.10924935630817992)\">0.038</th><th style=\"background:rgba(255.0, 13.0, 87.0, 0.1171321053673995)\">0.04</th><th style=\"background:rgba(255.0, 13.0, 87.0, 0.10136660724896006)\">0.035</th><th style=\"background:rgba(255.0, 13.0, 87.0, 0.03830461477520289)\">0.013</th><th style=\"background:rgba(255.0, 13.0, 87.0, 0.04618736383442265)\">0.016</th><th style=\"background:rgba(255.0, 13.0, 87.0, 0.12501485442661908)\">0.042</th><th style=\"background:rgba(255.0, 13.0, 87.0, 0.06983561101208159)\">0.025</th><th style=\"background:rgba(255.0, 13.0, 87.0, 0.08560110913052081)\">0.029</th><th style=\"background:rgba(255.0, 13.0, 87.0, 0.03830461477520289)\">0.015</th><th style=\"background:rgba(255.0, 13.0, 87.0, 0.06195286195286207)\">0.022</th><th style=\"background:rgba(255.0, 13.0, 87.0, 0.2117250940780353)\">0.071</th><th style=\"background:rgba(255.0, 13.0, 87.0, 0.14078035254505847)\">0.048</th></tr><tr><th>&lt;/s&gt;</th><th style=\"background:rgba(255.0, 13.0, 87.0, 0.14866310160427795)\">0.051</th><th style=\"background:rgba(255.0, 13.0, 87.0, 0.09348385818974037)\">0.033</th><th style=\"background:rgba(255.0, 13.0, 87.0, 0.06983561101208159)\">0.024</th><th style=\"background:rgba(255.0, 13.0, 87.0, 0.10136660724896006)\">0.035</th><th style=\"background:rgba(255.0, 13.0, 87.0, 0.07771836007130124)\">0.027</th><th style=\"background:rgba(255.0, 13.0, 87.0, 0.14866310160427795)\">0.05</th><th style=\"background:rgba(255.0, 13.0, 87.0, 0.07771836007130124)\">0.027</th><th style=\"background:rgba(255.0, 13.0, 87.0, 0.10924935630817992)\">0.037</th><th style=\"background:rgba(255.0, 13.0, 87.0, 0.10924935630817992)\">0.037</th><th style=\"background:rgba(255.0, 13.0, 87.0, 0.10924935630817992)\">0.038</th><th style=\"background:rgba(255.0, 13.0, 87.0, 0.04618736383442265)\">0.018</th><th style=\"background:rgba(255.0, 13.0, 87.0, 0.08560110913052081)\">0.029</th><th style=\"background:rgba(255.0, 13.0, 87.0, 0.06983561101208159)\">0.024</th><th style=\"background:rgba(255.0, 13.0, 87.0, 0.13289760348583876)\">0.045</th><th style=\"background:rgba(255.0, 13.0, 87.0, 0.1171321053673995)\">0.041</th><th style=\"background:rgba(255.0, 13.0, 87.0, 0.14078035254505847)\">0.048</th><th style=\"background:rgba(255.0, 13.0, 87.0, 0.12501485442661908)\">0.043</th><th style=\"background:rgba(255.0, 13.0, 87.0, 0.14866310160427795)\">0.051</th><th style=\"background:rgba(255.0, 13.0, 87.0, 0.13289760348583876)\">0.047</th></tr><tr style=\"outline: thin solid\"><th><b>probability</b></th><th>0.47</th><th><b>0.911</b></th><th><b>0.91</b></th><th><b>0.87</b></th><th><b>0.914</b></th><th><b>0.74</b></th><th><b>0.512</b></th><th>0.489</th><th><b>0.666</b></th><th><b>0.713</b></th><th><b>0.655</b></th><th><b>0.742</b></th><th><b>0.945</b></th><th><b>0.798</b></th><th><b>0.876</b></th><th><b>0.941</b></th><th><b>0.956</b></th><th><b>0.874</b></th><th><b>0.894</b></th></table>\n",
       "</div>\n",
       "\n",
       "        </div>\n",
       "    </div>\n",
       "</div>\n",
       "</html>\n",
       "<br/><b>0th instance:</b><br/>\n",
       "<html>\n",
       "<div id=\"wirkxlggogpxkfzncbcq_viz_container\">\n",
       "    <div id=\"wirkxlggogpxkfzncbcq_content\" style=\"padding:15px;border-style:solid;margin:5px;\">\n",
       "        <div id = \"wirkxlggogpxkfzncbcq_saliency_plot_container\" class=\"wirkxlggogpxkfzncbcq_viz_container\" style=\"display:block\">\n",
       "            \n",
       "<div id=\"gyqpesejzqorvufaigfy_saliency_plot\" class=\"gyqpesejzqorvufaigfy_viz_content\">\n",
       "    <div style=\"margin:5px;font-family:sans-serif;font-weight:bold;\">\n",
       "        <span style=\"font-size: 20px;\">Target Saliency Heatmap</span>\n",
       "        <br>\n",
       "        x: Generated tokens, y: Attributed tokens\n",
       "    </div>\n",
       "    \n",
       "<table border=\"1\" cellpadding=\"5\" cellspacing=\"5\"\n",
       "    style=\"overflow-x:scroll;display:block;\">\n",
       "    <tr><th></th>\n",
       "<th>▁Ci</th><th>a</th><th>o</th><th>▁a</th><th>▁tutti</th><th>,</th><th>▁spero</th><th>▁che</th><th>▁vi</th><th>▁stia</th><th>te</th><th>▁gode</th><th>ndo</th><th>▁il</th><th>▁tu</th><th>tori</th><th>al</th><th>!</th><th>&lt;/s&gt;</th></tr><tr><th>▁Ci</th><th style=\"background:rgba(0.0, 0.0, 0.0, 0.0)\"></th><th style=\"background:rgba(255.0, 13.0, 87.0, 0.6295107942166767)\">0.209</th><th style=\"background:rgba(255.0, 13.0, 87.0, 0.7162210338680925)\">0.238</th><th style=\"background:rgba(255.0, 13.0, 87.0, 0.1959595959595959)\">0.065</th><th style=\"background:rgba(255.0, 13.0, 87.0, 0.22749059219647458)\">0.077</th><th style=\"background:rgba(255.0, 13.0, 87.0, 0.10136660724896006)\">0.035</th><th style=\"background:rgba(255.0, 13.0, 87.0, 0.12501485442661908)\">0.043</th><th style=\"background:rgba(255.0, 13.0, 87.0, 0.05407011289364243)\">0.021</th><th style=\"background:rgba(255.0, 13.0, 87.0, 0.06195286195286207)\">0.022</th><th style=\"background:rgba(255.0, 13.0, 87.0, 0.04618736383442265)\">0.017</th><th style=\"background:rgba(255.0, 13.0, 87.0, 0.030421865715983164)\">0.012</th><th style=\"background:rgba(255.0, 13.0, 87.0, 0.030421865715983164)\">0.012</th><th style=\"background:rgba(255.0, 13.0, 87.0, 0.02253911665676371)\">0.01</th><th style=\"background:rgba(255.0, 13.0, 87.0, 0.030421865715983164)\">0.012</th><th style=\"background:rgba(255.0, 13.0, 87.0, 0.03830461477520289)\">0.014</th><th style=\"background:rgba(255.0, 13.0, 87.0, 0.014656367597544035)\">0.006</th><th style=\"background:rgba(255.0, 13.0, 87.0, 0.014656367597544035)\">0.005</th><th style=\"background:rgba(255.0, 13.0, 87.0, 0.03830461477520289)\">0.014</th><th style=\"background:rgba(255.0, 13.0, 87.0, 0.05407011289364243)\">0.02</th></tr><tr><th>a</th><th style=\"background:rgba(0.0, 0.0, 0.0, 0.0)\"></th><th style=\"background:rgba(0.0, 0.0, 0.0, 0.0)\"></th><th style=\"background:rgba(255.0, 13.0, 87.0, 0.8108140225787285)\">0.268</th><th style=\"background:rgba(255.0, 13.0, 87.0, 0.18019409784115661)\">0.061</th><th style=\"background:rgba(255.0, 13.0, 87.0, 0.2590215884333532)\">0.086</th><th style=\"background:rgba(255.0, 13.0, 87.0, 0.10136660724896006)\">0.035</th><th style=\"background:rgba(255.0, 13.0, 87.0, 0.10924935630817992)\">0.038</th><th style=\"background:rgba(255.0, 13.0, 87.0, 0.06195286195286207)\">0.021</th><th style=\"background:rgba(255.0, 13.0, 87.0, 0.05407011289364243)\">0.02</th><th style=\"background:rgba(255.0, 13.0, 87.0, 0.05407011289364243)\">0.019</th><th style=\"background:rgba(255.0, 13.0, 87.0, 0.02253911665676371)\">0.009</th><th style=\"background:rgba(255.0, 13.0, 87.0, 0.03830461477520289)\">0.014</th><th style=\"background:rgba(255.0, 13.0, 87.0, 0.02253911665676371)\">0.008</th><th style=\"background:rgba(255.0, 13.0, 87.0, 0.030421865715983164)\">0.012</th><th style=\"background:rgba(255.0, 13.0, 87.0, 0.03830461477520289)\">0.015</th><th style=\"background:rgba(255.0, 13.0, 87.0, 0.014656367597544035)\">0.006</th><th style=\"background:rgba(255.0, 13.0, 87.0, 0.00677361853832443)\">0.003</th><th style=\"background:rgba(255.0, 13.0, 87.0, 0.03830461477520289)\">0.014</th><th style=\"background:rgba(255.0, 13.0, 87.0, 0.05407011289364243)\">0.019</th></tr><tr><th>o</th><th style=\"background:rgba(0.0, 0.0, 0.0, 0.0)\"></th><th style=\"background:rgba(0.0, 0.0, 0.0, 0.0)\"></th><th style=\"background:rgba(0.0, 0.0, 0.0, 0.0)\"></th><th style=\"background:rgba(255.0, 13.0, 87.0, 0.22749059219647458)\">0.078</th><th style=\"background:rgba(255.0, 13.0, 87.0, 0.33784907902554967)\">0.113</th><th style=\"background:rgba(255.0, 13.0, 87.0, 0.09348385818974037)\">0.034</th><th style=\"background:rgba(255.0, 13.0, 87.0, 0.1171321053673995)\">0.041</th><th style=\"background:rgba(255.0, 13.0, 87.0, 0.04618736383442265)\">0.018</th><th style=\"background:rgba(255.0, 13.0, 87.0, 0.03830461477520289)\">0.015</th><th style=\"background:rgba(255.0, 13.0, 87.0, 0.03830461477520289)\">0.014</th><th style=\"background:rgba(255.0, 13.0, 87.0, 0.030421865715983164)\">0.012</th><th style=\"background:rgba(255.0, 13.0, 87.0, 0.02253911665676371)\">0.01</th><th style=\"background:rgba(255.0, 13.0, 87.0, 0.014656367597544035)\">0.008</th><th style=\"background:rgba(255.0, 13.0, 87.0, 0.02253911665676371)\">0.009</th><th style=\"background:rgba(255.0, 13.0, 87.0, 0.030421865715983164)\">0.013</th><th style=\"background:rgba(255.0, 13.0, 87.0, 0.00677361853832443)\">0.003</th><th style=\"background:rgba(255.0, 13.0, 87.0, 0.00677361853832443)\">0.003</th><th style=\"background:rgba(255.0, 13.0, 87.0, 0.030421865715983164)\">0.012</th><th style=\"background:rgba(255.0, 13.0, 87.0, 0.04618736383442265)\">0.016</th></tr><tr><th>▁a</th><th style=\"background:rgba(0.0, 0.0, 0.0, 0.0)\"></th><th style=\"background:rgba(0.0, 0.0, 0.0, 0.0)\"></th><th style=\"background:rgba(0.0, 0.0, 0.0, 0.0)\"></th><th style=\"background:rgba(0.0, 0.0, 0.0, 0.0)\"></th><th style=\"background:rgba(255.0, 13.0, 87.0, 0.2826698356110118)\">0.094</th><th style=\"background:rgba(255.0, 13.0, 87.0, 0.08560110913052081)\">0.03</th><th style=\"background:rgba(255.0, 13.0, 87.0, 0.06195286195286207)\">0.023</th><th style=\"background:rgba(255.0, 13.0, 87.0, 0.05407011289364243)\">0.019</th><th style=\"background:rgba(255.0, 13.0, 87.0, 0.03830461477520289)\">0.014</th><th style=\"background:rgba(255.0, 13.0, 87.0, 0.030421865715983164)\">0.011</th><th style=\"background:rgba(255.0, 13.0, 87.0, 0.014656367597544035)\">0.007</th><th style=\"background:rgba(255.0, 13.0, 87.0, 0.02253911665676371)\">0.008</th><th style=\"background:rgba(255.0, 13.0, 87.0, 0.014656367597544035)\">0.006</th><th style=\"background:rgba(255.0, 13.0, 87.0, 0.02253911665676371)\">0.009</th><th style=\"background:rgba(255.0, 13.0, 87.0, 0.030421865715983164)\">0.011</th><th style=\"background:rgba(255.0, 13.0, 87.0, 0.00677361853832443)\">0.004</th><th style=\"background:rgba(230.2941176470614, 26.505882352939775, 102.59215686274348, 0.0)\">0.002</th><th style=\"background:rgba(255.0, 13.0, 87.0, 0.02253911665676371)\">0.01</th><th style=\"background:rgba(255.0, 13.0, 87.0, 0.030421865715983164)\">0.01</th></tr><tr><th>▁tutti</th><th style=\"background:rgba(0.0, 0.0, 0.0, 0.0)\"></th><th style=\"background:rgba(0.0, 0.0, 0.0, 0.0)\"></th><th style=\"background:rgba(0.0, 0.0, 0.0, 0.0)\"></th><th style=\"background:rgba(0.0, 0.0, 0.0, 0.0)\"></th><th style=\"background:rgba(0.0, 0.0, 0.0, 0.0)\"></th><th style=\"background:rgba(255.0, 13.0, 87.0, 0.09348385818974037)\">0.033</th><th style=\"background:rgba(255.0, 13.0, 87.0, 0.07771836007130124)\">0.026</th><th style=\"background:rgba(255.0, 13.0, 87.0, 0.06195286195286207)\">0.021</th><th style=\"background:rgba(255.0, 13.0, 87.0, 0.06983561101208159)\">0.024</th><th style=\"background:rgba(255.0, 13.0, 87.0, 0.030421865715983164)\">0.011</th><th style=\"background:rgba(255.0, 13.0, 87.0, 0.030421865715983164)\">0.011</th><th style=\"background:rgba(255.0, 13.0, 87.0, 0.02253911665676371)\">0.009</th><th style=\"background:rgba(255.0, 13.0, 87.0, 0.014656367597544035)\">0.007</th><th style=\"background:rgba(255.0, 13.0, 87.0, 0.02253911665676371)\">0.008</th><th style=\"background:rgba(255.0, 13.0, 87.0, 0.02253911665676371)\">0.01</th><th style=\"background:rgba(255.0, 13.0, 87.0, 0.00677361853832443)\">0.005</th><th style=\"background:rgba(255.0, 13.0, 87.0, 0.00677361853832443)\">0.003</th><th style=\"background:rgba(255.0, 13.0, 87.0, 0.02253911665676371)\">0.009</th><th style=\"background:rgba(255.0, 13.0, 87.0, 0.030421865715983164)\">0.011</th></tr><tr><th>,</th><th style=\"background:rgba(0.0, 0.0, 0.0, 0.0)\"></th><th style=\"background:rgba(0.0, 0.0, 0.0, 0.0)\"></th><th style=\"background:rgba(0.0, 0.0, 0.0, 0.0)\"></th><th style=\"background:rgba(0.0, 0.0, 0.0, 0.0)\"></th><th style=\"background:rgba(0.0, 0.0, 0.0, 0.0)\"></th><th style=\"background:rgba(0.0, 0.0, 0.0, 0.0)\"></th><th style=\"background:rgba(255.0, 13.0, 87.0, 0.07771836007130124)\">0.027</th><th style=\"background:rgba(255.0, 13.0, 87.0, 0.07771836007130124)\">0.027</th><th style=\"background:rgba(255.0, 13.0, 87.0, 0.02253911665676371)\">0.008</th><th style=\"background:rgba(255.0, 13.0, 87.0, 0.04618736383442265)\">0.016</th><th style=\"background:rgba(255.0, 13.0, 87.0, 0.03830461477520289)\">0.014</th><th style=\"background:rgba(255.0, 13.0, 87.0, 0.02253911665676371)\">0.01</th><th style=\"background:rgba(255.0, 13.0, 87.0, 0.030421865715983164)\">0.011</th><th style=\"background:rgba(255.0, 13.0, 87.0, 0.02253911665676371)\">0.009</th><th style=\"background:rgba(255.0, 13.0, 87.0, 0.030421865715983164)\">0.012</th><th style=\"background:rgba(255.0, 13.0, 87.0, 0.00677361853832443)\">0.004</th><th style=\"background:rgba(255.0, 13.0, 87.0, 0.00677361853832443)\">0.003</th><th style=\"background:rgba(255.0, 13.0, 87.0, 0.030421865715983164)\">0.011</th><th style=\"background:rgba(255.0, 13.0, 87.0, 0.030421865715983164)\">0.012</th></tr><tr><th>▁spero</th><th style=\"background:rgba(0.0, 0.0, 0.0, 0.0)\"></th><th style=\"background:rgba(0.0, 0.0, 0.0, 0.0)\"></th><th style=\"background:rgba(0.0, 0.0, 0.0, 0.0)\"></th><th style=\"background:rgba(0.0, 0.0, 0.0, 0.0)\"></th><th style=\"background:rgba(0.0, 0.0, 0.0, 0.0)\"></th><th style=\"background:rgba(0.0, 0.0, 0.0, 0.0)\"></th><th style=\"background:rgba(0.0, 0.0, 0.0, 0.0)\"></th><th style=\"background:rgba(255.0, 13.0, 87.0, 0.4009110714993067)\">0.134</th><th style=\"background:rgba(255.0, 13.0, 87.0, 0.13289760348583876)\">0.044</th><th style=\"background:rgba(255.0, 13.0, 87.0, 0.17231134878193693)\">0.058</th><th style=\"background:rgba(255.0, 13.0, 87.0, 0.16442859972271742)\">0.055</th><th style=\"background:rgba(255.0, 13.0, 87.0, 0.06195286195286207)\">0.021</th><th style=\"background:rgba(255.0, 13.0, 87.0, 0.08560110913052081)\">0.031</th><th style=\"background:rgba(255.0, 13.0, 87.0, 0.04618736383442265)\">0.017</th><th style=\"background:rgba(255.0, 13.0, 87.0, 0.06195286195286207)\">0.021</th><th style=\"background:rgba(255.0, 13.0, 87.0, 0.02253911665676371)\">0.009</th><th style=\"background:rgba(255.0, 13.0, 87.0, 0.014656367597544035)\">0.006</th><th style=\"background:rgba(255.0, 13.0, 87.0, 0.07771836007130124)\">0.026</th><th style=\"background:rgba(255.0, 13.0, 87.0, 0.06195286195286207)\">0.023</th></tr><tr><th>▁che</th><th style=\"background:rgba(0.0, 0.0, 0.0, 0.0)\"></th><th style=\"background:rgba(0.0, 0.0, 0.0, 0.0)\"></th><th style=\"background:rgba(0.0, 0.0, 0.0, 0.0)\"></th><th style=\"background:rgba(0.0, 0.0, 0.0, 0.0)\"></th><th style=\"background:rgba(0.0, 0.0, 0.0, 0.0)\"></th><th style=\"background:rgba(0.0, 0.0, 0.0, 0.0)\"></th><th style=\"background:rgba(0.0, 0.0, 0.0, 0.0)\"></th><th style=\"background:rgba(0.0, 0.0, 0.0, 0.0)\"></th><th style=\"background:rgba(255.0, 13.0, 87.0, 0.03830461477520289)\">0.013</th><th style=\"background:rgba(255.0, 13.0, 87.0, 0.05407011289364243)\">0.021</th><th style=\"background:rgba(255.0, 13.0, 87.0, 0.14078035254505847)\">0.047</th><th style=\"background:rgba(255.0, 13.0, 87.0, 0.030421865715983164)\">0.012</th><th style=\"background:rgba(255.0, 13.0, 87.0, 0.06195286195286207)\">0.022</th><th style=\"background:rgba(255.0, 13.0, 87.0, 0.02253911665676371)\">0.01</th><th style=\"background:rgba(255.0, 13.0, 87.0, 0.030421865715983164)\">0.011</th><th style=\"background:rgba(255.0, 13.0, 87.0, 0.014656367597544035)\">0.005</th><th style=\"background:rgba(255.0, 13.0, 87.0, 0.014656367597544035)\">0.007</th><th style=\"background:rgba(255.0, 13.0, 87.0, 0.02253911665676371)\">0.01</th><th style=\"background:rgba(255.0, 13.0, 87.0, 0.030421865715983164)\">0.012</th></tr><tr><th>▁vi</th><th style=\"background:rgba(0.0, 0.0, 0.0, 0.0)\"></th><th style=\"background:rgba(0.0, 0.0, 0.0, 0.0)\"></th><th style=\"background:rgba(0.0, 0.0, 0.0, 0.0)\"></th><th style=\"background:rgba(0.0, 0.0, 0.0, 0.0)\"></th><th style=\"background:rgba(0.0, 0.0, 0.0, 0.0)\"></th><th style=\"background:rgba(0.0, 0.0, 0.0, 0.0)\"></th><th style=\"background:rgba(0.0, 0.0, 0.0, 0.0)\"></th><th style=\"background:rgba(0.0, 0.0, 0.0, 0.0)\"></th><th style=\"background:rgba(0.0, 0.0, 0.0, 0.0)\"></th><th style=\"background:rgba(255.0, 13.0, 87.0, 0.09348385818974037)\">0.033</th><th style=\"background:rgba(255.0, 13.0, 87.0, 0.3457318280847692)\">0.117</th><th style=\"background:rgba(255.0, 13.0, 87.0, 0.08560110913052081)\">0.03</th><th style=\"background:rgba(255.0, 13.0, 87.0, 0.13289760348583876)\">0.045</th><th style=\"background:rgba(255.0, 13.0, 87.0, 0.04618736383442265)\">0.018</th><th style=\"background:rgba(255.0, 13.0, 87.0, 0.04618736383442265)\">0.018</th><th style=\"background:rgba(255.0, 13.0, 87.0, 0.00677361853832443)\">0.005</th><th style=\"background:rgba(255.0, 13.0, 87.0, 0.02253911665676371)\">0.009</th><th style=\"background:rgba(255.0, 13.0, 87.0, 0.030421865715983164)\">0.013</th><th style=\"background:rgba(255.0, 13.0, 87.0, 0.030421865715983164)\">0.013</th></tr><tr><th>▁stia</th><th style=\"background:rgba(0.0, 0.0, 0.0, 0.0)\"></th><th style=\"background:rgba(0.0, 0.0, 0.0, 0.0)\"></th><th style=\"background:rgba(0.0, 0.0, 0.0, 0.0)\"></th><th style=\"background:rgba(0.0, 0.0, 0.0, 0.0)\"></th><th style=\"background:rgba(0.0, 0.0, 0.0, 0.0)\"></th><th style=\"background:rgba(0.0, 0.0, 0.0, 0.0)\"></th><th style=\"background:rgba(0.0, 0.0, 0.0, 0.0)\"></th><th style=\"background:rgba(0.0, 0.0, 0.0, 0.0)\"></th><th style=\"background:rgba(0.0, 0.0, 0.0, 0.0)\"></th><th style=\"background:rgba(0.0, 0.0, 0.0, 0.0)\"></th><th style=\"background:rgba(255.0, 13.0, 87.0, 0.5664488017429193)\">0.188</th><th style=\"background:rgba(255.0, 13.0, 87.0, 0.09348385818974037)\">0.032</th><th style=\"background:rgba(255.0, 13.0, 87.0, 0.22749059219647458)\">0.077</th><th style=\"background:rgba(255.0, 13.0, 87.0, 0.06983561101208159)\">0.023</th><th style=\"background:rgba(255.0, 13.0, 87.0, 0.06195286195286207)\">0.023</th><th style=\"background:rgba(255.0, 13.0, 87.0, 0.014656367597544035)\">0.006</th><th style=\"background:rgba(255.0, 13.0, 87.0, 0.014656367597544035)\">0.006</th><th style=\"background:rgba(255.0, 13.0, 87.0, 0.05407011289364243)\">0.02</th><th style=\"background:rgba(255.0, 13.0, 87.0, 0.06195286195286207)\">0.023</th></tr><tr><th>te</th><th style=\"background:rgba(0.0, 0.0, 0.0, 0.0)\"></th><th style=\"background:rgba(0.0, 0.0, 0.0, 0.0)\"></th><th style=\"background:rgba(0.0, 0.0, 0.0, 0.0)\"></th><th style=\"background:rgba(0.0, 0.0, 0.0, 0.0)\"></th><th style=\"background:rgba(0.0, 0.0, 0.0, 0.0)\"></th><th style=\"background:rgba(0.0, 0.0, 0.0, 0.0)\"></th><th style=\"background:rgba(0.0, 0.0, 0.0, 0.0)\"></th><th style=\"background:rgba(0.0, 0.0, 0.0, 0.0)\"></th><th style=\"background:rgba(0.0, 0.0, 0.0, 0.0)\"></th><th style=\"background:rgba(0.0, 0.0, 0.0, 0.0)\"></th><th style=\"background:rgba(0.0, 0.0, 0.0, 0.0)\"></th><th style=\"background:rgba(255.0, 13.0, 87.0, 0.09348385818974037)\">0.032</th><th style=\"background:rgba(255.0, 13.0, 87.0, 0.14866310160427795)\">0.049</th><th style=\"background:rgba(255.0, 13.0, 87.0, 0.03830461477520289)\">0.014</th><th style=\"background:rgba(255.0, 13.0, 87.0, 0.04618736383442265)\">0.016</th><th style=\"background:rgba(255.0, 13.0, 87.0, 0.00677361853832443)\">0.005</th><th style=\"background:rgba(255.0, 13.0, 87.0, 0.014656367597544035)\">0.005</th><th style=\"background:rgba(255.0, 13.0, 87.0, 0.02253911665676371)\">0.009</th><th style=\"background:rgba(255.0, 13.0, 87.0, 0.030421865715983164)\">0.013</th></tr><tr><th>▁gode</th><th style=\"background:rgba(0.0, 0.0, 0.0, 0.0)\"></th><th style=\"background:rgba(0.0, 0.0, 0.0, 0.0)\"></th><th style=\"background:rgba(0.0, 0.0, 0.0, 0.0)\"></th><th style=\"background:rgba(0.0, 0.0, 0.0, 0.0)\"></th><th style=\"background:rgba(0.0, 0.0, 0.0, 0.0)\"></th><th style=\"background:rgba(0.0, 0.0, 0.0, 0.0)\"></th><th style=\"background:rgba(0.0, 0.0, 0.0, 0.0)\"></th><th style=\"background:rgba(0.0, 0.0, 0.0, 0.0)\"></th><th style=\"background:rgba(0.0, 0.0, 0.0, 0.0)\"></th><th style=\"background:rgba(0.0, 0.0, 0.0, 0.0)\"></th><th style=\"background:rgba(0.0, 0.0, 0.0, 0.0)\"></th><th style=\"background:rgba(0.0, 0.0, 0.0, 0.0)\"></th><th style=\"background:rgba(255.0, 13.0, 87.0, 0.8029312735195088)\">0.265</th><th style=\"background:rgba(255.0, 13.0, 87.0, 0.12501485442661908)\">0.042</th><th style=\"background:rgba(255.0, 13.0, 87.0, 0.1171321053673995)\">0.041</th><th style=\"background:rgba(255.0, 13.0, 87.0, 0.06983561101208159)\">0.024</th><th style=\"background:rgba(255.0, 13.0, 87.0, 0.04618736383442265)\">0.016</th><th style=\"background:rgba(255.0, 13.0, 87.0, 0.06195286195286207)\">0.022</th><th style=\"background:rgba(255.0, 13.0, 87.0, 0.08560110913052081)\">0.03</th></tr><tr><th>ndo</th><th style=\"background:rgba(0.0, 0.0, 0.0, 0.0)\"></th><th style=\"background:rgba(0.0, 0.0, 0.0, 0.0)\"></th><th style=\"background:rgba(0.0, 0.0, 0.0, 0.0)\"></th><th style=\"background:rgba(0.0, 0.0, 0.0, 0.0)\"></th><th style=\"background:rgba(0.0, 0.0, 0.0, 0.0)\"></th><th style=\"background:rgba(0.0, 0.0, 0.0, 0.0)\"></th><th style=\"background:rgba(0.0, 0.0, 0.0, 0.0)\"></th><th style=\"background:rgba(0.0, 0.0, 0.0, 0.0)\"></th><th style=\"background:rgba(0.0, 0.0, 0.0, 0.0)\"></th><th style=\"background:rgba(0.0, 0.0, 0.0, 0.0)\"></th><th style=\"background:rgba(0.0, 0.0, 0.0, 0.0)\"></th><th style=\"background:rgba(0.0, 0.0, 0.0, 0.0)\"></th><th style=\"background:rgba(0.0, 0.0, 0.0, 0.0)\"></th><th style=\"background:rgba(255.0, 13.0, 87.0, 0.05407011289364243)\">0.019</th><th style=\"background:rgba(255.0, 13.0, 87.0, 0.030421865715983164)\">0.011</th><th style=\"background:rgba(255.0, 13.0, 87.0, 0.030421865715983164)\">0.01</th><th style=\"background:rgba(255.0, 13.0, 87.0, 0.02253911665676371)\">0.009</th><th style=\"background:rgba(255.0, 13.0, 87.0, 0.014656367597544035)\">0.007</th><th style=\"background:rgba(255.0, 13.0, 87.0, 0.030421865715983164)\">0.011</th></tr><tr><th>▁il</th><th style=\"background:rgba(0.0, 0.0, 0.0, 0.0)\"></th><th style=\"background:rgba(0.0, 0.0, 0.0, 0.0)\"></th><th style=\"background:rgba(0.0, 0.0, 0.0, 0.0)\"></th><th style=\"background:rgba(0.0, 0.0, 0.0, 0.0)\"></th><th style=\"background:rgba(0.0, 0.0, 0.0, 0.0)\"></th><th style=\"background:rgba(0.0, 0.0, 0.0, 0.0)\"></th><th style=\"background:rgba(0.0, 0.0, 0.0, 0.0)\"></th><th style=\"background:rgba(0.0, 0.0, 0.0, 0.0)\"></th><th style=\"background:rgba(0.0, 0.0, 0.0, 0.0)\"></th><th style=\"background:rgba(0.0, 0.0, 0.0, 0.0)\"></th><th style=\"background:rgba(0.0, 0.0, 0.0, 0.0)\"></th><th style=\"background:rgba(0.0, 0.0, 0.0, 0.0)\"></th><th style=\"background:rgba(0.0, 0.0, 0.0, 0.0)\"></th><th style=\"background:rgba(0.0, 0.0, 0.0, 0.0)\"></th><th style=\"background:rgba(255.0, 13.0, 87.0, 0.05407011289364243)\">0.02</th><th style=\"background:rgba(255.0, 13.0, 87.0, 0.09348385818974037)\">0.032</th><th style=\"background:rgba(255.0, 13.0, 87.0, 0.07771836007130124)\">0.028</th><th style=\"background:rgba(255.0, 13.0, 87.0, 0.02253911665676371)\">0.009</th><th style=\"background:rgba(255.0, 13.0, 87.0, 0.02253911665676371)\">0.01</th></tr><tr><th>▁tu</th><th style=\"background:rgba(0.0, 0.0, 0.0, 0.0)\"></th><th style=\"background:rgba(0.0, 0.0, 0.0, 0.0)\"></th><th style=\"background:rgba(0.0, 0.0, 0.0, 0.0)\"></th><th style=\"background:rgba(0.0, 0.0, 0.0, 0.0)\"></th><th style=\"background:rgba(0.0, 0.0, 0.0, 0.0)\"></th><th style=\"background:rgba(0.0, 0.0, 0.0, 0.0)\"></th><th style=\"background:rgba(0.0, 0.0, 0.0, 0.0)\"></th><th style=\"background:rgba(0.0, 0.0, 0.0, 0.0)\"></th><th style=\"background:rgba(0.0, 0.0, 0.0, 0.0)\"></th><th style=\"background:rgba(0.0, 0.0, 0.0, 0.0)\"></th><th style=\"background:rgba(0.0, 0.0, 0.0, 0.0)\"></th><th style=\"background:rgba(0.0, 0.0, 0.0, 0.0)\"></th><th style=\"background:rgba(0.0, 0.0, 0.0, 0.0)\"></th><th style=\"background:rgba(0.0, 0.0, 0.0, 0.0)\"></th><th style=\"background:rgba(0.0, 0.0, 0.0, 0.0)\"></th><th style=\"background:rgba(255.0, 13.0, 87.0, 0.46397306397306415)\">0.154</th><th style=\"background:rgba(255.0, 13.0, 87.0, 0.43244206773618543)\">0.145</th><th style=\"background:rgba(255.0, 13.0, 87.0, 0.03830461477520289)\">0.013</th><th style=\"background:rgba(255.0, 13.0, 87.0, 0.04618736383442265)\">0.016</th></tr><tr><th>tori</th><th style=\"background:rgba(0.0, 0.0, 0.0, 0.0)\"></th><th style=\"background:rgba(0.0, 0.0, 0.0, 0.0)\"></th><th style=\"background:rgba(0.0, 0.0, 0.0, 0.0)\"></th><th style=\"background:rgba(0.0, 0.0, 0.0, 0.0)\"></th><th style=\"background:rgba(0.0, 0.0, 0.0, 0.0)\"></th><th style=\"background:rgba(0.0, 0.0, 0.0, 0.0)\"></th><th style=\"background:rgba(0.0, 0.0, 0.0, 0.0)\"></th><th style=\"background:rgba(0.0, 0.0, 0.0, 0.0)\"></th><th style=\"background:rgba(0.0, 0.0, 0.0, 0.0)\"></th><th style=\"background:rgba(0.0, 0.0, 0.0, 0.0)\"></th><th style=\"background:rgba(0.0, 0.0, 0.0, 0.0)\"></th><th style=\"background:rgba(0.0, 0.0, 0.0, 0.0)\"></th><th style=\"background:rgba(0.0, 0.0, 0.0, 0.0)\"></th><th style=\"background:rgba(0.0, 0.0, 0.0, 0.0)\"></th><th style=\"background:rgba(0.0, 0.0, 0.0, 0.0)\"></th><th style=\"background:rgba(0.0, 0.0, 0.0, 0.0)\"></th><th style=\"background:rgba(255.0, 13.0, 87.0, 0.5585660526836996)\">0.186</th><th style=\"background:rgba(255.0, 13.0, 87.0, 0.03830461477520289)\">0.013</th><th style=\"background:rgba(255.0, 13.0, 87.0, 0.030421865715983164)\">0.013</th></tr><tr><th>al</th><th style=\"background:rgba(0.0, 0.0, 0.0, 0.0)\"></th><th style=\"background:rgba(0.0, 0.0, 0.0, 0.0)\"></th><th style=\"background:rgba(0.0, 0.0, 0.0, 0.0)\"></th><th style=\"background:rgba(0.0, 0.0, 0.0, 0.0)\"></th><th style=\"background:rgba(0.0, 0.0, 0.0, 0.0)\"></th><th style=\"background:rgba(0.0, 0.0, 0.0, 0.0)\"></th><th style=\"background:rgba(0.0, 0.0, 0.0, 0.0)\"></th><th style=\"background:rgba(0.0, 0.0, 0.0, 0.0)\"></th><th style=\"background:rgba(0.0, 0.0, 0.0, 0.0)\"></th><th style=\"background:rgba(0.0, 0.0, 0.0, 0.0)\"></th><th style=\"background:rgba(0.0, 0.0, 0.0, 0.0)\"></th><th style=\"background:rgba(0.0, 0.0, 0.0, 0.0)\"></th><th style=\"background:rgba(0.0, 0.0, 0.0, 0.0)\"></th><th style=\"background:rgba(0.0, 0.0, 0.0, 0.0)\"></th><th style=\"background:rgba(0.0, 0.0, 0.0, 0.0)\"></th><th style=\"background:rgba(0.0, 0.0, 0.0, 0.0)\"></th><th style=\"background:rgba(0.0, 0.0, 0.0, 0.0)\"></th><th style=\"background:rgba(255.0, 13.0, 87.0, 0.03830461477520289)\">0.014</th><th style=\"background:rgba(255.0, 13.0, 87.0, 0.04618736383442265)\">0.017</th></tr><tr><th>!</th><th style=\"background:rgba(0.0, 0.0, 0.0, 0.0)\"></th><th style=\"background:rgba(0.0, 0.0, 0.0, 0.0)\"></th><th style=\"background:rgba(0.0, 0.0, 0.0, 0.0)\"></th><th style=\"background:rgba(0.0, 0.0, 0.0, 0.0)\"></th><th style=\"background:rgba(0.0, 0.0, 0.0, 0.0)\"></th><th style=\"background:rgba(0.0, 0.0, 0.0, 0.0)\"></th><th style=\"background:rgba(0.0, 0.0, 0.0, 0.0)\"></th><th style=\"background:rgba(0.0, 0.0, 0.0, 0.0)\"></th><th style=\"background:rgba(0.0, 0.0, 0.0, 0.0)\"></th><th style=\"background:rgba(0.0, 0.0, 0.0, 0.0)\"></th><th style=\"background:rgba(0.0, 0.0, 0.0, 0.0)\"></th><th style=\"background:rgba(0.0, 0.0, 0.0, 0.0)\"></th><th style=\"background:rgba(0.0, 0.0, 0.0, 0.0)\"></th><th style=\"background:rgba(0.0, 0.0, 0.0, 0.0)\"></th><th style=\"background:rgba(0.0, 0.0, 0.0, 0.0)\"></th><th style=\"background:rgba(0.0, 0.0, 0.0, 0.0)\"></th><th style=\"background:rgba(0.0, 0.0, 0.0, 0.0)\"></th><th style=\"background:rgba(0.0, 0.0, 0.0, 0.0)\"></th><th style=\"background:rgba(255.0, 13.0, 87.0, 0.15654585066349747)\">0.053</th></tr><tr><th>&lt;/s&gt;</th><th style=\"background:rgba(0.0, 0.0, 0.0, 0.0)\"></th><th style=\"background:rgba(0.0, 0.0, 0.0, 0.0)\"></th><th style=\"background:rgba(0.0, 0.0, 0.0, 0.0)\"></th><th style=\"background:rgba(0.0, 0.0, 0.0, 0.0)\"></th><th style=\"background:rgba(0.0, 0.0, 0.0, 0.0)\"></th><th style=\"background:rgba(0.0, 0.0, 0.0, 0.0)\"></th><th style=\"background:rgba(0.0, 0.0, 0.0, 0.0)\"></th><th style=\"background:rgba(0.0, 0.0, 0.0, 0.0)\"></th><th style=\"background:rgba(0.0, 0.0, 0.0, 0.0)\"></th><th style=\"background:rgba(0.0, 0.0, 0.0, 0.0)\"></th><th style=\"background:rgba(0.0, 0.0, 0.0, 0.0)\"></th><th style=\"background:rgba(0.0, 0.0, 0.0, 0.0)\"></th><th style=\"background:rgba(0.0, 0.0, 0.0, 0.0)\"></th><th style=\"background:rgba(0.0, 0.0, 0.0, 0.0)\"></th><th style=\"background:rgba(0.0, 0.0, 0.0, 0.0)\"></th><th style=\"background:rgba(0.0, 0.0, 0.0, 0.0)\"></th><th style=\"background:rgba(0.0, 0.0, 0.0, 0.0)\"></th><th style=\"background:rgba(0.0, 0.0, 0.0, 0.0)\"></th><th style=\"background:rgba(0.0, 0.0, 0.0, 0.0)\"></th></tr><tr style=\"outline: thin solid\"><th><b>probability</b></th><th>0.47</th><th><b>0.911</b></th><th><b>0.91</b></th><th><b>0.87</b></th><th><b>0.914</b></th><th><b>0.74</b></th><th><b>0.512</b></th><th>0.489</th><th><b>0.666</b></th><th><b>0.713</b></th><th><b>0.655</b></th><th><b>0.742</b></th><th><b>0.945</b></th><th><b>0.798</b></th><th><b>0.876</b></th><th><b>0.941</b></th><th><b>0.956</b></th><th><b>0.874</b></th><th><b>0.894</b></th></table>\n",
       "</div>\n",
       "\n",
       "        </div>\n",
       "    </div>\n",
       "</div>\n",
       "</html>\n"
      ],
      "text/plain": [
       "<IPython.core.display.HTML object>"
      ]
     },
     "metadata": {},
     "output_type": "display_data"
    }
   ],
   "source": [
    "import inseq\n",
    "\n",
    "# Load the model Helsinki-NLP/opus-mt-en-fr (6-layer encoder-decoder transformer) from the \n",
    "# Huggingface Hub and hook it with the Input X Gradient feature attribution method\n",
    "model = inseq.load_model(\"Helsinki-NLP/opus-mt-en-it\", \"input_x_gradient\")\n",
    "\n",
    "# Generate the translation for input_texts and attribute inputs at every steps of the generation\n",
    "# attribute_target=True is used to include the target prefix in the attributed inputs (2nd matrix)\n",
    "# step scores are computed at every step and returned alongsides attribution scores\n",
    "out = model.attribute(\n",
    "    input_texts=\"Hello everyone, hope you're enjoying the tutorial!\",\n",
    "    attribute_target=True,\n",
    "    step_scores=[\"probability\"]\n",
    ")\n",
    "# Visualize the attributions and step scores\n",
    "out.show()"
   ]
  },
  {
   "attachments": {},
   "cell_type": "markdown",
   "metadata": {},
   "source": [
    "The `attribute` method supports a wide range of customizations. Among others:\n",
    "\n",
    "- Specifying one string in `generated_texts` for every sentence in `input_texts` allows attributing custom generation outputs (i.e. *constrained decoding*). This can be useful to answer questions such as *\"How would the following output be justified in light of the inputs by the model?\"*, or to analyze minimal pairs.\n",
    "\n",
    "- `attribute_target`: Specific to encoder-decoder models, can be used to specify that target-side prefix should also be attributed besides the original source-to-target attribution. This would populate the `target_attribution` filed in the output, which would otherwise be left empty. In the decoder-only case, the parameter is not used since only the prefix is attributed by default, and there is no source sequence.\n",
    "\n",
    "- `step_scores` allows for computing custom scores at every generation step, with some such as token `probability` and output distribution `entropy` being defined by default in Inseq.\n",
    "\n",
    "- `attributed_fn` allows defining a custom output function for the model, enabling advanced use cases such as [contrastive explanations](https://arxiv.org/abs/2202.10419).\n",
    "\n",
    "### The FeatureAttributionOutput class\n",
    "\n",
    "The output returned by the `model.attribute` function contains attribution tensors, plus rich information regarding the attribution settings:"
   ]
  },
  {
   "cell_type": "code",
   "execution_count": 2,
   "metadata": {},
   "outputs": [
    {
     "data": {
      "text/plain": [
       "FeatureAttributionOutput({\n",
       "    sequence_attributions: list with 1 elements of type GranularFeatureAttributionSequenceOutput:[\n",
       "        GranularFeatureAttributionSequenceOutput({\n",
       "            source: list with 14 elements of type TokenWithId:[\n",
       "                '▁H', 'ello', '▁everyone', ',', '▁hope', '▁you', ''', 're', '▁enjoying', '▁the', '▁tutor', 'ial', '!', '</s>'\n",
       "            ],\n",
       "            target: list with 19 elements of type TokenWithId:[\n",
       "                '▁Ci', 'a', 'o', '▁a', '▁tutti', ',', '▁spero', '▁che', '▁vi', '▁stia', 'te', '▁gode', 'ndo', '▁il', '▁tu', 'tori', 'al', '!', '</s>'\n",
       "            ],\n",
       "            source_attributions: torch.float32 tensor of shape [14, 19, 512] on cpu,\n",
       "            target_attributions: torch.float32 tensor of shape [19, 19, 512] on cpu,\n",
       "            step_scores: {\n",
       "                probability: torch.float32 tensor of shape [19] on cpu: [\n",
       "                     0.47,  0.91,  0.91,  0.87,  0.91,  0.74,  0.51,  0.49,  0.67,  0.71,  0.65,  0.74,  0.95,  0.80,  0.88,  0.94,  0.96,  0.87,  0.89\n",
       "                ],\n",
       "            },\n",
       "            sequence_scores: {},\n",
       "            attr_pos_start: 0,\n",
       "            attr_pos_end: 19,\n",
       "        })\n",
       "    ],\n",
       "    step_attributions: None,\n",
       "    info: {\n",
       "        attribution_method: input_x_gradient,\n",
       "        attr_pos_start: 1,\n",
       "        attr_pos_end: 20,\n",
       "        output_step_attributions: False,\n",
       "        attribute_target: True,\n",
       "        step_scores: list with 1 elements of type str:[\n",
       "            'probability'\n",
       "        ],\n",
       "        exec_time: 0.777145,\n",
       "        model_name: Helsinki-NLP/opus-mt-en-it,\n",
       "        model_class: MarianMTModel,\n",
       "        tokenizer_name: None,\n",
       "        tokenizer_class: MarianTokenizer,\n",
       "        include_eos_baseline: False,\n",
       "        attributed_fn: probability_fn,\n",
       "        attribution_args: {},\n",
       "        attributed_fn_args: {},\n",
       "        step_scores_args: {},\n",
       "        input_texts: list with 1 elements of type str:[\n",
       "            'Hello everyone, hope you're enjoying the tutorial!'\n",
       "        ],\n",
       "        generated_texts: list with 1 elements of type str:[\n",
       "            'Ciao a tutti, spero che vi stiate godendo il tutorial!'\n",
       "        ],\n",
       "        generation_args: {},\n",
       "        constrained_decoding: False,\n",
       "        generate_from_target_prefix: False,\n",
       "    },\n",
       "})"
      ]
     },
     "execution_count": 2,
     "metadata": {},
     "output_type": "execute_result"
    }
   ],
   "source": [
    "out"
   ]
  },
  {
   "attachments": {},
   "cell_type": "markdown",
   "metadata": {},
   "source": [
    "Here is an explanation of the various fields:\n",
    "\n",
    "- `sequence_attributions` is a list containing a `FeatureAttributionSequenceOutput` per attributed sequence (in this case just one). These object contain the main information derived from the attribution process, including `source_attributions` and `target_attributions`, the tokenized `source` and `target` sequences and all `step_scores` that were computed for the generation.\n",
    "\n",
    "- `step_scores` are usually empty, but can be filled with `FeatureAttributionStepOutput` (per-step attributions across all examples instead of per-example attributions across all-steps, like `sequence_attributions`) by passing the parameter `output_step_attributions=True` to `model.attribute()`.\n",
    "\n",
    "- `info` is a dictionary containing a lot of information about the overall process, including attributed model and attribution methods, execution time and all parameters that were used for generation and attribution.\n",
    "\n",
    "Both the `FeatureAttributionSequenceOutput` class and the visualization can be easily serialized as follows, to be reloaded later on for analysis:"
   ]
  },
  {
   "cell_type": "code",
   "execution_count": 8,
   "metadata": {},
   "outputs": [],
   "source": [
    "out.save(\"marian_en_it_attribution.json\")\n",
    "\n",
    "# Reload the saved output\n",
    "reloaded_out = inseq.FeatureAttributionOutput.load(\"marian_en_it_attribution.json\")\n",
    "\n",
    "html = reloaded_out.show(display=False, return_html=True)\n",
    "\n",
    "with open(\"marian_en_it_attribution.html\", \"w\") as f:\n",
    "    f.write(html)"
   ]
  },
  {
   "attachments": {},
   "cell_type": "markdown",
   "metadata": {},
   "source": [
    "### Post-processing Attributions with Aggregators\n",
    "\n",
    "You might have noticed that the shape of the `source_attributions` tensor in `out` is [12, 17, 512] (source length x target length x hidden size) because we are using a gradient-based attribution method returning one importance score per hidden dimension, but when calling `out.show()` the output is a matrix of shape [12, 17].\n",
    "\n",
    "This is because every attribution method is automatically assigned an appropriate default `Aggregator`, which is called implicitly on `out.show()` to ensure that attributions can be visualized out-of-the-box. In this case the default aggregation involves taking the L2 norm of the hidden size (i.e. the *magnitude* of the importance score vector, strictly positive) and then normalize scores to ensure that all importance scores for every generated token (columns) across `source_attributions` and `target_attributions` sum to one. The normalization step is included since it allows us to express the *relative importance* of input features when generating the target token at every step.\n",
    "\n",
    "We can see now another example using the `attention` attribution method, returning simply attention weights for the model (note that we do not need to reload the model, but it is sufficient to pass a new `method` identifier to `model.attribute`):"
   ]
  },
  {
   "cell_type": "code",
   "execution_count": 3,
   "metadata": {},
   "outputs": [
    {
     "name": "stderr",
     "output_type": "stream",
     "text": [
      "Attributing with attention...: 100%|██████████| 20/20 [00:00<00:00, 98.32it/s] \n"
     ]
    },
    {
     "data": {
      "text/plain": [
       "torch.Size([14, 19, 6, 8])"
      ]
     },
     "execution_count": 3,
     "metadata": {},
     "output_type": "execute_result"
    }
   ],
   "source": [
    "out = model.attribute(\n",
    "    input_texts=\"Hello everyone, hope you're enjoying the tutorial!\",\n",
    "    attribute_target=True,\n",
    "    method=\"attention\"\n",
    ")\n",
    "# out[0] is a shortcut for out.sequence_attributions[0]\n",
    "out[0].source_attributions.shape"
   ]
  },
  {
   "attachments": {},
   "cell_type": "markdown",
   "metadata": {},
   "source": [
    "The attribution matrix produced by `attention` has dimensions (source length, sequence length, # layers, # attention heads), so `out[0].source_attributions[:, 2, 3, 4]` are attention weights associated to source tokens by the 4th attention head of the 3rd layer, produced when generating the 2nd target token. We can see the aggregation strategy employed by default as follows:"
   ]
  },
  {
   "cell_type": "code",
   "execution_count": 4,
   "metadata": {},
   "outputs": [
    {
     "data": {
      "text/html": [
       "<br/><b>0th instance:</b><br/>\n",
       "<html>\n",
       "<div id=\"usieyiccwpusnzjovqwp_viz_container\">\n",
       "    <div id=\"usieyiccwpusnzjovqwp_content\" style=\"padding:15px;border-style:solid;margin:5px;\">\n",
       "        <div id = \"usieyiccwpusnzjovqwp_saliency_plot_container\" class=\"usieyiccwpusnzjovqwp_viz_container\" style=\"display:block\">\n",
       "            \n",
       "<div id=\"qahftrxckafnafqofpva_saliency_plot\" class=\"qahftrxckafnafqofpva_viz_content\">\n",
       "    <div style=\"margin:5px;font-family:sans-serif;font-weight:bold;\">\n",
       "        <span style=\"font-size: 20px;\">Source Saliency Heatmap</span>\n",
       "        <br>\n",
       "        x: Generated tokens, y: Attributed tokens\n",
       "    </div>\n",
       "    \n",
       "<table border=\"1\" cellpadding=\"5\" cellspacing=\"5\"\n",
       "    style=\"overflow-x:scroll;display:block;\">\n",
       "    <tr><th></th>\n",
       "<th>▁Ci</th><th>a</th><th>o</th><th>▁a</th><th>▁tutti</th><th>,</th><th>▁spero</th><th>▁che</th><th>▁vi</th><th>▁stia</th><th>te</th><th>▁gode</th><th>ndo</th><th>▁il</th><th>▁tu</th><th>tori</th><th>al</th><th>!</th><th>&lt;/s&gt;</th></tr><tr><th>▁H</th><th style=\"background:rgba(255.0, 13.0, 87.0, 0.23537334125569415)\">0.106</th><th style=\"background:rgba(255.0, 13.0, 87.0, 0.32208358090711037)\">0.144</th><th style=\"background:rgba(255.0, 13.0, 87.0, 0.14078035254505847)\">0.063</th><th style=\"background:rgba(255.0, 13.0, 87.0, 0.12501485442661908)\">0.056</th><th style=\"background:rgba(255.0, 13.0, 87.0, 0.030421865715983164)\">0.014</th><th style=\"background:rgba(255.0, 13.0, 87.0, 0.02253911665676371)\">0.012</th><th style=\"background:rgba(255.0, 13.0, 87.0, 0.030421865715983164)\">0.014</th><th style=\"background:rgba(255.0, 13.0, 87.0, 0.00677361853832443)\">0.006</th><th style=\"background:rgba(255.0, 13.0, 87.0, 0.00677361853832443)\">0.005</th><th style=\"background:rgba(230.2941176470614, 26.505882352939775, 102.59215686274348, 0.0)\">0.002</th><th style=\"background:rgba(230.2941176470614, 26.505882352939775, 102.59215686274348, 0.0)\">0.003</th><th style=\"background:rgba(230.2941176470614, 26.505882352939775, 102.59215686274348, 0.0)\">0.003</th><th style=\"background:rgba(230.2941176470614, 26.505882352939775, 102.59215686274348, 0.0)\">0.002</th><th style=\"background:rgba(230.2941176470614, 26.505882352939775, 102.59215686274348, 0.0)\">0.003</th><th style=\"background:rgba(230.2941176470614, 26.505882352939775, 102.59215686274348, 0.0)\">0.003</th><th style=\"background:rgba(230.2941176470614, 26.505882352939775, 102.59215686274348, 0.0)\">0.003</th><th style=\"background:rgba(230.2941176470614, 26.505882352939775, 102.59215686274348, 0.0)\">0.001</th><th style=\"background:rgba(230.2941176470614, 26.505882352939775, 102.59215686274348, 0.0)\">0.003</th><th style=\"background:rgba(255.0, 13.0, 87.0, 0.00677361853832443)\">0.006</th></tr><tr><th>ello</th><th style=\"background:rgba(255.0, 13.0, 87.0, 0.1880768469003763)\">0.086</th><th style=\"background:rgba(255.0, 13.0, 87.0, 0.36149732620320857)\">0.16</th><th style=\"background:rgba(255.0, 13.0, 87.0, 0.20384234501881549)\">0.091</th><th style=\"background:rgba(255.0, 13.0, 87.0, 0.18019409784115661)\">0.082</th><th style=\"background:rgba(255.0, 13.0, 87.0, 0.03830461477520289)\">0.018</th><th style=\"background:rgba(255.0, 13.0, 87.0, 0.030421865715983164)\">0.016</th><th style=\"background:rgba(255.0, 13.0, 87.0, 0.02253911665676371)\">0.013</th><th style=\"background:rgba(255.0, 13.0, 87.0, 0.00677361853832443)\">0.006</th><th style=\"background:rgba(255.0, 13.0, 87.0, 0.00677361853832443)\">0.006</th><th style=\"background:rgba(230.2941176470614, 26.505882352939775, 102.59215686274348, 0.0)\">0.003</th><th style=\"background:rgba(230.2941176470614, 26.505882352939775, 102.59215686274348, 0.0)\">0.003</th><th style=\"background:rgba(230.2941176470614, 26.505882352939775, 102.59215686274348, 0.0)\">0.003</th><th style=\"background:rgba(230.2941176470614, 26.505882352939775, 102.59215686274348, 0.0)\">0.002</th><th style=\"background:rgba(230.2941176470614, 26.505882352939775, 102.59215686274348, 0.0)\">0.003</th><th style=\"background:rgba(230.2941176470614, 26.505882352939775, 102.59215686274348, 0.0)\">0.003</th><th style=\"background:rgba(230.2941176470614, 26.505882352939775, 102.59215686274348, 0.0)\">0.003</th><th style=\"background:rgba(230.2941176470614, 26.505882352939775, 102.59215686274348, 0.0)\">0.002</th><th style=\"background:rgba(230.2941176470614, 26.505882352939775, 102.59215686274348, 0.0)\">0.003</th><th style=\"background:rgba(255.0, 13.0, 87.0, 0.00677361853832443)\">0.005</th></tr><tr><th>▁everyone</th><th style=\"background:rgba(255.0, 13.0, 87.0, 0.14078035254505847)\">0.065</th><th style=\"background:rgba(255.0, 13.0, 87.0, 0.1171321053673995)\">0.052</th><th style=\"background:rgba(255.0, 13.0, 87.0, 0.10136660724896006)\">0.047</th><th style=\"background:rgba(255.0, 13.0, 87.0, 0.4560903149138443)\">0.201</th><th style=\"background:rgba(255.0, 13.0, 87.0, 0.4245593186769657)\">0.188</th><th style=\"background:rgba(255.0, 13.0, 87.0, 0.3457318280847692)\">0.155</th><th style=\"background:rgba(255.0, 13.0, 87.0, 0.06195286195286207)\">0.029</th><th style=\"background:rgba(255.0, 13.0, 87.0, 0.030421865715983164)\">0.017</th><th style=\"background:rgba(255.0, 13.0, 87.0, 0.02253911665676371)\">0.012</th><th style=\"background:rgba(255.0, 13.0, 87.0, 0.00677361853832443)\">0.005</th><th style=\"background:rgba(255.0, 13.0, 87.0, 0.00677361853832443)\">0.005</th><th style=\"background:rgba(255.0, 13.0, 87.0, 0.00677361853832443)\">0.004</th><th style=\"background:rgba(230.2941176470614, 26.505882352939775, 102.59215686274348, 0.0)\">0.003</th><th style=\"background:rgba(255.0, 13.0, 87.0, 0.00677361853832443)\">0.004</th><th style=\"background:rgba(255.0, 13.0, 87.0, 0.00677361853832443)\">0.005</th><th style=\"background:rgba(255.0, 13.0, 87.0, 0.014656367597544035)\">0.007</th><th style=\"background:rgba(230.2941176470614, 26.505882352939775, 102.59215686274348, 0.0)\">0.003</th><th style=\"background:rgba(255.0, 13.0, 87.0, 0.00677361853832443)\">0.004</th><th style=\"background:rgba(255.0, 13.0, 87.0, 0.00677361853832443)\">0.004</th></tr><tr><th>,</th><th style=\"background:rgba(255.0, 13.0, 87.0, 0.20384234501881549)\">0.091</th><th style=\"background:rgba(255.0, 13.0, 87.0, 0.04618736383442265)\">0.023</th><th style=\"background:rgba(255.0, 13.0, 87.0, 0.02253911665676371)\">0.013</th><th style=\"background:rgba(255.0, 13.0, 87.0, 0.05407011289364243)\">0.027</th><th style=\"background:rgba(255.0, 13.0, 87.0, 0.03830461477520289)\">0.021</th><th style=\"background:rgba(255.0, 13.0, 87.0, 0.20384234501881549)\">0.092</th><th style=\"background:rgba(255.0, 13.0, 87.0, 0.3457318280847692)\">0.153</th><th style=\"background:rgba(255.0, 13.0, 87.0, 0.04618736383442265)\">0.021</th><th style=\"background:rgba(255.0, 13.0, 87.0, 0.030421865715983164)\">0.015</th><th style=\"background:rgba(255.0, 13.0, 87.0, 0.00677361853832443)\">0.005</th><th style=\"background:rgba(255.0, 13.0, 87.0, 0.00677361853832443)\">0.004</th><th style=\"background:rgba(230.2941176470614, 26.505882352939775, 102.59215686274348, 0.0)\">0.003</th><th style=\"background:rgba(255.0, 13.0, 87.0, 0.00677361853832443)\">0.004</th><th style=\"background:rgba(255.0, 13.0, 87.0, 0.00677361853832443)\">0.004</th><th style=\"background:rgba(255.0, 13.0, 87.0, 0.00677361853832443)\">0.006</th><th style=\"background:rgba(230.2941176470614, 26.505882352939775, 102.59215686274348, 0.0)\">0.002</th><th style=\"background:rgba(230.2941176470614, 26.505882352939775, 102.59215686274348, 0.0)\">0.001</th><th style=\"background:rgba(230.2941176470614, 26.505882352939775, 102.59215686274348, 0.0)\">0.002</th><th style=\"background:rgba(255.0, 13.0, 87.0, 0.030421865715983164)\">0.015</th></tr><tr><th>▁hope</th><th style=\"background:rgba(255.0, 13.0, 87.0, 0.12501485442661908)\">0.057</th><th style=\"background:rgba(255.0, 13.0, 87.0, 0.05407011289364243)\">0.026</th><th style=\"background:rgba(255.0, 13.0, 87.0, 0.030421865715983164)\">0.015</th><th style=\"background:rgba(255.0, 13.0, 87.0, 0.03830461477520289)\">0.02</th><th style=\"background:rgba(255.0, 13.0, 87.0, 0.030421865715983164)\">0.017</th><th style=\"background:rgba(255.0, 13.0, 87.0, 0.13289760348583876)\">0.06</th><th style=\"background:rgba(255.0, 13.0, 87.0, 0.4718558130322837)\">0.209</th><th style=\"background:rgba(255.0, 13.0, 87.0, 0.32208358090711037)\">0.144</th><th style=\"background:rgba(255.0, 13.0, 87.0, 0.1880768469003763)\">0.086</th><th style=\"background:rgba(255.0, 13.0, 87.0, 0.03830461477520289)\">0.019</th><th style=\"background:rgba(255.0, 13.0, 87.0, 0.02253911665676371)\">0.013</th><th style=\"background:rgba(255.0, 13.0, 87.0, 0.014656367597544035)\">0.01</th><th style=\"background:rgba(255.0, 13.0, 87.0, 0.014656367597544035)\">0.008</th><th style=\"background:rgba(255.0, 13.0, 87.0, 0.014656367597544035)\">0.008</th><th style=\"background:rgba(255.0, 13.0, 87.0, 0.00677361853832443)\">0.005</th><th style=\"background:rgba(255.0, 13.0, 87.0, 0.00677361853832443)\">0.005</th><th style=\"background:rgba(230.2941176470614, 26.505882352939775, 102.59215686274348, 0.0)\">0.003</th><th style=\"background:rgba(255.0, 13.0, 87.0, 0.00677361853832443)\">0.005</th><th style=\"background:rgba(255.0, 13.0, 87.0, 0.00677361853832443)\">0.004</th></tr><tr><th>▁you</th><th style=\"background:rgba(255.0, 13.0, 87.0, 0.02253911665676371)\">0.013</th><th style=\"background:rgba(255.0, 13.0, 87.0, 0.014656367597544035)\">0.008</th><th style=\"background:rgba(230.2941176470614, 26.505882352939775, 102.59215686274348, 0.0)\">0.003</th><th style=\"background:rgba(255.0, 13.0, 87.0, 0.00677361853832443)\">0.004</th><th style=\"background:rgba(255.0, 13.0, 87.0, 0.014656367597544035)\">0.008</th><th style=\"background:rgba(255.0, 13.0, 87.0, 0.02253911665676371)\">0.01</th><th style=\"background:rgba(255.0, 13.0, 87.0, 0.03830461477520289)\">0.017</th><th style=\"background:rgba(255.0, 13.0, 87.0, 0.18019409784115661)\">0.079</th><th style=\"background:rgba(255.0, 13.0, 87.0, 0.2117250940780353)\">0.095</th><th style=\"background:rgba(255.0, 13.0, 87.0, 0.29055258467023165)\">0.129</th><th style=\"background:rgba(255.0, 13.0, 87.0, 0.04618736383442265)\">0.022</th><th style=\"background:rgba(255.0, 13.0, 87.0, 0.07771836007130124)\">0.036</th><th style=\"background:rgba(255.0, 13.0, 87.0, 0.014656367597544035)\">0.007</th><th style=\"background:rgba(255.0, 13.0, 87.0, 0.014656367597544035)\">0.008</th><th style=\"background:rgba(255.0, 13.0, 87.0, 0.014656367597544035)\">0.008</th><th style=\"background:rgba(255.0, 13.0, 87.0, 0.00677361853832443)\">0.004</th><th style=\"background:rgba(230.2941176470614, 26.505882352939775, 102.59215686274348, 0.0)\">0.002</th><th style=\"background:rgba(255.0, 13.0, 87.0, 0.00677361853832443)\">0.004</th><th style=\"background:rgba(230.2941176470614, 26.505882352939775, 102.59215686274348, 0.0)\">0.003</th></tr><tr><th>'</th><th style=\"background:rgba(255.0, 13.0, 87.0, 0.00677361853832443)\">0.006</th><th style=\"background:rgba(230.2941176470614, 26.505882352939775, 102.59215686274348, 0.0)\">0.003</th><th style=\"background:rgba(230.2941176470614, 26.505882352939775, 102.59215686274348, 0.0)\">0.001</th><th style=\"background:rgba(230.2941176470614, 26.505882352939775, 102.59215686274348, 0.0)\">0.002</th><th style=\"background:rgba(255.0, 13.0, 87.0, 0.00677361853832443)\">0.004</th><th style=\"background:rgba(255.0, 13.0, 87.0, 0.00677361853832443)\">0.004</th><th style=\"background:rgba(255.0, 13.0, 87.0, 0.014656367597544035)\">0.009</th><th style=\"background:rgba(255.0, 13.0, 87.0, 0.04618736383442265)\">0.023</th><th style=\"background:rgba(255.0, 13.0, 87.0, 0.05407011289364243)\">0.025</th><th style=\"background:rgba(255.0, 13.0, 87.0, 0.04618736383442265)\">0.021</th><th style=\"background:rgba(255.0, 13.0, 87.0, 0.09348385818974037)\">0.043</th><th style=\"background:rgba(255.0, 13.0, 87.0, 0.04618736383442265)\">0.022</th><th style=\"background:rgba(255.0, 13.0, 87.0, 0.00677361853832443)\">0.004</th><th style=\"background:rgba(255.0, 13.0, 87.0, 0.00677361853832443)\">0.004</th><th style=\"background:rgba(230.2941176470614, 26.505882352939775, 102.59215686274348, 0.0)\">0.003</th><th style=\"background:rgba(230.2941176470614, 26.505882352939775, 102.59215686274348, 0.0)\">0.001</th><th style=\"background:rgba(230.2941176470614, 26.505882352939775, 102.59215686274348, 0.0)\">0.001</th><th style=\"background:rgba(230.2941176470614, 26.505882352939775, 102.59215686274348, 0.0)\">0.002</th><th style=\"background:rgba(230.2941176470614, 26.505882352939775, 102.59215686274348, 0.0)\">0.002</th></tr><tr><th>re</th><th style=\"background:rgba(255.0, 13.0, 87.0, 0.014656367597544035)\">0.008</th><th style=\"background:rgba(255.0, 13.0, 87.0, 0.00677361853832443)\">0.004</th><th style=\"background:rgba(230.2941176470614, 26.505882352939775, 102.59215686274348, 0.0)\">0.002</th><th style=\"background:rgba(255.0, 13.0, 87.0, 0.00677361853832443)\">0.004</th><th style=\"background:rgba(255.0, 13.0, 87.0, 0.00677361853832443)\">0.005</th><th style=\"background:rgba(255.0, 13.0, 87.0, 0.00677361853832443)\">0.006</th><th style=\"background:rgba(255.0, 13.0, 87.0, 0.02253911665676371)\">0.011</th><th style=\"background:rgba(255.0, 13.0, 87.0, 0.06983561101208159)\">0.032</th><th style=\"background:rgba(255.0, 13.0, 87.0, 0.07771836007130124)\">0.035</th><th style=\"background:rgba(255.0, 13.0, 87.0, 0.06983561101208159)\">0.032</th><th style=\"background:rgba(255.0, 13.0, 87.0, 0.14078035254505847)\">0.063</th><th style=\"background:rgba(255.0, 13.0, 87.0, 0.06983561101208159)\">0.034</th><th style=\"background:rgba(255.0, 13.0, 87.0, 0.00677361853832443)\">0.006</th><th style=\"background:rgba(255.0, 13.0, 87.0, 0.00677361853832443)\">0.007</th><th style=\"background:rgba(255.0, 13.0, 87.0, 0.00677361853832443)\">0.004</th><th style=\"background:rgba(230.2941176470614, 26.505882352939775, 102.59215686274348, 0.0)\">0.002</th><th style=\"background:rgba(230.2941176470614, 26.505882352939775, 102.59215686274348, 0.0)\">0.001</th><th style=\"background:rgba(230.2941176470614, 26.505882352939775, 102.59215686274348, 0.0)\">0.003</th><th style=\"background:rgba(230.2941176470614, 26.505882352939775, 102.59215686274348, 0.0)\">0.003</th></tr><tr><th>▁enjoying</th><th style=\"background:rgba(255.0, 13.0, 87.0, 0.030421865715983164)\">0.017</th><th style=\"background:rgba(255.0, 13.0, 87.0, 0.02253911665676371)\">0.011</th><th style=\"background:rgba(255.0, 13.0, 87.0, 0.00677361853832443)\">0.005</th><th style=\"background:rgba(255.0, 13.0, 87.0, 0.00677361853832443)\">0.006</th><th style=\"background:rgba(255.0, 13.0, 87.0, 0.03830461477520289)\">0.018</th><th style=\"background:rgba(255.0, 13.0, 87.0, 0.030421865715983164)\">0.014</th><th style=\"background:rgba(255.0, 13.0, 87.0, 0.05407011289364243)\">0.025</th><th style=\"background:rgba(255.0, 13.0, 87.0, 0.18019409784115661)\">0.081</th><th style=\"background:rgba(255.0, 13.0, 87.0, 0.24325609031491383)\">0.11</th><th style=\"background:rgba(255.0, 13.0, 87.0, 0.5033868092691621)\">0.223</th><th style=\"background:rgba(255.0, 13.0, 87.0, 0.32208358090711037)\">0.142</th><th style=\"background:rgba(255.0, 13.0, 87.0, 0.4245593186769657)\">0.189</th><th style=\"background:rgba(255.0, 13.0, 87.0, 0.306318082788671)\">0.135</th><th style=\"background:rgba(255.0, 13.0, 87.0, 0.219607843137255)\">0.098</th><th style=\"background:rgba(255.0, 13.0, 87.0, 0.04618736383442265)\">0.021</th><th style=\"background:rgba(255.0, 13.0, 87.0, 0.014656367597544035)\">0.01</th><th style=\"background:rgba(255.0, 13.0, 87.0, 0.00677361853832443)\">0.006</th><th style=\"background:rgba(255.0, 13.0, 87.0, 0.02253911665676371)\">0.011</th><th style=\"background:rgba(255.0, 13.0, 87.0, 0.00677361853832443)\">0.007</th></tr><tr><th>▁the</th><th style=\"background:rgba(255.0, 13.0, 87.0, 0.06983561101208159)\">0.031</th><th style=\"background:rgba(255.0, 13.0, 87.0, 0.00677361853832443)\">0.004</th><th style=\"background:rgba(255.0, 13.0, 87.0, 0.00677361853832443)\">0.004</th><th style=\"background:rgba(255.0, 13.0, 87.0, 0.00677361853832443)\">0.005</th><th style=\"background:rgba(255.0, 13.0, 87.0, 0.014656367597544035)\">0.007</th><th style=\"background:rgba(255.0, 13.0, 87.0, 0.014656367597544035)\">0.008</th><th style=\"background:rgba(255.0, 13.0, 87.0, 0.02253911665676371)\">0.011</th><th style=\"background:rgba(255.0, 13.0, 87.0, 0.05407011289364243)\">0.025</th><th style=\"background:rgba(255.0, 13.0, 87.0, 0.07771836007130124)\">0.035</th><th style=\"background:rgba(255.0, 13.0, 87.0, 0.06983561101208159)\">0.031</th><th style=\"background:rgba(255.0, 13.0, 87.0, 0.06983561101208159)\">0.032</th><th style=\"background:rgba(255.0, 13.0, 87.0, 0.04618736383442265)\">0.023</th><th style=\"background:rgba(255.0, 13.0, 87.0, 0.04618736383442265)\">0.023</th><th style=\"background:rgba(255.0, 13.0, 87.0, 0.20384234501881549)\">0.09</th><th style=\"background:rgba(255.0, 13.0, 87.0, 0.3142008318478907)\">0.138</th><th style=\"background:rgba(255.0, 13.0, 87.0, 0.014656367597544035)\">0.009</th><th style=\"background:rgba(255.0, 13.0, 87.0, 0.00677361853832443)\">0.006</th><th style=\"background:rgba(255.0, 13.0, 87.0, 0.04618736383442265)\">0.023</th><th style=\"background:rgba(255.0, 13.0, 87.0, 0.02253911665676371)\">0.013</th></tr><tr><th>▁tutor</th><th style=\"background:rgba(255.0, 13.0, 87.0, 0.03830461477520289)\">0.02</th><th style=\"background:rgba(255.0, 13.0, 87.0, 0.014656367597544035)\">0.007</th><th style=\"background:rgba(255.0, 13.0, 87.0, 0.00677361853832443)\">0.006</th><th style=\"background:rgba(255.0, 13.0, 87.0, 0.014656367597544035)\">0.008</th><th style=\"background:rgba(255.0, 13.0, 87.0, 0.00677361853832443)\">0.007</th><th style=\"background:rgba(255.0, 13.0, 87.0, 0.014656367597544035)\">0.009</th><th style=\"background:rgba(255.0, 13.0, 87.0, 0.00677361853832443)\">0.006</th><th style=\"background:rgba(255.0, 13.0, 87.0, 0.02253911665676371)\">0.012</th><th style=\"background:rgba(255.0, 13.0, 87.0, 0.02253911665676371)\">0.013</th><th style=\"background:rgba(255.0, 13.0, 87.0, 0.02253911665676371)\">0.011</th><th style=\"background:rgba(255.0, 13.0, 87.0, 0.030421865715983164)\">0.014</th><th style=\"background:rgba(255.0, 13.0, 87.0, 0.04618736383442265)\">0.022</th><th style=\"background:rgba(255.0, 13.0, 87.0, 0.03830461477520289)\">0.018</th><th style=\"background:rgba(255.0, 13.0, 87.0, 0.07771836007130124)\">0.037</th><th style=\"background:rgba(255.0, 13.0, 87.0, 0.46397306397306415)\">0.207</th><th style=\"background:rgba(255.0, 13.0, 87.0, 0.49550406020994264)\">0.218</th><th style=\"background:rgba(255.0, 13.0, 87.0, 0.1959595959595959)\">0.087</th><th style=\"background:rgba(255.0, 13.0, 87.0, 0.10924935630817992)\">0.051</th><th style=\"background:rgba(255.0, 13.0, 87.0, 0.02253911665676371)\">0.013</th></tr><tr><th>ial</th><th style=\"background:rgba(255.0, 13.0, 87.0, 0.030421865715983164)\">0.015</th><th style=\"background:rgba(255.0, 13.0, 87.0, 0.00677361853832443)\">0.004</th><th style=\"background:rgba(230.2941176470614, 26.505882352939775, 102.59215686274348, 0.0)\">0.003</th><th style=\"background:rgba(255.0, 13.0, 87.0, 0.00677361853832443)\">0.004</th><th style=\"background:rgba(230.2941176470614, 26.505882352939775, 102.59215686274348, 0.0)\">0.003</th><th style=\"background:rgba(255.0, 13.0, 87.0, 0.00677361853832443)\">0.005</th><th style=\"background:rgba(230.2941176470614, 26.505882352939775, 102.59215686274348, 0.0)\">0.003</th><th style=\"background:rgba(255.0, 13.0, 87.0, 0.00677361853832443)\">0.005</th><th style=\"background:rgba(255.0, 13.0, 87.0, 0.00677361853832443)\">0.005</th><th style=\"background:rgba(255.0, 13.0, 87.0, 0.00677361853832443)\">0.006</th><th style=\"background:rgba(255.0, 13.0, 87.0, 0.00677361853832443)\">0.006</th><th style=\"background:rgba(255.0, 13.0, 87.0, 0.014656367597544035)\">0.01</th><th style=\"background:rgba(255.0, 13.0, 87.0, 0.014656367597544035)\">0.009</th><th style=\"background:rgba(255.0, 13.0, 87.0, 0.030421865715983164)\">0.014</th><th style=\"background:rgba(255.0, 13.0, 87.0, 0.1171321053673995)\">0.054</th><th style=\"background:rgba(255.0, 13.0, 87.0, 0.16442859972271742)\">0.075</th><th style=\"background:rgba(255.0, 13.0, 87.0, 0.2826698356110118)\">0.125</th><th style=\"background:rgba(255.0, 13.0, 87.0, 0.15654585066349747)\">0.07</th><th style=\"background:rgba(255.0, 13.0, 87.0, 0.02253911665676371)\">0.01</th></tr><tr><th>!</th><th style=\"background:rgba(255.0, 13.0, 87.0, 0.219607843137255)\">0.099</th><th style=\"background:rgba(255.0, 13.0, 87.0, 0.04618736383442265)\">0.021</th><th style=\"background:rgba(255.0, 13.0, 87.0, 0.030421865715983164)\">0.017</th><th style=\"background:rgba(255.0, 13.0, 87.0, 0.04618736383442265)\">0.023</th><th style=\"background:rgba(255.0, 13.0, 87.0, 0.030421865715983164)\">0.014</th><th style=\"background:rgba(255.0, 13.0, 87.0, 0.03830461477520289)\">0.02</th><th style=\"background:rgba(255.0, 13.0, 87.0, 0.06195286195286207)\">0.028</th><th style=\"background:rgba(255.0, 13.0, 87.0, 0.04618736383442265)\">0.022</th><th style=\"background:rgba(255.0, 13.0, 87.0, 0.03830461477520289)\">0.019</th><th style=\"background:rgba(255.0, 13.0, 87.0, 0.030421865715983164)\">0.015</th><th style=\"background:rgba(255.0, 13.0, 87.0, 0.02253911665676371)\">0.012</th><th style=\"background:rgba(255.0, 13.0, 87.0, 0.02253911665676371)\">0.013</th><th style=\"background:rgba(255.0, 13.0, 87.0, 0.04618736383442265)\">0.024</th><th style=\"background:rgba(255.0, 13.0, 87.0, 0.05407011289364243)\">0.025</th><th style=\"background:rgba(255.0, 13.0, 87.0, 0.06983561101208159)\">0.034</th><th style=\"background:rgba(255.0, 13.0, 87.0, 0.02253911665676371)\">0.014</th><th style=\"background:rgba(255.0, 13.0, 87.0, 0.02253911665676371)\">0.011</th><th style=\"background:rgba(255.0, 13.0, 87.0, 0.3142008318478907)\">0.14</th><th style=\"background:rgba(255.0, 13.0, 87.0, 0.4087938205585263)\">0.182</th></tr><tr><th>&lt;/s&gt;</th><th style=\"background:rgba(255.0, 13.0, 87.0, 0.8738760150524857)\">0.386</th><th style=\"background:rgba(255.0, 13.0, 87.0, 0.8029312735195088)\">0.352</th><th style=\"background:rgba(255.0, 13.0, 87.0, 1.0)\">0.442</th><th style=\"background:rgba(255.0, 13.0, 87.0, 0.5900970489205783)\">0.259</th><th style=\"background:rgba(255.0, 13.0, 87.0, 0.865993265993266)\">0.381</th><th style=\"background:rgba(255.0, 13.0, 87.0, 0.5664488017429193)\">0.248</th><th style=\"background:rgba(255.0, 13.0, 87.0, 0.306318082788671)\">0.135</th><th style=\"background:rgba(255.0, 13.0, 87.0, 0.5191523073876015)\">0.229</th><th style=\"background:rgba(255.0, 13.0, 87.0, 0.4009110714993067)\">0.179</th><th style=\"background:rgba(255.0, 13.0, 87.0, 0.4560903149138443)\">0.202</th><th style=\"background:rgba(255.0, 13.0, 87.0, 0.6295107942166767)\">0.278</th><th style=\"background:rgba(255.0, 13.0, 87.0, 0.5428005545652606)\">0.239</th><th style=\"background:rgba(255.0, 13.0, 87.0, 0.976351752822341)\">0.429</th><th style=\"background:rgba(255.0, 13.0, 87.0, 0.6689245395127748)\">0.296</th><th style=\"background:rgba(255.0, 13.0, 87.0, 0.4087938205585263)\">0.182</th><th style=\"background:rgba(255.0, 13.0, 87.0, 0.889641513170925)\">0.393</th><th style=\"background:rgba(255.0, 13.0, 87.0, 0.9684690037631213)\">0.427</th><th style=\"background:rgba(255.0, 13.0, 87.0, 0.6373935432758963)\">0.282</th><th style=\"background:rgba(255.0, 13.0, 87.0, 0.8817587641117054)\">0.388</th></tr></table>\n",
       "</div>\n",
       "\n",
       "        </div>\n",
       "    </div>\n",
       "</div>\n",
       "</html>\n",
       "<br/><b>0th instance:</b><br/>\n",
       "<html>\n",
       "<div id=\"zqorvufaigfywirkxlgg_viz_container\">\n",
       "    <div id=\"zqorvufaigfywirkxlgg_content\" style=\"padding:15px;border-style:solid;margin:5px;\">\n",
       "        <div id = \"zqorvufaigfywirkxlgg_saliency_plot_container\" class=\"zqorvufaigfywirkxlgg_viz_container\" style=\"display:block\">\n",
       "            \n",
       "<div id=\"sbfhcgchqjjfgyqpesej_saliency_plot\" class=\"sbfhcgchqjjfgyqpesej_viz_content\">\n",
       "    <div style=\"margin:5px;font-family:sans-serif;font-weight:bold;\">\n",
       "        <span style=\"font-size: 20px;\">Target Saliency Heatmap</span>\n",
       "        <br>\n",
       "        x: Generated tokens, y: Attributed tokens\n",
       "    </div>\n",
       "    \n",
       "<table border=\"1\" cellpadding=\"5\" cellspacing=\"5\"\n",
       "    style=\"overflow-x:scroll;display:block;\">\n",
       "    <tr><th></th>\n",
       "<th>▁Ci</th><th>a</th><th>o</th><th>▁a</th><th>▁tutti</th><th>,</th><th>▁spero</th><th>▁che</th><th>▁vi</th><th>▁stia</th><th>te</th><th>▁gode</th><th>ndo</th><th>▁il</th><th>▁tu</th><th>tori</th><th>al</th><th>!</th><th>&lt;/s&gt;</th></tr><tr><th>▁Ci</th><th style=\"background:rgba(0.0, 0.0, 0.0, 0.0)\"></th><th style=\"background:rgba(255.0, 13.0, 87.0, 0.4087938205585263)\">0.18</th><th style=\"background:rgba(255.0, 13.0, 87.0, 0.3142008318478907)\">0.138</th><th style=\"background:rgba(255.0, 13.0, 87.0, 0.14866310160427795)\">0.069</th><th style=\"background:rgba(255.0, 13.0, 87.0, 0.06195286195286207)\">0.03</th><th style=\"background:rgba(255.0, 13.0, 87.0, 0.030421865715983164)\">0.017</th><th style=\"background:rgba(255.0, 13.0, 87.0, 0.030421865715983164)\">0.015</th><th style=\"background:rgba(255.0, 13.0, 87.0, 0.00677361853832443)\">0.005</th><th style=\"background:rgba(255.0, 13.0, 87.0, 0.014656367597544035)\">0.008</th><th style=\"background:rgba(230.2941176470614, 26.505882352939775, 102.59215686274348, 0.0)\">0.003</th><th style=\"background:rgba(255.0, 13.0, 87.0, 0.00677361853832443)\">0.005</th><th style=\"background:rgba(255.0, 13.0, 87.0, 0.00677361853832443)\">0.004</th><th style=\"background:rgba(230.2941176470614, 26.505882352939775, 102.59215686274348, 0.0)\">0.002</th><th style=\"background:rgba(230.2941176470614, 26.505882352939775, 102.59215686274348, 0.0)\">0.003</th><th style=\"background:rgba(230.2941176470614, 26.505882352939775, 102.59215686274348, 0.0)\">0.003</th><th style=\"background:rgba(230.2941176470614, 26.505882352939775, 102.59215686274348, 0.0)\">0.002</th><th style=\"background:rgba(230.2941176470614, 26.505882352939775, 102.59215686274348, 0.0)\">0.001</th><th style=\"background:rgba(230.2941176470614, 26.505882352939775, 102.59215686274348, 0.0)\">0.003</th><th style=\"background:rgba(255.0, 13.0, 87.0, 0.00677361853832443)\">0.005</th></tr><tr><th>a</th><th style=\"background:rgba(0.0, 0.0, 0.0, 0.0)\"></th><th style=\"background:rgba(0.0, 0.0, 0.0, 0.0)\"></th><th style=\"background:rgba(255.0, 13.0, 87.0, 0.33784907902554967)\">0.15</th><th style=\"background:rgba(255.0, 13.0, 87.0, 0.24325609031491383)\">0.109</th><th style=\"background:rgba(255.0, 13.0, 87.0, 0.09348385818974037)\">0.042</th><th style=\"background:rgba(255.0, 13.0, 87.0, 0.07771836007130124)\">0.035</th><th style=\"background:rgba(255.0, 13.0, 87.0, 0.04618736383442265)\">0.021</th><th style=\"background:rgba(255.0, 13.0, 87.0, 0.00677361853832443)\">0.005</th><th style=\"background:rgba(255.0, 13.0, 87.0, 0.00677361853832443)\">0.006</th><th style=\"background:rgba(255.0, 13.0, 87.0, 0.00677361853832443)\">0.004</th><th style=\"background:rgba(255.0, 13.0, 87.0, 0.00677361853832443)\">0.004</th><th style=\"background:rgba(230.2941176470614, 26.505882352939775, 102.59215686274348, 0.0)\">0.003</th><th style=\"background:rgba(230.2941176470614, 26.505882352939775, 102.59215686274348, 0.0)\">0.002</th><th style=\"background:rgba(230.2941176470614, 26.505882352939775, 102.59215686274348, 0.0)\">0.002</th><th style=\"background:rgba(230.2941176470614, 26.505882352939775, 102.59215686274348, 0.0)\">0.002</th><th style=\"background:rgba(230.2941176470614, 26.505882352939775, 102.59215686274348, 0.0)\">0.002</th><th style=\"background:rgba(230.2941176470614, 26.505882352939775, 102.59215686274348, 0.0)\">0.002</th><th style=\"background:rgba(230.2941176470614, 26.505882352939775, 102.59215686274348, 0.0)\">0.002</th><th style=\"background:rgba(255.0, 13.0, 87.0, 0.00677361853832443)\">0.004</th></tr><tr><th>o</th><th style=\"background:rgba(0.0, 0.0, 0.0, 0.0)\"></th><th style=\"background:rgba(0.0, 0.0, 0.0, 0.0)\"></th><th style=\"background:rgba(0.0, 0.0, 0.0, 0.0)\"></th><th style=\"background:rgba(255.0, 13.0, 87.0, 0.2747870865517925)\">0.122</th><th style=\"background:rgba(255.0, 13.0, 87.0, 0.29843533372945136)\">0.132</th><th style=\"background:rgba(255.0, 13.0, 87.0, 0.12501485442661908)\">0.057</th><th style=\"background:rgba(255.0, 13.0, 87.0, 0.09348385818974037)\">0.044</th><th style=\"background:rgba(255.0, 13.0, 87.0, 0.014656367597544035)\">0.01</th><th style=\"background:rgba(255.0, 13.0, 87.0, 0.014656367597544035)\">0.009</th><th style=\"background:rgba(255.0, 13.0, 87.0, 0.00677361853832443)\">0.004</th><th style=\"background:rgba(255.0, 13.0, 87.0, 0.00677361853832443)\">0.004</th><th style=\"background:rgba(230.2941176470614, 26.505882352939775, 102.59215686274348, 0.0)\">0.003</th><th style=\"background:rgba(230.2941176470614, 26.505882352939775, 102.59215686274348, 0.0)\">0.002</th><th style=\"background:rgba(230.2941176470614, 26.505882352939775, 102.59215686274348, 0.0)\">0.003</th><th style=\"background:rgba(230.2941176470614, 26.505882352939775, 102.59215686274348, 0.0)\">0.003</th><th style=\"background:rgba(230.2941176470614, 26.505882352939775, 102.59215686274348, 0.0)\">0.002</th><th style=\"background:rgba(230.2941176470614, 26.505882352939775, 102.59215686274348, 0.0)\">0.002</th><th style=\"background:rgba(255.0, 13.0, 87.0, 0.00677361853832443)\">0.004</th><th style=\"background:rgba(255.0, 13.0, 87.0, 0.00677361853832443)\">0.004</th></tr><tr><th>▁a</th><th style=\"background:rgba(0.0, 0.0, 0.0, 0.0)\"></th><th style=\"background:rgba(0.0, 0.0, 0.0, 0.0)\"></th><th style=\"background:rgba(0.0, 0.0, 0.0, 0.0)\"></th><th style=\"background:rgba(0.0, 0.0, 0.0, 0.0)\"></th><th style=\"background:rgba(255.0, 13.0, 87.0, 0.20384234501881549)\">0.092</th><th style=\"background:rgba(255.0, 13.0, 87.0, 0.17231134878193693)\">0.079</th><th style=\"background:rgba(255.0, 13.0, 87.0, 0.05407011289364243)\">0.027</th><th style=\"background:rgba(255.0, 13.0, 87.0, 0.014656367597544035)\">0.007</th><th style=\"background:rgba(255.0, 13.0, 87.0, 0.00677361853832443)\">0.007</th><th style=\"background:rgba(230.2941176470614, 26.505882352939775, 102.59215686274348, 0.0)\">0.003</th><th style=\"background:rgba(230.2941176470614, 26.505882352939775, 102.59215686274348, 0.0)\">0.003</th><th style=\"background:rgba(230.2941176470614, 26.505882352939775, 102.59215686274348, 0.0)\">0.002</th><th style=\"background:rgba(230.2941176470614, 26.505882352939775, 102.59215686274348, 0.0)\">0.002</th><th style=\"background:rgba(230.2941176470614, 26.505882352939775, 102.59215686274348, 0.0)\">0.002</th><th style=\"background:rgba(230.2941176470614, 26.505882352939775, 102.59215686274348, 0.0)\">0.002</th><th style=\"background:rgba(230.2941176470614, 26.505882352939775, 102.59215686274348, 0.0)\">0.002</th><th style=\"background:rgba(230.2941176470614, 26.505882352939775, 102.59215686274348, 0.0)\">0.001</th><th style=\"background:rgba(230.2941176470614, 26.505882352939775, 102.59215686274348, 0.0)\">0.002</th><th style=\"background:rgba(230.2941176470614, 26.505882352939775, 102.59215686274348, 0.0)\">0.002</th></tr><tr><th>▁tutti</th><th style=\"background:rgba(0.0, 0.0, 0.0, 0.0)\"></th><th style=\"background:rgba(0.0, 0.0, 0.0, 0.0)\"></th><th style=\"background:rgba(0.0, 0.0, 0.0, 0.0)\"></th><th style=\"background:rgba(0.0, 0.0, 0.0, 0.0)\"></th><th style=\"background:rgba(0.0, 0.0, 0.0, 0.0)\"></th><th style=\"background:rgba(255.0, 13.0, 87.0, 0.3457318280847692)\">0.154</th><th style=\"background:rgba(255.0, 13.0, 87.0, 0.2117250940780353)\">0.094</th><th style=\"background:rgba(255.0, 13.0, 87.0, 0.05407011289364243)\">0.026</th><th style=\"background:rgba(255.0, 13.0, 87.0, 0.05407011289364243)\">0.025</th><th style=\"background:rgba(255.0, 13.0, 87.0, 0.00677361853832443)\">0.005</th><th style=\"background:rgba(255.0, 13.0, 87.0, 0.00677361853832443)\">0.005</th><th style=\"background:rgba(255.0, 13.0, 87.0, 0.00677361853832443)\">0.005</th><th style=\"background:rgba(230.2941176470614, 26.505882352939775, 102.59215686274348, 0.0)\">0.003</th><th style=\"background:rgba(255.0, 13.0, 87.0, 0.00677361853832443)\">0.004</th><th style=\"background:rgba(255.0, 13.0, 87.0, 0.00677361853832443)\">0.004</th><th style=\"background:rgba(230.2941176470614, 26.505882352939775, 102.59215686274348, 0.0)\">0.002</th><th style=\"background:rgba(230.2941176470614, 26.505882352939775, 102.59215686274348, 0.0)\">0.002</th><th style=\"background:rgba(255.0, 13.0, 87.0, 0.00677361853832443)\">0.005</th><th style=\"background:rgba(255.0, 13.0, 87.0, 0.00677361853832443)\">0.004</th></tr><tr><th>,</th><th style=\"background:rgba(0.0, 0.0, 0.0, 0.0)\"></th><th style=\"background:rgba(0.0, 0.0, 0.0, 0.0)\"></th><th style=\"background:rgba(0.0, 0.0, 0.0, 0.0)\"></th><th style=\"background:rgba(0.0, 0.0, 0.0, 0.0)\"></th><th style=\"background:rgba(0.0, 0.0, 0.0, 0.0)\"></th><th style=\"background:rgba(0.0, 0.0, 0.0, 0.0)\"></th><th style=\"background:rgba(255.0, 13.0, 87.0, 0.306318082788671)\">0.136</th><th style=\"background:rgba(255.0, 13.0, 87.0, 0.14078035254505847)\">0.064</th><th style=\"background:rgba(255.0, 13.0, 87.0, 0.06195286195286207)\">0.03</th><th style=\"background:rgba(255.0, 13.0, 87.0, 0.02253911665676371)\">0.012</th><th style=\"background:rgba(255.0, 13.0, 87.0, 0.014656367597544035)\">0.009</th><th style=\"background:rgba(255.0, 13.0, 87.0, 0.014656367597544035)\">0.008</th><th style=\"background:rgba(255.0, 13.0, 87.0, 0.00677361853832443)\">0.004</th><th style=\"background:rgba(255.0, 13.0, 87.0, 0.014656367597544035)\">0.009</th><th style=\"background:rgba(255.0, 13.0, 87.0, 0.00677361853832443)\">0.006</th><th style=\"background:rgba(230.2941176470614, 26.505882352939775, 102.59215686274348, 0.0)\">0.003</th><th style=\"background:rgba(230.2941176470614, 26.505882352939775, 102.59215686274348, 0.0)\">0.003</th><th style=\"background:rgba(255.0, 13.0, 87.0, 0.02253911665676371)\">0.012</th><th style=\"background:rgba(255.0, 13.0, 87.0, 0.00677361853832443)\">0.007</th></tr><tr><th>▁spero</th><th style=\"background:rgba(0.0, 0.0, 0.0, 0.0)\"></th><th style=\"background:rgba(0.0, 0.0, 0.0, 0.0)\"></th><th style=\"background:rgba(0.0, 0.0, 0.0, 0.0)\"></th><th style=\"background:rgba(0.0, 0.0, 0.0, 0.0)\"></th><th style=\"background:rgba(0.0, 0.0, 0.0, 0.0)\"></th><th style=\"background:rgba(0.0, 0.0, 0.0, 0.0)\"></th><th style=\"background:rgba(0.0, 0.0, 0.0, 0.0)\"></th><th style=\"background:rgba(255.0, 13.0, 87.0, 0.4087938205585263)\">0.182</th><th style=\"background:rgba(255.0, 13.0, 87.0, 0.3851455733808676)\">0.171</th><th style=\"background:rgba(255.0, 13.0, 87.0, 0.10924935630817992)\">0.051</th><th style=\"background:rgba(255.0, 13.0, 87.0, 0.04618736383442265)\">0.021</th><th style=\"background:rgba(255.0, 13.0, 87.0, 0.03830461477520289)\">0.018</th><th style=\"background:rgba(255.0, 13.0, 87.0, 0.00677361853832443)\">0.005</th><th style=\"background:rgba(255.0, 13.0, 87.0, 0.02253911665676371)\">0.013</th><th style=\"background:rgba(255.0, 13.0, 87.0, 0.014656367597544035)\">0.008</th><th style=\"background:rgba(230.2941176470614, 26.505882352939775, 102.59215686274348, 0.0)\">0.003</th><th style=\"background:rgba(230.2941176470614, 26.505882352939775, 102.59215686274348, 0.0)\">0.003</th><th style=\"background:rgba(255.0, 13.0, 87.0, 0.030421865715983164)\">0.014</th><th style=\"background:rgba(255.0, 13.0, 87.0, 0.014656367597544035)\">0.007</th></tr><tr><th>▁che</th><th style=\"background:rgba(0.0, 0.0, 0.0, 0.0)\"></th><th style=\"background:rgba(0.0, 0.0, 0.0, 0.0)\"></th><th style=\"background:rgba(0.0, 0.0, 0.0, 0.0)\"></th><th style=\"background:rgba(0.0, 0.0, 0.0, 0.0)\"></th><th style=\"background:rgba(0.0, 0.0, 0.0, 0.0)\"></th><th style=\"background:rgba(0.0, 0.0, 0.0, 0.0)\"></th><th style=\"background:rgba(0.0, 0.0, 0.0, 0.0)\"></th><th style=\"background:rgba(0.0, 0.0, 0.0, 0.0)\"></th><th style=\"background:rgba(255.0, 13.0, 87.0, 0.23537334125569415)\">0.106</th><th style=\"background:rgba(255.0, 13.0, 87.0, 0.22749059219647458)\">0.103</th><th style=\"background:rgba(255.0, 13.0, 87.0, 0.10136660724896006)\">0.045</th><th style=\"background:rgba(255.0, 13.0, 87.0, 0.06195286195286207)\">0.028</th><th style=\"background:rgba(255.0, 13.0, 87.0, 0.014656367597544035)\">0.009</th><th style=\"background:rgba(255.0, 13.0, 87.0, 0.03830461477520289)\">0.019</th><th style=\"background:rgba(255.0, 13.0, 87.0, 0.00677361853832443)\">0.007</th><th style=\"background:rgba(230.2941176470614, 26.505882352939775, 102.59215686274348, 0.0)\">0.003</th><th style=\"background:rgba(230.2941176470614, 26.505882352939775, 102.59215686274348, 0.0)\">0.003</th><th style=\"background:rgba(255.0, 13.0, 87.0, 0.02253911665676371)\">0.011</th><th style=\"background:rgba(255.0, 13.0, 87.0, 0.00677361853832443)\">0.006</th></tr><tr><th>▁vi</th><th style=\"background:rgba(0.0, 0.0, 0.0, 0.0)\"></th><th style=\"background:rgba(0.0, 0.0, 0.0, 0.0)\"></th><th style=\"background:rgba(0.0, 0.0, 0.0, 0.0)\"></th><th style=\"background:rgba(0.0, 0.0, 0.0, 0.0)\"></th><th style=\"background:rgba(0.0, 0.0, 0.0, 0.0)\"></th><th style=\"background:rgba(0.0, 0.0, 0.0, 0.0)\"></th><th style=\"background:rgba(0.0, 0.0, 0.0, 0.0)\"></th><th style=\"background:rgba(0.0, 0.0, 0.0, 0.0)\"></th><th style=\"background:rgba(0.0, 0.0, 0.0, 0.0)\"></th><th style=\"background:rgba(255.0, 13.0, 87.0, 0.24325609031491383)\">0.11</th><th style=\"background:rgba(255.0, 13.0, 87.0, 0.306318082788671)\">0.138</th><th style=\"background:rgba(255.0, 13.0, 87.0, 0.20384234501881549)\">0.093</th><th style=\"background:rgba(255.0, 13.0, 87.0, 0.030421865715983164)\">0.016</th><th style=\"background:rgba(255.0, 13.0, 87.0, 0.06195286195286207)\">0.029</th><th style=\"background:rgba(255.0, 13.0, 87.0, 0.02253911665676371)\">0.01</th><th style=\"background:rgba(255.0, 13.0, 87.0, 0.00677361853832443)\">0.003</th><th style=\"background:rgba(255.0, 13.0, 87.0, 0.00677361853832443)\">0.005</th><th style=\"background:rgba(255.0, 13.0, 87.0, 0.014656367597544035)\">0.007</th><th style=\"background:rgba(255.0, 13.0, 87.0, 0.00677361853832443)\">0.005</th></tr><tr><th>▁stia</th><th style=\"background:rgba(0.0, 0.0, 0.0, 0.0)\"></th><th style=\"background:rgba(0.0, 0.0, 0.0, 0.0)\"></th><th style=\"background:rgba(0.0, 0.0, 0.0, 0.0)\"></th><th style=\"background:rgba(0.0, 0.0, 0.0, 0.0)\"></th><th style=\"background:rgba(0.0, 0.0, 0.0, 0.0)\"></th><th style=\"background:rgba(0.0, 0.0, 0.0, 0.0)\"></th><th style=\"background:rgba(0.0, 0.0, 0.0, 0.0)\"></th><th style=\"background:rgba(0.0, 0.0, 0.0, 0.0)\"></th><th style=\"background:rgba(0.0, 0.0, 0.0, 0.0)\"></th><th style=\"background:rgba(0.0, 0.0, 0.0, 0.0)\"></th><th style=\"background:rgba(255.0, 13.0, 87.0, 0.29055258467023165)\">0.129</th><th style=\"background:rgba(255.0, 13.0, 87.0, 0.26690433749257286)\">0.119</th><th style=\"background:rgba(255.0, 13.0, 87.0, 0.07771836007130124)\">0.037</th><th style=\"background:rgba(255.0, 13.0, 87.0, 0.07771836007130124)\">0.036</th><th style=\"background:rgba(255.0, 13.0, 87.0, 0.014656367597544035)\">0.01</th><th style=\"background:rgba(230.2941176470614, 26.505882352939775, 102.59215686274348, 0.0)\">0.003</th><th style=\"background:rgba(230.2941176470614, 26.505882352939775, 102.59215686274348, 0.0)\">0.003</th><th style=\"background:rgba(255.0, 13.0, 87.0, 0.02253911665676371)\">0.012</th><th style=\"background:rgba(255.0, 13.0, 87.0, 0.00677361853832443)\">0.006</th></tr><tr><th>te</th><th style=\"background:rgba(0.0, 0.0, 0.0, 0.0)\"></th><th style=\"background:rgba(0.0, 0.0, 0.0, 0.0)\"></th><th style=\"background:rgba(0.0, 0.0, 0.0, 0.0)\"></th><th style=\"background:rgba(0.0, 0.0, 0.0, 0.0)\"></th><th style=\"background:rgba(0.0, 0.0, 0.0, 0.0)\"></th><th style=\"background:rgba(0.0, 0.0, 0.0, 0.0)\"></th><th style=\"background:rgba(0.0, 0.0, 0.0, 0.0)\"></th><th style=\"background:rgba(0.0, 0.0, 0.0, 0.0)\"></th><th style=\"background:rgba(0.0, 0.0, 0.0, 0.0)\"></th><th style=\"background:rgba(0.0, 0.0, 0.0, 0.0)\"></th><th style=\"background:rgba(0.0, 0.0, 0.0, 0.0)\"></th><th style=\"background:rgba(255.0, 13.0, 87.0, 0.22749059219647458)\">0.103</th><th style=\"background:rgba(255.0, 13.0, 87.0, 0.22749059219647458)\">0.102</th><th style=\"background:rgba(255.0, 13.0, 87.0, 0.10136660724896006)\">0.045</th><th style=\"background:rgba(255.0, 13.0, 87.0, 0.02253911665676371)\">0.012</th><th style=\"background:rgba(255.0, 13.0, 87.0, 0.00677361853832443)\">0.004</th><th style=\"background:rgba(255.0, 13.0, 87.0, 0.00677361853832443)\">0.005</th><th style=\"background:rgba(255.0, 13.0, 87.0, 0.02253911665676371)\">0.012</th><th style=\"background:rgba(255.0, 13.0, 87.0, 0.00677361853832443)\">0.006</th></tr><tr><th>▁gode</th><th style=\"background:rgba(0.0, 0.0, 0.0, 0.0)\"></th><th style=\"background:rgba(0.0, 0.0, 0.0, 0.0)\"></th><th style=\"background:rgba(0.0, 0.0, 0.0, 0.0)\"></th><th style=\"background:rgba(0.0, 0.0, 0.0, 0.0)\"></th><th style=\"background:rgba(0.0, 0.0, 0.0, 0.0)\"></th><th style=\"background:rgba(0.0, 0.0, 0.0, 0.0)\"></th><th style=\"background:rgba(0.0, 0.0, 0.0, 0.0)\"></th><th style=\"background:rgba(0.0, 0.0, 0.0, 0.0)\"></th><th style=\"background:rgba(0.0, 0.0, 0.0, 0.0)\"></th><th style=\"background:rgba(0.0, 0.0, 0.0, 0.0)\"></th><th style=\"background:rgba(0.0, 0.0, 0.0, 0.0)\"></th><th style=\"background:rgba(0.0, 0.0, 0.0, 0.0)\"></th><th style=\"background:rgba(255.0, 13.0, 87.0, 0.32208358090711037)\">0.144</th><th style=\"background:rgba(255.0, 13.0, 87.0, 0.3536145771439889)\">0.158</th><th style=\"background:rgba(255.0, 13.0, 87.0, 0.14866310160427795)\">0.068</th><th style=\"background:rgba(255.0, 13.0, 87.0, 0.014656367597544035)\">0.01</th><th style=\"background:rgba(255.0, 13.0, 87.0, 0.014656367597544035)\">0.007</th><th style=\"background:rgba(255.0, 13.0, 87.0, 0.02253911665676371)\">0.013</th><th style=\"background:rgba(255.0, 13.0, 87.0, 0.00677361853832443)\">0.006</th></tr><tr><th>ndo</th><th style=\"background:rgba(0.0, 0.0, 0.0, 0.0)\"></th><th style=\"background:rgba(0.0, 0.0, 0.0, 0.0)\"></th><th style=\"background:rgba(0.0, 0.0, 0.0, 0.0)\"></th><th style=\"background:rgba(0.0, 0.0, 0.0, 0.0)\"></th><th style=\"background:rgba(0.0, 0.0, 0.0, 0.0)\"></th><th style=\"background:rgba(0.0, 0.0, 0.0, 0.0)\"></th><th style=\"background:rgba(0.0, 0.0, 0.0, 0.0)\"></th><th style=\"background:rgba(0.0, 0.0, 0.0, 0.0)\"></th><th style=\"background:rgba(0.0, 0.0, 0.0, 0.0)\"></th><th style=\"background:rgba(0.0, 0.0, 0.0, 0.0)\"></th><th style=\"background:rgba(0.0, 0.0, 0.0, 0.0)\"></th><th style=\"background:rgba(0.0, 0.0, 0.0, 0.0)\"></th><th style=\"background:rgba(0.0, 0.0, 0.0, 0.0)\"></th><th style=\"background:rgba(255.0, 13.0, 87.0, 0.17231134878193693)\">0.077</th><th style=\"background:rgba(255.0, 13.0, 87.0, 0.12501485442661908)\">0.058</th><th style=\"background:rgba(255.0, 13.0, 87.0, 0.014656367597544035)\">0.01</th><th style=\"background:rgba(255.0, 13.0, 87.0, 0.014656367597544035)\">0.01</th><th style=\"background:rgba(255.0, 13.0, 87.0, 0.03830461477520289)\">0.018</th><th style=\"background:rgba(255.0, 13.0, 87.0, 0.00677361853832443)\">0.007</th></tr><tr><th>▁il</th><th style=\"background:rgba(0.0, 0.0, 0.0, 0.0)\"></th><th style=\"background:rgba(0.0, 0.0, 0.0, 0.0)\"></th><th style=\"background:rgba(0.0, 0.0, 0.0, 0.0)\"></th><th style=\"background:rgba(0.0, 0.0, 0.0, 0.0)\"></th><th style=\"background:rgba(0.0, 0.0, 0.0, 0.0)\"></th><th style=\"background:rgba(0.0, 0.0, 0.0, 0.0)\"></th><th style=\"background:rgba(0.0, 0.0, 0.0, 0.0)\"></th><th style=\"background:rgba(0.0, 0.0, 0.0, 0.0)\"></th><th style=\"background:rgba(0.0, 0.0, 0.0, 0.0)\"></th><th style=\"background:rgba(0.0, 0.0, 0.0, 0.0)\"></th><th style=\"background:rgba(0.0, 0.0, 0.0, 0.0)\"></th><th style=\"background:rgba(0.0, 0.0, 0.0, 0.0)\"></th><th style=\"background:rgba(0.0, 0.0, 0.0, 0.0)\"></th><th style=\"background:rgba(0.0, 0.0, 0.0, 0.0)\"></th><th style=\"background:rgba(255.0, 13.0, 87.0, 0.306318082788671)\">0.135</th><th style=\"background:rgba(255.0, 13.0, 87.0, 0.12501485442661908)\">0.058</th><th style=\"background:rgba(255.0, 13.0, 87.0, 0.06195286195286207)\">0.03</th><th style=\"background:rgba(255.0, 13.0, 87.0, 0.08560110913052081)\">0.041</th><th style=\"background:rgba(255.0, 13.0, 87.0, 0.02253911665676371)\">0.014</th></tr><tr><th>▁tu</th><th style=\"background:rgba(0.0, 0.0, 0.0, 0.0)\"></th><th style=\"background:rgba(0.0, 0.0, 0.0, 0.0)\"></th><th style=\"background:rgba(0.0, 0.0, 0.0, 0.0)\"></th><th style=\"background:rgba(0.0, 0.0, 0.0, 0.0)\"></th><th style=\"background:rgba(0.0, 0.0, 0.0, 0.0)\"></th><th style=\"background:rgba(0.0, 0.0, 0.0, 0.0)\"></th><th style=\"background:rgba(0.0, 0.0, 0.0, 0.0)\"></th><th style=\"background:rgba(0.0, 0.0, 0.0, 0.0)\"></th><th style=\"background:rgba(0.0, 0.0, 0.0, 0.0)\"></th><th style=\"background:rgba(0.0, 0.0, 0.0, 0.0)\"></th><th style=\"background:rgba(0.0, 0.0, 0.0, 0.0)\"></th><th style=\"background:rgba(0.0, 0.0, 0.0, 0.0)\"></th><th style=\"background:rgba(0.0, 0.0, 0.0, 0.0)\"></th><th style=\"background:rgba(0.0, 0.0, 0.0, 0.0)\"></th><th style=\"background:rgba(0.0, 0.0, 0.0, 0.0)\"></th><th style=\"background:rgba(255.0, 13.0, 87.0, 0.3299663299663301)\">0.148</th><th style=\"background:rgba(255.0, 13.0, 87.0, 0.306318082788671)\">0.138</th><th style=\"background:rgba(255.0, 13.0, 87.0, 0.12501485442661908)\">0.057</th><th style=\"background:rgba(255.0, 13.0, 87.0, 0.02253911665676371)\">0.011</th></tr><tr><th>tori</th><th style=\"background:rgba(0.0, 0.0, 0.0, 0.0)\"></th><th style=\"background:rgba(0.0, 0.0, 0.0, 0.0)\"></th><th style=\"background:rgba(0.0, 0.0, 0.0, 0.0)\"></th><th style=\"background:rgba(0.0, 0.0, 0.0, 0.0)\"></th><th style=\"background:rgba(0.0, 0.0, 0.0, 0.0)\"></th><th style=\"background:rgba(0.0, 0.0, 0.0, 0.0)\"></th><th style=\"background:rgba(0.0, 0.0, 0.0, 0.0)\"></th><th style=\"background:rgba(0.0, 0.0, 0.0, 0.0)\"></th><th style=\"background:rgba(0.0, 0.0, 0.0, 0.0)\"></th><th style=\"background:rgba(0.0, 0.0, 0.0, 0.0)\"></th><th style=\"background:rgba(0.0, 0.0, 0.0, 0.0)\"></th><th style=\"background:rgba(0.0, 0.0, 0.0, 0.0)\"></th><th style=\"background:rgba(0.0, 0.0, 0.0, 0.0)\"></th><th style=\"background:rgba(0.0, 0.0, 0.0, 0.0)\"></th><th style=\"background:rgba(0.0, 0.0, 0.0, 0.0)\"></th><th style=\"background:rgba(0.0, 0.0, 0.0, 0.0)\"></th><th style=\"background:rgba(255.0, 13.0, 87.0, 0.24325609031491383)\">0.109</th><th style=\"background:rgba(255.0, 13.0, 87.0, 0.1880768469003763)\">0.086</th><th style=\"background:rgba(255.0, 13.0, 87.0, 0.02253911665676371)\">0.011</th></tr><tr><th>al</th><th style=\"background:rgba(0.0, 0.0, 0.0, 0.0)\"></th><th style=\"background:rgba(0.0, 0.0, 0.0, 0.0)\"></th><th style=\"background:rgba(0.0, 0.0, 0.0, 0.0)\"></th><th style=\"background:rgba(0.0, 0.0, 0.0, 0.0)\"></th><th style=\"background:rgba(0.0, 0.0, 0.0, 0.0)\"></th><th style=\"background:rgba(0.0, 0.0, 0.0, 0.0)\"></th><th style=\"background:rgba(0.0, 0.0, 0.0, 0.0)\"></th><th style=\"background:rgba(0.0, 0.0, 0.0, 0.0)\"></th><th style=\"background:rgba(0.0, 0.0, 0.0, 0.0)\"></th><th style=\"background:rgba(0.0, 0.0, 0.0, 0.0)\"></th><th style=\"background:rgba(0.0, 0.0, 0.0, 0.0)\"></th><th style=\"background:rgba(0.0, 0.0, 0.0, 0.0)\"></th><th style=\"background:rgba(0.0, 0.0, 0.0, 0.0)\"></th><th style=\"background:rgba(0.0, 0.0, 0.0, 0.0)\"></th><th style=\"background:rgba(0.0, 0.0, 0.0, 0.0)\"></th><th style=\"background:rgba(0.0, 0.0, 0.0, 0.0)\"></th><th style=\"background:rgba(0.0, 0.0, 0.0, 0.0)\"></th><th style=\"background:rgba(255.0, 13.0, 87.0, 0.2117250940780353)\">0.096</th><th style=\"background:rgba(255.0, 13.0, 87.0, 0.09348385818974037)\">0.042</th></tr><tr><th>!</th><th style=\"background:rgba(0.0, 0.0, 0.0, 0.0)\"></th><th style=\"background:rgba(0.0, 0.0, 0.0, 0.0)\"></th><th style=\"background:rgba(0.0, 0.0, 0.0, 0.0)\"></th><th style=\"background:rgba(0.0, 0.0, 0.0, 0.0)\"></th><th style=\"background:rgba(0.0, 0.0, 0.0, 0.0)\"></th><th style=\"background:rgba(0.0, 0.0, 0.0, 0.0)\"></th><th style=\"background:rgba(0.0, 0.0, 0.0, 0.0)\"></th><th style=\"background:rgba(0.0, 0.0, 0.0, 0.0)\"></th><th style=\"background:rgba(0.0, 0.0, 0.0, 0.0)\"></th><th style=\"background:rgba(0.0, 0.0, 0.0, 0.0)\"></th><th style=\"background:rgba(0.0, 0.0, 0.0, 0.0)\"></th><th style=\"background:rgba(0.0, 0.0, 0.0, 0.0)\"></th><th style=\"background:rgba(0.0, 0.0, 0.0, 0.0)\"></th><th style=\"background:rgba(0.0, 0.0, 0.0, 0.0)\"></th><th style=\"background:rgba(0.0, 0.0, 0.0, 0.0)\"></th><th style=\"background:rgba(0.0, 0.0, 0.0, 0.0)\"></th><th style=\"background:rgba(0.0, 0.0, 0.0, 0.0)\"></th><th style=\"background:rgba(0.0, 0.0, 0.0, 0.0)\"></th><th style=\"background:rgba(255.0, 13.0, 87.0, 0.44820756585462457)\">0.198</th></tr><tr><th>&lt;/s&gt;</th><th style=\"background:rgba(0.0, 0.0, 0.0, 0.0)\"></th><th style=\"background:rgba(0.0, 0.0, 0.0, 0.0)\"></th><th style=\"background:rgba(0.0, 0.0, 0.0, 0.0)\"></th><th style=\"background:rgba(0.0, 0.0, 0.0, 0.0)\"></th><th style=\"background:rgba(0.0, 0.0, 0.0, 0.0)\"></th><th style=\"background:rgba(0.0, 0.0, 0.0, 0.0)\"></th><th style=\"background:rgba(0.0, 0.0, 0.0, 0.0)\"></th><th style=\"background:rgba(0.0, 0.0, 0.0, 0.0)\"></th><th style=\"background:rgba(0.0, 0.0, 0.0, 0.0)\"></th><th style=\"background:rgba(0.0, 0.0, 0.0, 0.0)\"></th><th style=\"background:rgba(0.0, 0.0, 0.0, 0.0)\"></th><th style=\"background:rgba(0.0, 0.0, 0.0, 0.0)\"></th><th style=\"background:rgba(0.0, 0.0, 0.0, 0.0)\"></th><th style=\"background:rgba(0.0, 0.0, 0.0, 0.0)\"></th><th style=\"background:rgba(0.0, 0.0, 0.0, 0.0)\"></th><th style=\"background:rgba(0.0, 0.0, 0.0, 0.0)\"></th><th style=\"background:rgba(0.0, 0.0, 0.0, 0.0)\"></th><th style=\"background:rgba(0.0, 0.0, 0.0, 0.0)\"></th><th style=\"background:rgba(0.0, 0.0, 0.0, 0.0)\"></th></tr></table>\n",
       "</div>\n",
       "\n",
       "        </div>\n",
       "    </div>\n",
       "</div>\n",
       "</html>\n"
      ],
      "text/plain": [
       "<IPython.core.display.HTML object>"
      ]
     },
     "metadata": {},
     "output_type": "display_data"
    }
   ],
   "source": [
    "out[0]._aggregator\n",
    "out.show()"
   ]
  },
  {
   "attachments": {},
   "cell_type": "markdown",
   "metadata": {},
   "source": [
    "This means that the `mean` of weights across all heads and layers is computed before showing the attributions. Let's now try to customize the aggregation strategy to return a more specific view of the outputs using `out.aggregate` \n",
    "\n",
    "*Note: the list of `Aggregator` classes is available using `inseq.list_aggregators()`. The `mean` is an aggregation function (the list of aggregation functions is available using `inseq.list_aggregation_functions()`) which can be associated to an aggregator, but if not specified is used to aggregate the list dimension of the attribution by default (aggregator `scores`)*"
   ]
  },
  {
   "cell_type": "code",
   "execution_count": 5,
   "metadata": {},
   "outputs": [
    {
     "name": "stdout",
     "output_type": "stream",
     "text": [
      "Aggregators: ['spans', 'pair', 'subwords', 'scores']\n",
      "Aggregation functions: ['vnorm', 'absmax', 'prod', 'sum', 'max', 'min', 'mean']\n"
     ]
    }
   ],
   "source": [
    "print(\"Aggregators:\", inseq.list_aggregators())\n",
    "print(\"Aggregation functions:\", inseq.list_aggregation_functions())"
   ]
  },
  {
   "cell_type": "code",
   "execution_count": 6,
   "metadata": {},
   "outputs": [
    {
     "name": "stdout",
     "output_type": "stream",
     "text": [
      "aggregated_heads_seq_attr_out: torch.Size([14, 19, 6])\n",
      "aggregated_layer_seq_attr_out: torch.Size([14, 19])\n"
     ]
    },
    {
     "data": {
      "text/html": [
       "<br/><b>0th instance:</b><br/>\n",
       "<html>\n",
       "<div id=\"asrngqcllywgnexwhqpd_viz_container\">\n",
       "    <div id=\"asrngqcllywgnexwhqpd_content\" style=\"padding:15px;border-style:solid;margin:5px;\">\n",
       "        <div id = \"asrngqcllywgnexwhqpd_saliency_plot_container\" class=\"asrngqcllywgnexwhqpd_viz_container\" style=\"display:block\">\n",
       "            \n",
       "<div id=\"ogpxkfzncbcqukbjznzw_saliency_plot\" class=\"ogpxkfzncbcqukbjznzw_viz_content\">\n",
       "    <div style=\"margin:5px;font-family:sans-serif;font-weight:bold;\">\n",
       "        <span style=\"font-size: 20px;\">Source Saliency Heatmap</span>\n",
       "        <br>\n",
       "        x: Generated tokens, y: Attributed tokens\n",
       "    </div>\n",
       "    \n",
       "<table border=\"1\" cellpadding=\"5\" cellspacing=\"5\"\n",
       "    style=\"overflow-x:scroll;display:block;\">\n",
       "    <tr><th></th>\n",
       "<th>▁Ci</th><th>a</th><th>o</th><th>▁a</th><th>▁tutti</th><th>,</th><th>▁spero</th><th>▁che</th><th>▁vi</th><th>▁stia</th><th>te</th><th>▁gode</th><th>ndo</th><th>▁il</th><th>▁tu</th><th>tori</th><th>al</th><th>!</th><th>&lt;/s&gt;</th></tr><tr><th>▁H</th><th style=\"background:rgba(255.0, 13.0, 87.0, 0.13289760348583876)\">0.13</th><th style=\"background:rgba(255.0, 13.0, 87.0, 0.00677361853832443)\">0.013</th><th style=\"background:rgba(230.2941176470614, 26.505882352939775, 102.59215686274348, 0.0)\">0.003</th><th style=\"background:rgba(255.0, 13.0, 87.0, 0.02253911665676371)\">0.027</th><th style=\"background:rgba(230.2941176470614, 26.505882352939775, 102.59215686274348, 0.0)\">0.002</th><th style=\"background:rgba(230.2941176470614, 26.505882352939775, 102.59215686274348, 0.0)\">0.007</th><th style=\"background:rgba(230.2941176470614, 26.505882352939775, 102.59215686274348, 0.0)\">0.005</th><th style=\"background:rgba(230.2941176470614, 26.505882352939775, 102.59215686274348, 0.0)\">0.003</th><th style=\"background:rgba(230.2941176470614, 26.505882352939775, 102.59215686274348, 0.0)\">0.001</th><th style=\"background:rgba(230.2941176470614, 26.505882352939775, 102.59215686274348, 0.0)\">0.003</th><th style=\"background:rgba(230.2941176470614, 26.505882352939775, 102.59215686274348, 0.0)\">0.007</th><th style=\"background:rgba(230.2941176470614, 26.505882352939775, 102.59215686274348, 0.0)\">0.005</th><th style=\"background:rgba(230.2941176470614, 26.505882352939775, 102.59215686274348, 0.0)\">0.0</th><th style=\"background:rgba(230.2941176470614, 26.505882352939775, 102.59215686274348, 0.0)\">0.001</th><th style=\"background:rgba(230.2941176470614, 26.505882352939775, 102.59215686274348, 0.0)\">0.001</th><th style=\"background:rgba(230.2941176470614, 26.505882352939775, 102.59215686274348, 0.0)\">0.002</th><th style=\"background:rgba(230.2941176470614, 26.505882352939775, 102.59215686274348, 0.0)\">0.001</th><th style=\"background:rgba(230.2941176470614, 26.505882352939775, 102.59215686274348, 0.0)\">0.001</th><th style=\"background:rgba(255.0, 13.0, 87.0, 0.00677361853832443)\">0.009</th></tr><tr><th>ello</th><th style=\"background:rgba(255.0, 13.0, 87.0, 0.09348385818974037)\">0.093</th><th style=\"background:rgba(255.0, 13.0, 87.0, 0.02253911665676371)\">0.024</th><th style=\"background:rgba(230.2941176470614, 26.505882352939775, 102.59215686274348, 0.0)\">0.004</th><th style=\"background:rgba(255.0, 13.0, 87.0, 0.02253911665676371)\">0.024</th><th style=\"background:rgba(230.2941176470614, 26.505882352939775, 102.59215686274348, 0.0)\">0.002</th><th style=\"background:rgba(230.2941176470614, 26.505882352939775, 102.59215686274348, 0.0)\">0.006</th><th style=\"background:rgba(230.2941176470614, 26.505882352939775, 102.59215686274348, 0.0)\">0.003</th><th style=\"background:rgba(230.2941176470614, 26.505882352939775, 102.59215686274348, 0.0)\">0.002</th><th style=\"background:rgba(230.2941176470614, 26.505882352939775, 102.59215686274348, 0.0)\">0.001</th><th style=\"background:rgba(230.2941176470614, 26.505882352939775, 102.59215686274348, 0.0)\">0.002</th><th style=\"background:rgba(230.2941176470614, 26.505882352939775, 102.59215686274348, 0.0)\">0.004</th><th style=\"background:rgba(230.2941176470614, 26.505882352939775, 102.59215686274348, 0.0)\">0.004</th><th style=\"background:rgba(230.2941176470614, 26.505882352939775, 102.59215686274348, 0.0)\">0.0</th><th style=\"background:rgba(230.2941176470614, 26.505882352939775, 102.59215686274348, 0.0)\">0.0</th><th style=\"background:rgba(230.2941176470614, 26.505882352939775, 102.59215686274348, 0.0)\">0.001</th><th style=\"background:rgba(230.2941176470614, 26.505882352939775, 102.59215686274348, 0.0)\">0.003</th><th style=\"background:rgba(230.2941176470614, 26.505882352939775, 102.59215686274348, 0.0)\">0.001</th><th style=\"background:rgba(230.2941176470614, 26.505882352939775, 102.59215686274348, 0.0)\">0.001</th><th style=\"background:rgba(255.0, 13.0, 87.0, 0.00677361853832443)\">0.009</th></tr><tr><th>▁everyone</th><th style=\"background:rgba(255.0, 13.0, 87.0, 0.07771836007130124)\">0.076</th><th style=\"background:rgba(255.0, 13.0, 87.0, 0.07771836007130124)\">0.074</th><th style=\"background:rgba(255.0, 13.0, 87.0, 0.02253911665676371)\">0.024</th><th style=\"background:rgba(255.0, 13.0, 87.0, 0.16442859972271742)\">0.154</th><th style=\"background:rgba(255.0, 13.0, 87.0, 0.41667656961774624)\">0.39</th><th style=\"background:rgba(255.0, 13.0, 87.0, 0.09348385818974037)\">0.09</th><th style=\"background:rgba(255.0, 13.0, 87.0, 0.014656367597544035)\">0.019</th><th style=\"background:rgba(255.0, 13.0, 87.0, 0.12501485442661908)\">0.119</th><th style=\"background:rgba(255.0, 13.0, 87.0, 0.07771836007130124)\">0.076</th><th style=\"background:rgba(230.2941176470614, 26.505882352939775, 102.59215686274348, 0.0)\">0.004</th><th style=\"background:rgba(255.0, 13.0, 87.0, 0.014656367597544035)\">0.019</th><th style=\"background:rgba(255.0, 13.0, 87.0, 0.00677361853832443)\">0.009</th><th style=\"background:rgba(230.2941176470614, 26.505882352939775, 102.59215686274348, 0.0)\">0.003</th><th style=\"background:rgba(255.0, 13.0, 87.0, 0.00677361853832443)\">0.011</th><th style=\"background:rgba(255.0, 13.0, 87.0, 0.00677361853832443)\">0.012</th><th style=\"background:rgba(255.0, 13.0, 87.0, 0.014656367597544035)\">0.017</th><th style=\"background:rgba(255.0, 13.0, 87.0, 0.00677361853832443)\">0.011</th><th style=\"background:rgba(230.2941176470614, 26.505882352939775, 102.59215686274348, 0.0)\">0.005</th><th style=\"background:rgba(255.0, 13.0, 87.0, 0.00677361853832443)\">0.007</th></tr><tr><th>,</th><th style=\"background:rgba(255.0, 13.0, 87.0, 0.014656367597544035)\">0.021</th><th style=\"background:rgba(255.0, 13.0, 87.0, 0.07771836007130124)\">0.079</th><th style=\"background:rgba(255.0, 13.0, 87.0, 0.06195286195286207)\">0.065</th><th style=\"background:rgba(255.0, 13.0, 87.0, 0.02253911665676371)\">0.025</th><th style=\"background:rgba(255.0, 13.0, 87.0, 0.00677361853832443)\">0.009</th><th style=\"background:rgba(255.0, 13.0, 87.0, 0.02253911665676371)\">0.023</th><th style=\"background:rgba(255.0, 13.0, 87.0, 0.00677361853832443)\">0.013</th><th style=\"background:rgba(255.0, 13.0, 87.0, 0.00677361853832443)\">0.011</th><th style=\"background:rgba(230.2941176470614, 26.505882352939775, 102.59215686274348, 0.0)\">0.002</th><th style=\"background:rgba(230.2941176470614, 26.505882352939775, 102.59215686274348, 0.0)\">0.001</th><th style=\"background:rgba(230.2941176470614, 26.505882352939775, 102.59215686274348, 0.0)\">0.001</th><th style=\"background:rgba(230.2941176470614, 26.505882352939775, 102.59215686274348, 0.0)\">0.001</th><th style=\"background:rgba(255.0, 13.0, 87.0, 0.030421865715983164)\">0.03</th><th style=\"background:rgba(230.2941176470614, 26.505882352939775, 102.59215686274348, 0.0)\">0.001</th><th style=\"background:rgba(230.2941176470614, 26.505882352939775, 102.59215686274348, 0.0)\">0.0</th><th style=\"background:rgba(230.2941176470614, 26.505882352939775, 102.59215686274348, 0.0)\">0.001</th><th style=\"background:rgba(230.2941176470614, 26.505882352939775, 102.59215686274348, 0.0)\">0.002</th><th style=\"background:rgba(230.2941176470614, 26.505882352939775, 102.59215686274348, 0.0)\">0.001</th><th style=\"background:rgba(230.2941176470614, 26.505882352939775, 102.59215686274348, 0.0)\">0.001</th></tr><tr><th>▁hope</th><th style=\"background:rgba(255.0, 13.0, 87.0, 0.2747870865517925)\">0.26</th><th style=\"background:rgba(255.0, 13.0, 87.0, 0.00677361853832443)\">0.014</th><th style=\"background:rgba(255.0, 13.0, 87.0, 0.00677361853832443)\">0.01</th><th style=\"background:rgba(255.0, 13.0, 87.0, 0.09348385818974037)\">0.087</th><th style=\"background:rgba(230.2941176470614, 26.505882352939775, 102.59215686274348, 0.0)\">0.006</th><th style=\"background:rgba(255.0, 13.0, 87.0, 0.4009110714993067)\">0.374</th><th style=\"background:rgba(255.0, 13.0, 87.0, 0.5428005545652606)\">0.502</th><th style=\"background:rgba(255.0, 13.0, 87.0, 0.02253911665676371)\">0.026</th><th style=\"background:rgba(255.0, 13.0, 87.0, 0.014656367597544035)\">0.017</th><th style=\"background:rgba(255.0, 13.0, 87.0, 0.00677361853832443)\">0.009</th><th style=\"background:rgba(255.0, 13.0, 87.0, 0.00677361853832443)\">0.012</th><th style=\"background:rgba(255.0, 13.0, 87.0, 0.014656367597544035)\">0.015</th><th style=\"background:rgba(230.2941176470614, 26.505882352939775, 102.59215686274348, 0.0)\">0.001</th><th style=\"background:rgba(230.2941176470614, 26.505882352939775, 102.59215686274348, 0.0)\">0.001</th><th style=\"background:rgba(230.2941176470614, 26.505882352939775, 102.59215686274348, 0.0)\">0.001</th><th style=\"background:rgba(230.2941176470614, 26.505882352939775, 102.59215686274348, 0.0)\">0.003</th><th style=\"background:rgba(230.2941176470614, 26.505882352939775, 102.59215686274348, 0.0)\">0.003</th><th style=\"background:rgba(230.2941176470614, 26.505882352939775, 102.59215686274348, 0.0)\">0.003</th><th style=\"background:rgba(230.2941176470614, 26.505882352939775, 102.59215686274348, 0.0)\">0.005</th></tr><tr><th>▁you</th><th style=\"background:rgba(255.0, 13.0, 87.0, 0.00677361853832443)\">0.009</th><th style=\"background:rgba(230.2941176470614, 26.505882352939775, 102.59215686274348, 0.0)\">0.003</th><th style=\"background:rgba(230.2941176470614, 26.505882352939775, 102.59215686274348, 0.0)\">0.001</th><th style=\"background:rgba(230.2941176470614, 26.505882352939775, 102.59215686274348, 0.0)\">0.002</th><th style=\"background:rgba(230.2941176470614, 26.505882352939775, 102.59215686274348, 0.0)\">0.005</th><th style=\"background:rgba(255.0, 13.0, 87.0, 0.00677361853832443)\">0.01</th><th style=\"background:rgba(255.0, 13.0, 87.0, 0.030421865715983164)\">0.032</th><th style=\"background:rgba(255.0, 13.0, 87.0, 0.04618736383442265)\">0.047</th><th style=\"background:rgba(255.0, 13.0, 87.0, 0.06983561101208159)\">0.071</th><th style=\"background:rgba(255.0, 13.0, 87.0, 0.00677361853832443)\">0.012</th><th style=\"background:rgba(255.0, 13.0, 87.0, 0.00677361853832443)\">0.01</th><th style=\"background:rgba(230.2941176470614, 26.505882352939775, 102.59215686274348, 0.0)\">0.006</th><th style=\"background:rgba(255.0, 13.0, 87.0, 0.00677361853832443)\">0.013</th><th style=\"background:rgba(255.0, 13.0, 87.0, 0.00677361853832443)\">0.012</th><th style=\"background:rgba(230.2941176470614, 26.505882352939775, 102.59215686274348, 0.0)\">0.006</th><th style=\"background:rgba(230.2941176470614, 26.505882352939775, 102.59215686274348, 0.0)\">0.002</th><th style=\"background:rgba(230.2941176470614, 26.505882352939775, 102.59215686274348, 0.0)\">0.004</th><th style=\"background:rgba(255.0, 13.0, 87.0, 0.00677361853832443)\">0.008</th><th style=\"background:rgba(230.2941176470614, 26.505882352939775, 102.59215686274348, 0.0)\">0.003</th></tr><tr><th>'</th><th style=\"background:rgba(255.0, 13.0, 87.0, 0.00677361853832443)\">0.007</th><th style=\"background:rgba(230.2941176470614, 26.505882352939775, 102.59215686274348, 0.0)\">0.005</th><th style=\"background:rgba(230.2941176470614, 26.505882352939775, 102.59215686274348, 0.0)\">0.001</th><th style=\"background:rgba(230.2941176470614, 26.505882352939775, 102.59215686274348, 0.0)\">0.007</th><th style=\"background:rgba(230.2941176470614, 26.505882352939775, 102.59215686274348, 0.0)\">0.0</th><th style=\"background:rgba(255.0, 13.0, 87.0, 0.00677361853832443)\">0.014</th><th style=\"background:rgba(255.0, 13.0, 87.0, 0.02253911665676371)\">0.023</th><th style=\"background:rgba(255.0, 13.0, 87.0, 0.03830461477520289)\">0.042</th><th style=\"background:rgba(255.0, 13.0, 87.0, 0.030421865715983164)\">0.036</th><th style=\"background:rgba(255.0, 13.0, 87.0, 0.04618736383442265)\">0.048</th><th style=\"background:rgba(255.0, 13.0, 87.0, 0.014656367597544035)\">0.021</th><th style=\"background:rgba(255.0, 13.0, 87.0, 0.030421865715983164)\">0.033</th><th style=\"background:rgba(230.2941176470614, 26.505882352939775, 102.59215686274348, 0.0)\">0.001</th><th style=\"background:rgba(230.2941176470614, 26.505882352939775, 102.59215686274348, 0.0)\">0.006</th><th style=\"background:rgba(230.2941176470614, 26.505882352939775, 102.59215686274348, 0.0)\">0.006</th><th style=\"background:rgba(230.2941176470614, 26.505882352939775, 102.59215686274348, 0.0)\">0.001</th><th style=\"background:rgba(230.2941176470614, 26.505882352939775, 102.59215686274348, 0.0)\">0.002</th><th style=\"background:rgba(230.2941176470614, 26.505882352939775, 102.59215686274348, 0.0)\">0.005</th><th style=\"background:rgba(230.2941176470614, 26.505882352939775, 102.59215686274348, 0.0)\">0.001</th></tr><tr><th>re</th><th style=\"background:rgba(255.0, 13.0, 87.0, 0.00677361853832443)\">0.01</th><th style=\"background:rgba(230.2941176470614, 26.505882352939775, 102.59215686274348, 0.0)\">0.005</th><th style=\"background:rgba(230.2941176470614, 26.505882352939775, 102.59215686274348, 0.0)\">0.001</th><th style=\"background:rgba(255.0, 13.0, 87.0, 0.00677361853832443)\">0.01</th><th style=\"background:rgba(230.2941176470614, 26.505882352939775, 102.59215686274348, 0.0)\">0.0</th><th style=\"background:rgba(255.0, 13.0, 87.0, 0.014656367597544035)\">0.019</th><th style=\"background:rgba(255.0, 13.0, 87.0, 0.030421865715983164)\">0.03</th><th style=\"background:rgba(255.0, 13.0, 87.0, 0.05407011289364243)\">0.057</th><th style=\"background:rgba(255.0, 13.0, 87.0, 0.05407011289364243)\">0.055</th><th style=\"background:rgba(255.0, 13.0, 87.0, 0.06983561101208159)\">0.07</th><th style=\"background:rgba(255.0, 13.0, 87.0, 0.030421865715983164)\">0.032</th><th style=\"background:rgba(255.0, 13.0, 87.0, 0.05407011289364243)\">0.055</th><th style=\"background:rgba(230.2941176470614, 26.505882352939775, 102.59215686274348, 0.0)\">0.001</th><th style=\"background:rgba(255.0, 13.0, 87.0, 0.00677361853832443)\">0.009</th><th style=\"background:rgba(255.0, 13.0, 87.0, 0.00677361853832443)\">0.01</th><th style=\"background:rgba(230.2941176470614, 26.505882352939775, 102.59215686274348, 0.0)\">0.002</th><th style=\"background:rgba(230.2941176470614, 26.505882352939775, 102.59215686274348, 0.0)\">0.003</th><th style=\"background:rgba(255.0, 13.0, 87.0, 0.00677361853832443)\">0.007</th><th style=\"background:rgba(230.2941176470614, 26.505882352939775, 102.59215686274348, 0.0)\">0.002</th></tr><tr><th>▁enjoying</th><th style=\"background:rgba(230.2941176470614, 26.505882352939775, 102.59215686274348, 0.0)\">0.007</th><th style=\"background:rgba(255.0, 13.0, 87.0, 0.00677361853832443)\">0.007</th><th style=\"background:rgba(230.2941176470614, 26.505882352939775, 102.59215686274348, 0.0)\">0.004</th><th style=\"background:rgba(230.2941176470614, 26.505882352939775, 102.59215686274348, 0.0)\">0.004</th><th style=\"background:rgba(230.2941176470614, 26.505882352939775, 102.59215686274348, 0.0)\">0.001</th><th style=\"background:rgba(255.0, 13.0, 87.0, 0.00677361853832443)\">0.013</th><th style=\"background:rgba(255.0, 13.0, 87.0, 0.014656367597544035)\">0.018</th><th style=\"background:rgba(255.0, 13.0, 87.0, 0.22749059219647458)\">0.214</th><th style=\"background:rgba(255.0, 13.0, 87.0, 0.26690433749257286)\">0.247</th><th style=\"background:rgba(255.0, 13.0, 87.0, 0.33784907902554967)\">0.318</th><th style=\"background:rgba(255.0, 13.0, 87.0, 0.48762131115072294)\">0.45</th><th style=\"background:rgba(255.0, 13.0, 87.0, 0.4797385620915033)\">0.448</th><th style=\"background:rgba(230.2941176470614, 26.505882352939775, 102.59215686274348, 0.0)\">0.002</th><th style=\"background:rgba(255.0, 13.0, 87.0, 0.014656367597544035)\">0.016</th><th style=\"background:rgba(230.2941176470614, 26.505882352939775, 102.59215686274348, 0.0)\">0.006</th><th style=\"background:rgba(255.0, 13.0, 87.0, 0.00677361853832443)\">0.012</th><th style=\"background:rgba(230.2941176470614, 26.505882352939775, 102.59215686274348, 0.0)\">0.005</th><th style=\"background:rgba(230.2941176470614, 26.505882352939775, 102.59215686274348, 0.0)\">0.006</th><th style=\"background:rgba(230.2941176470614, 26.505882352939775, 102.59215686274348, 0.0)\">0.005</th></tr><tr><th>▁the</th><th style=\"background:rgba(230.2941176470614, 26.505882352939775, 102.59215686274348, 0.0)\">0.005</th><th style=\"background:rgba(230.2941176470614, 26.505882352939775, 102.59215686274348, 0.0)\">0.003</th><th style=\"background:rgba(230.2941176470614, 26.505882352939775, 102.59215686274348, 0.0)\">0.005</th><th style=\"background:rgba(230.2941176470614, 26.505882352939775, 102.59215686274348, 0.0)\">0.003</th><th style=\"background:rgba(230.2941176470614, 26.505882352939775, 102.59215686274348, 0.0)\">0.001</th><th style=\"background:rgba(230.2941176470614, 26.505882352939775, 102.59215686274348, 0.0)\">0.005</th><th style=\"background:rgba(230.2941176470614, 26.505882352939775, 102.59215686274348, 0.0)\">0.004</th><th style=\"background:rgba(255.0, 13.0, 87.0, 0.03830461477520289)\">0.037</th><th style=\"background:rgba(255.0, 13.0, 87.0, 0.03830461477520289)\">0.04</th><th style=\"background:rgba(255.0, 13.0, 87.0, 0.00677361853832443)\">0.01</th><th style=\"background:rgba(255.0, 13.0, 87.0, 0.014656367597544035)\">0.02</th><th style=\"background:rgba(255.0, 13.0, 87.0, 0.04618736383442265)\">0.044</th><th style=\"background:rgba(255.0, 13.0, 87.0, 0.014656367597544035)\">0.021</th><th style=\"background:rgba(255.0, 13.0, 87.0, 0.12501485442661908)\">0.12</th><th style=\"background:rgba(255.0, 13.0, 87.0, 0.04618736383442265)\">0.046</th><th style=\"background:rgba(255.0, 13.0, 87.0, 0.00677361853832443)\">0.011</th><th style=\"background:rgba(255.0, 13.0, 87.0, 0.00677361853832443)\">0.009</th><th style=\"background:rgba(255.0, 13.0, 87.0, 0.00677361853832443)\">0.007</th><th style=\"background:rgba(230.2941176470614, 26.505882352939775, 102.59215686274348, 0.0)\">0.003</th></tr><tr><th>▁tutor</th><th style=\"background:rgba(255.0, 13.0, 87.0, 0.00677361853832443)\">0.012</th><th style=\"background:rgba(230.2941176470614, 26.505882352939775, 102.59215686274348, 0.0)\">0.002</th><th style=\"background:rgba(230.2941176470614, 26.505882352939775, 102.59215686274348, 0.0)\">0.006</th><th style=\"background:rgba(255.0, 13.0, 87.0, 0.00677361853832443)\">0.011</th><th style=\"background:rgba(230.2941176470614, 26.505882352939775, 102.59215686274348, 0.0)\">0.001</th><th style=\"background:rgba(255.0, 13.0, 87.0, 0.00677361853832443)\">0.012</th><th style=\"background:rgba(230.2941176470614, 26.505882352939775, 102.59215686274348, 0.0)\">0.006</th><th style=\"background:rgba(255.0, 13.0, 87.0, 0.014656367597544035)\">0.018</th><th style=\"background:rgba(255.0, 13.0, 87.0, 0.014656367597544035)\">0.02</th><th style=\"background:rgba(255.0, 13.0, 87.0, 0.00677361853832443)\">0.009</th><th style=\"background:rgba(255.0, 13.0, 87.0, 0.00677361853832443)\">0.014</th><th style=\"background:rgba(255.0, 13.0, 87.0, 0.030421865715983164)\">0.033</th><th style=\"background:rgba(230.2941176470614, 26.505882352939775, 102.59215686274348, 0.0)\">0.003</th><th style=\"background:rgba(255.0, 13.0, 87.0, 0.030421865715983164)\">0.035</th><th style=\"background:rgba(255.0, 13.0, 87.0, 0.6925727866904339)\">0.641</th><th style=\"background:rgba(255.0, 13.0, 87.0, 0.06983561101208159)\">0.068</th><th style=\"background:rgba(255.0, 13.0, 87.0, 0.014656367597544035)\">0.016</th><th style=\"background:rgba(255.0, 13.0, 87.0, 0.014656367597544035)\">0.016</th><th style=\"background:rgba(255.0, 13.0, 87.0, 0.00677361853832443)\">0.013</th></tr><tr><th>ial</th><th style=\"background:rgba(230.2941176470614, 26.505882352939775, 102.59215686274348, 0.0)\">0.001</th><th style=\"background:rgba(230.2941176470614, 26.505882352939775, 102.59215686274348, 0.0)\">0.002</th><th style=\"background:rgba(230.2941176470614, 26.505882352939775, 102.59215686274348, 0.0)\">0.004</th><th style=\"background:rgba(230.2941176470614, 26.505882352939775, 102.59215686274348, 0.0)\">0.002</th><th style=\"background:rgba(230.2941176470614, 26.505882352939775, 102.59215686274348, 0.0)\">0.0</th><th style=\"background:rgba(230.2941176470614, 26.505882352939775, 102.59215686274348, 0.0)\">0.003</th><th style=\"background:rgba(230.2941176470614, 26.505882352939775, 102.59215686274348, 0.0)\">0.001</th><th style=\"background:rgba(255.0, 13.0, 87.0, 0.00677361853832443)\">0.009</th><th style=\"background:rgba(230.2941176470614, 26.505882352939775, 102.59215686274348, 0.0)\">0.006</th><th style=\"background:rgba(230.2941176470614, 26.505882352939775, 102.59215686274348, 0.0)\">0.002</th><th style=\"background:rgba(230.2941176470614, 26.505882352939775, 102.59215686274348, 0.0)\">0.002</th><th style=\"background:rgba(230.2941176470614, 26.505882352939775, 102.59215686274348, 0.0)\">0.004</th><th style=\"background:rgba(230.2941176470614, 26.505882352939775, 102.59215686274348, 0.0)\">0.003</th><th style=\"background:rgba(255.0, 13.0, 87.0, 0.00677361853832443)\">0.01</th><th style=\"background:rgba(255.0, 13.0, 87.0, 0.06195286195286207)\">0.059</th><th style=\"background:rgba(255.0, 13.0, 87.0, 0.08560110913052081)\">0.082</th><th style=\"background:rgba(255.0, 13.0, 87.0, 0.15654585066349747)\">0.15</th><th style=\"background:rgba(255.0, 13.0, 87.0, 0.014656367597544035)\">0.017</th><th style=\"background:rgba(230.2941176470614, 26.505882352939775, 102.59215686274348, 0.0)\">0.004</th></tr><tr><th>!</th><th style=\"background:rgba(255.0, 13.0, 87.0, 0.05407011289364243)\">0.052</th><th style=\"background:rgba(255.0, 13.0, 87.0, 0.05407011289364243)\">0.053</th><th style=\"background:rgba(255.0, 13.0, 87.0, 0.15654585066349747)\">0.15</th><th style=\"background:rgba(255.0, 13.0, 87.0, 0.03830461477520289)\">0.041</th><th style=\"background:rgba(255.0, 13.0, 87.0, 0.00677361853832443)\">0.01</th><th style=\"background:rgba(255.0, 13.0, 87.0, 0.02253911665676371)\">0.028</th><th style=\"background:rgba(255.0, 13.0, 87.0, 0.014656367597544035)\">0.019</th><th style=\"background:rgba(255.0, 13.0, 87.0, 0.03830461477520289)\">0.039</th><th style=\"background:rgba(255.0, 13.0, 87.0, 0.014656367597544035)\">0.017</th><th style=\"background:rgba(230.2941176470614, 26.505882352939775, 102.59215686274348, 0.0)\">0.004</th><th style=\"background:rgba(255.0, 13.0, 87.0, 0.00677361853832443)\">0.013</th><th style=\"background:rgba(255.0, 13.0, 87.0, 0.00677361853832443)\">0.014</th><th style=\"background:rgba(255.0, 13.0, 87.0, 0.24325609031491383)\">0.227</th><th style=\"background:rgba(255.0, 13.0, 87.0, 0.02253911665676371)\">0.024</th><th style=\"background:rgba(255.0, 13.0, 87.0, 0.00677361853832443)\">0.009</th><th style=\"background:rgba(255.0, 13.0, 87.0, 0.00677361853832443)\">0.013</th><th style=\"background:rgba(255.0, 13.0, 87.0, 0.014656367597544035)\">0.02</th><th style=\"background:rgba(255.0, 13.0, 87.0, 0.03830461477520289)\">0.041</th><th style=\"background:rgba(255.0, 13.0, 87.0, 0.00677361853832443)\">0.014</th></tr><tr><th>&lt;/s&gt;</th><th style=\"background:rgba(255.0, 13.0, 87.0, 0.33784907902554967)\">0.315</th><th style=\"background:rgba(255.0, 13.0, 87.0, 0.77928302634185)\">0.716</th><th style=\"background:rgba(255.0, 13.0, 87.0, 0.77928302634185)\">0.721</th><th style=\"background:rgba(255.0, 13.0, 87.0, 0.6531590413943356)\">0.602</th><th style=\"background:rgba(255.0, 13.0, 87.0, 0.621628045157457)\">0.573</th><th style=\"background:rgba(255.0, 13.0, 87.0, 0.4245593186769657)\">0.396</th><th style=\"background:rgba(255.0, 13.0, 87.0, 0.3457318280847692)\">0.325</th><th style=\"background:rgba(255.0, 13.0, 87.0, 0.4087938205585263)\">0.377</th><th style=\"background:rgba(255.0, 13.0, 87.0, 0.44032481679540497)\">0.411</th><th style=\"background:rgba(255.0, 13.0, 87.0, 0.55068330362448)\">0.509</th><th style=\"background:rgba(255.0, 13.0, 87.0, 0.4245593186769657)\">0.395</th><th style=\"background:rgba(255.0, 13.0, 87.0, 0.3536145771439889)\">0.329</th><th style=\"background:rgba(255.0, 13.0, 87.0, 0.755634779164191)\">0.695</th><th style=\"background:rgba(255.0, 13.0, 87.0, 0.8186967716379481)\">0.754</th><th style=\"background:rgba(255.0, 13.0, 87.0, 0.2117250940780353)\">0.2</th><th style=\"background:rgba(255.0, 13.0, 87.0, 0.8502277678748268)\">0.783</th><th style=\"background:rgba(255.0, 13.0, 87.0, 0.8344622697563875)\">0.772</th><th style=\"background:rgba(255.0, 13.0, 87.0, 0.9605862547039017)\">0.882</th><th style=\"background:rgba(255.0, 13.0, 87.0, 1.0)\">0.925</th></tr></table>\n",
       "</div>\n",
       "\n",
       "        </div>\n",
       "    </div>\n",
       "</div>\n",
       "</html>\n",
       "<br/><b>0th instance:</b><br/>\n",
       "<html>\n",
       "<div id=\"mogwlfosfizqlndfipff_viz_container\">\n",
       "    <div id=\"mogwlfosfizqlndfipff_content\" style=\"padding:15px;border-style:solid;margin:5px;\">\n",
       "        <div id = \"mogwlfosfizqlndfipff_saliency_plot_container\" class=\"mogwlfosfizqlndfipff_viz_container\" style=\"display:block\">\n",
       "            \n",
       "<div id=\"tounaiaywvhbwycmbttd_saliency_plot\" class=\"tounaiaywvhbwycmbttd_viz_content\">\n",
       "    <div style=\"margin:5px;font-family:sans-serif;font-weight:bold;\">\n",
       "        <span style=\"font-size: 20px;\">Target Saliency Heatmap</span>\n",
       "        <br>\n",
       "        x: Generated tokens, y: Attributed tokens\n",
       "    </div>\n",
       "    \n",
       "<table border=\"1\" cellpadding=\"5\" cellspacing=\"5\"\n",
       "    style=\"overflow-x:scroll;display:block;\">\n",
       "    <tr><th></th>\n",
       "<th>▁Ci</th><th>a</th><th>o</th><th>▁a</th><th>▁tutti</th><th>,</th><th>▁spero</th><th>▁che</th><th>▁vi</th><th>▁stia</th><th>te</th><th>▁gode</th><th>ndo</th><th>▁il</th><th>▁tu</th><th>tori</th><th>al</th><th>!</th><th>&lt;/s&gt;</th></tr><tr><th>▁Ci</th><th style=\"background:rgba(0.0, 0.0, 0.0, 0.0)\"></th><th style=\"background:rgba(255.0, 13.0, 87.0, 0.3772628243216479)\">0.352</th><th style=\"background:rgba(230.2941176470614, 26.505882352939775, 102.59215686274348, 0.0)\">0.002</th><th style=\"background:rgba(230.2941176470614, 26.505882352939775, 102.59215686274348, 0.0)\">0.006</th><th style=\"background:rgba(255.0, 13.0, 87.0, 0.030421865715983164)\">0.03</th><th style=\"background:rgba(230.2941176470614, 26.505882352939775, 102.59215686274348, 0.0)\">0.006</th><th style=\"background:rgba(255.0, 13.0, 87.0, 0.00677361853832443)\">0.01</th><th style=\"background:rgba(230.2941176470614, 26.505882352939775, 102.59215686274348, 0.0)\">0.001</th><th style=\"background:rgba(230.2941176470614, 26.505882352939775, 102.59215686274348, 0.0)\">0.001</th><th style=\"background:rgba(230.2941176470614, 26.505882352939775, 102.59215686274348, 0.0)\">0.003</th><th style=\"background:rgba(230.2941176470614, 26.505882352939775, 102.59215686274348, 0.0)\">0.001</th><th style=\"background:rgba(230.2941176470614, 26.505882352939775, 102.59215686274348, 0.0)\">0.005</th><th style=\"background:rgba(230.2941176470614, 26.505882352939775, 102.59215686274348, 0.0)\">0.0</th><th style=\"background:rgba(230.2941176470614, 26.505882352939775, 102.59215686274348, 0.0)\">0.0</th><th style=\"background:rgba(230.2941176470614, 26.505882352939775, 102.59215686274348, 0.0)\">0.001</th><th style=\"background:rgba(230.2941176470614, 26.505882352939775, 102.59215686274348, 0.0)\">0.001</th><th style=\"background:rgba(230.2941176470614, 26.505882352939775, 102.59215686274348, 0.0)\">0.001</th><th style=\"background:rgba(230.2941176470614, 26.505882352939775, 102.59215686274348, 0.0)\">0.0</th><th style=\"background:rgba(230.2941176470614, 26.505882352939775, 102.59215686274348, 0.0)\">0.004</th></tr><tr><th>a</th><th style=\"background:rgba(0.0, 0.0, 0.0, 0.0)\"></th><th style=\"background:rgba(0.0, 0.0, 0.0, 0.0)\"></th><th style=\"background:rgba(255.0, 13.0, 87.0, 0.44032481679540497)\">0.41</th><th style=\"background:rgba(255.0, 13.0, 87.0, 0.00677361853832443)\">0.008</th><th style=\"background:rgba(255.0, 13.0, 87.0, 0.00677361853832443)\">0.011</th><th style=\"background:rgba(230.2941176470614, 26.505882352939775, 102.59215686274348, 0.0)\">0.004</th><th style=\"background:rgba(255.0, 13.0, 87.0, 0.00677361853832443)\">0.008</th><th style=\"background:rgba(230.2941176470614, 26.505882352939775, 102.59215686274348, 0.0)\">0.0</th><th style=\"background:rgba(230.2941176470614, 26.505882352939775, 102.59215686274348, 0.0)\">0.0</th><th style=\"background:rgba(230.2941176470614, 26.505882352939775, 102.59215686274348, 0.0)\">0.001</th><th style=\"background:rgba(230.2941176470614, 26.505882352939775, 102.59215686274348, 0.0)\">0.0</th><th style=\"background:rgba(230.2941176470614, 26.505882352939775, 102.59215686274348, 0.0)\">0.0</th><th style=\"background:rgba(230.2941176470614, 26.505882352939775, 102.59215686274348, 0.0)\">0.0</th><th style=\"background:rgba(230.2941176470614, 26.505882352939775, 102.59215686274348, 0.0)\">0.0</th><th style=\"background:rgba(230.2941176470614, 26.505882352939775, 102.59215686274348, 0.0)\">0.001</th><th style=\"background:rgba(230.2941176470614, 26.505882352939775, 102.59215686274348, 0.0)\">0.001</th><th style=\"background:rgba(230.2941176470614, 26.505882352939775, 102.59215686274348, 0.0)\">0.002</th><th style=\"background:rgba(230.2941176470614, 26.505882352939775, 102.59215686274348, 0.0)\">0.0</th><th style=\"background:rgba(230.2941176470614, 26.505882352939775, 102.59215686274348, 0.0)\">0.004</th></tr><tr><th>o</th><th style=\"background:rgba(0.0, 0.0, 0.0, 0.0)\"></th><th style=\"background:rgba(0.0, 0.0, 0.0, 0.0)\"></th><th style=\"background:rgba(0.0, 0.0, 0.0, 0.0)\"></th><th style=\"background:rgba(255.0, 13.0, 87.0, 0.5033868092691621)\">0.463</th><th style=\"background:rgba(255.0, 13.0, 87.0, 0.02253911665676371)\">0.026</th><th style=\"background:rgba(255.0, 13.0, 87.0, 0.02253911665676371)\">0.023</th><th style=\"background:rgba(255.0, 13.0, 87.0, 0.014656367597544035)\">0.015</th><th style=\"background:rgba(255.0, 13.0, 87.0, 0.00677361853832443)\">0.011</th><th style=\"background:rgba(230.2941176470614, 26.505882352939775, 102.59215686274348, 0.0)\">0.006</th><th style=\"background:rgba(230.2941176470614, 26.505882352939775, 102.59215686274348, 0.0)\">0.001</th><th style=\"background:rgba(230.2941176470614, 26.505882352939775, 102.59215686274348, 0.0)\">0.003</th><th style=\"background:rgba(230.2941176470614, 26.505882352939775, 102.59215686274348, 0.0)\">0.001</th><th style=\"background:rgba(230.2941176470614, 26.505882352939775, 102.59215686274348, 0.0)\">0.001</th><th style=\"background:rgba(230.2941176470614, 26.505882352939775, 102.59215686274348, 0.0)\">0.0</th><th style=\"background:rgba(230.2941176470614, 26.505882352939775, 102.59215686274348, 0.0)\">0.003</th><th style=\"background:rgba(230.2941176470614, 26.505882352939775, 102.59215686274348, 0.0)\">0.0</th><th style=\"background:rgba(230.2941176470614, 26.505882352939775, 102.59215686274348, 0.0)\">0.0</th><th style=\"background:rgba(230.2941176470614, 26.505882352939775, 102.59215686274348, 0.0)\">0.001</th><th style=\"background:rgba(230.2941176470614, 26.505882352939775, 102.59215686274348, 0.0)\">0.004</th></tr><tr><th>▁a</th><th style=\"background:rgba(0.0, 0.0, 0.0, 0.0)\"></th><th style=\"background:rgba(0.0, 0.0, 0.0, 0.0)\"></th><th style=\"background:rgba(0.0, 0.0, 0.0, 0.0)\"></th><th style=\"background:rgba(0.0, 0.0, 0.0, 0.0)\"></th><th style=\"background:rgba(255.0, 13.0, 87.0, 0.2590215884333532)\">0.24</th><th style=\"background:rgba(255.0, 13.0, 87.0, 0.014656367597544035)\">0.015</th><th style=\"background:rgba(230.2941176470614, 26.505882352939775, 102.59215686274348, 0.0)\">0.006</th><th style=\"background:rgba(230.2941176470614, 26.505882352939775, 102.59215686274348, 0.0)\">0.002</th><th style=\"background:rgba(230.2941176470614, 26.505882352939775, 102.59215686274348, 0.0)\">0.002</th><th style=\"background:rgba(230.2941176470614, 26.505882352939775, 102.59215686274348, 0.0)\">0.001</th><th style=\"background:rgba(230.2941176470614, 26.505882352939775, 102.59215686274348, 0.0)\">0.001</th><th style=\"background:rgba(230.2941176470614, 26.505882352939775, 102.59215686274348, 0.0)\">0.0</th><th style=\"background:rgba(230.2941176470614, 26.505882352939775, 102.59215686274348, 0.0)\">0.001</th><th style=\"background:rgba(230.2941176470614, 26.505882352939775, 102.59215686274348, 0.0)\">0.001</th><th style=\"background:rgba(230.2941176470614, 26.505882352939775, 102.59215686274348, 0.0)\">0.001</th><th style=\"background:rgba(230.2941176470614, 26.505882352939775, 102.59215686274348, 0.0)\">0.001</th><th style=\"background:rgba(230.2941176470614, 26.505882352939775, 102.59215686274348, 0.0)\">0.0</th><th style=\"background:rgba(230.2941176470614, 26.505882352939775, 102.59215686274348, 0.0)\">0.001</th><th style=\"background:rgba(230.2941176470614, 26.505882352939775, 102.59215686274348, 0.0)\">0.001</th></tr><tr><th>▁tutti</th><th style=\"background:rgba(0.0, 0.0, 0.0, 0.0)\"></th><th style=\"background:rgba(0.0, 0.0, 0.0, 0.0)\"></th><th style=\"background:rgba(0.0, 0.0, 0.0, 0.0)\"></th><th style=\"background:rgba(0.0, 0.0, 0.0, 0.0)\"></th><th style=\"background:rgba(0.0, 0.0, 0.0, 0.0)\"></th><th style=\"background:rgba(255.0, 13.0, 87.0, 0.5349178055060405)\">0.498</th><th style=\"background:rgba(255.0, 13.0, 87.0, 0.10136660724896006)\">0.094</th><th style=\"background:rgba(255.0, 13.0, 87.0, 0.14866310160427795)\">0.142</th><th style=\"background:rgba(255.0, 13.0, 87.0, 0.14078035254505847)\">0.132</th><th style=\"background:rgba(230.2941176470614, 26.505882352939775, 102.59215686274348, 0.0)\">0.005</th><th style=\"background:rgba(255.0, 13.0, 87.0, 0.014656367597544035)\">0.017</th><th style=\"background:rgba(230.2941176470614, 26.505882352939775, 102.59215686274348, 0.0)\">0.004</th><th style=\"background:rgba(230.2941176470614, 26.505882352939775, 102.59215686274348, 0.0)\">0.002</th><th style=\"background:rgba(230.2941176470614, 26.505882352939775, 102.59215686274348, 0.0)\">0.005</th><th style=\"background:rgba(255.0, 13.0, 87.0, 0.00677361853832443)\">0.011</th><th style=\"background:rgba(230.2941176470614, 26.505882352939775, 102.59215686274348, 0.0)\">0.004</th><th style=\"background:rgba(230.2941176470614, 26.505882352939775, 102.59215686274348, 0.0)\">0.002</th><th style=\"background:rgba(230.2941176470614, 26.505882352939775, 102.59215686274348, 0.0)\">0.007</th><th style=\"background:rgba(255.0, 13.0, 87.0, 0.00677361853832443)\">0.009</th></tr><tr><th>,</th><th style=\"background:rgba(0.0, 0.0, 0.0, 0.0)\"></th><th style=\"background:rgba(0.0, 0.0, 0.0, 0.0)\"></th><th style=\"background:rgba(0.0, 0.0, 0.0, 0.0)\"></th><th style=\"background:rgba(0.0, 0.0, 0.0, 0.0)\"></th><th style=\"background:rgba(0.0, 0.0, 0.0, 0.0)\"></th><th style=\"background:rgba(0.0, 0.0, 0.0, 0.0)\"></th><th style=\"background:rgba(255.0, 13.0, 87.0, 0.49550406020994264)\">0.456</th><th style=\"background:rgba(255.0, 13.0, 87.0, 0.03830461477520289)\">0.039</th><th style=\"background:rgba(255.0, 13.0, 87.0, 0.03830461477520289)\">0.038</th><th style=\"background:rgba(255.0, 13.0, 87.0, 0.00677361853832443)\">0.011</th><th style=\"background:rgba(255.0, 13.0, 87.0, 0.00677361853832443)\">0.013</th><th style=\"background:rgba(255.0, 13.0, 87.0, 0.00677361853832443)\">0.009</th><th style=\"background:rgba(255.0, 13.0, 87.0, 0.00677361853832443)\">0.008</th><th style=\"background:rgba(255.0, 13.0, 87.0, 0.00677361853832443)\">0.011</th><th style=\"background:rgba(255.0, 13.0, 87.0, 0.014656367597544035)\">0.016</th><th style=\"background:rgba(230.2941176470614, 26.505882352939775, 102.59215686274348, 0.0)\">0.004</th><th style=\"background:rgba(230.2941176470614, 26.505882352939775, 102.59215686274348, 0.0)\">0.005</th><th style=\"background:rgba(255.0, 13.0, 87.0, 0.02253911665676371)\">0.027</th><th style=\"background:rgba(255.0, 13.0, 87.0, 0.00677361853832443)\">0.011</th></tr><tr><th>▁spero</th><th style=\"background:rgba(0.0, 0.0, 0.0, 0.0)\"></th><th style=\"background:rgba(0.0, 0.0, 0.0, 0.0)\"></th><th style=\"background:rgba(0.0, 0.0, 0.0, 0.0)\"></th><th style=\"background:rgba(0.0, 0.0, 0.0, 0.0)\"></th><th style=\"background:rgba(0.0, 0.0, 0.0, 0.0)\"></th><th style=\"background:rgba(0.0, 0.0, 0.0, 0.0)\"></th><th style=\"background:rgba(0.0, 0.0, 0.0, 0.0)\"></th><th style=\"background:rgba(255.0, 13.0, 87.0, 0.6295107942166767)\">0.584</th><th style=\"background:rgba(255.0, 13.0, 87.0, 0.1171321053673995)\">0.112</th><th style=\"background:rgba(255.0, 13.0, 87.0, 0.10136660724896006)\">0.096</th><th style=\"background:rgba(255.0, 13.0, 87.0, 0.03830461477520289)\">0.037</th><th style=\"background:rgba(255.0, 13.0, 87.0, 0.02253911665676371)\">0.025</th><th style=\"background:rgba(230.2941176470614, 26.505882352939775, 102.59215686274348, 0.0)\">0.007</th><th style=\"background:rgba(255.0, 13.0, 87.0, 0.03830461477520289)\">0.038</th><th style=\"background:rgba(255.0, 13.0, 87.0, 0.02253911665676371)\">0.022</th><th style=\"background:rgba(230.2941176470614, 26.505882352939775, 102.59215686274348, 0.0)\">0.001</th><th style=\"background:rgba(230.2941176470614, 26.505882352939775, 102.59215686274348, 0.0)\">0.001</th><th style=\"background:rgba(230.2941176470614, 26.505882352939775, 102.59215686274348, 0.0)\">0.005</th><th style=\"background:rgba(255.0, 13.0, 87.0, 0.02253911665676371)\">0.023</th></tr><tr><th>▁che</th><th style=\"background:rgba(0.0, 0.0, 0.0, 0.0)\"></th><th style=\"background:rgba(0.0, 0.0, 0.0, 0.0)\"></th><th style=\"background:rgba(0.0, 0.0, 0.0, 0.0)\"></th><th style=\"background:rgba(0.0, 0.0, 0.0, 0.0)\"></th><th style=\"background:rgba(0.0, 0.0, 0.0, 0.0)\"></th><th style=\"background:rgba(0.0, 0.0, 0.0, 0.0)\"></th><th style=\"background:rgba(0.0, 0.0, 0.0, 0.0)\"></th><th style=\"background:rgba(0.0, 0.0, 0.0, 0.0)\"></th><th style=\"background:rgba(255.0, 13.0, 87.0, 0.5664488017429193)\">0.523</th><th style=\"background:rgba(255.0, 13.0, 87.0, 0.2511388393741335)\">0.233</th><th style=\"background:rgba(255.0, 13.0, 87.0, 0.05407011289364243)\">0.055</th><th style=\"background:rgba(255.0, 13.0, 87.0, 0.04618736383442265)\">0.044</th><th style=\"background:rgba(255.0, 13.0, 87.0, 0.00677361853832443)\">0.013</th><th style=\"background:rgba(255.0, 13.0, 87.0, 0.04618736383442265)\">0.049</th><th style=\"background:rgba(255.0, 13.0, 87.0, 0.00677361853832443)\">0.01</th><th style=\"background:rgba(230.2941176470614, 26.505882352939775, 102.59215686274348, 0.0)\">0.001</th><th style=\"background:rgba(230.2941176470614, 26.505882352939775, 102.59215686274348, 0.0)\">0.001</th><th style=\"background:rgba(255.0, 13.0, 87.0, 0.00677361853832443)\">0.01</th><th style=\"background:rgba(255.0, 13.0, 87.0, 0.00677361853832443)\">0.011</th></tr><tr><th>▁vi</th><th style=\"background:rgba(0.0, 0.0, 0.0, 0.0)\"></th><th style=\"background:rgba(0.0, 0.0, 0.0, 0.0)\"></th><th style=\"background:rgba(0.0, 0.0, 0.0, 0.0)\"></th><th style=\"background:rgba(0.0, 0.0, 0.0, 0.0)\"></th><th style=\"background:rgba(0.0, 0.0, 0.0, 0.0)\"></th><th style=\"background:rgba(0.0, 0.0, 0.0, 0.0)\"></th><th style=\"background:rgba(0.0, 0.0, 0.0, 0.0)\"></th><th style=\"background:rgba(0.0, 0.0, 0.0, 0.0)\"></th><th style=\"background:rgba(0.0, 0.0, 0.0, 0.0)\"></th><th style=\"background:rgba(255.0, 13.0, 87.0, 0.10924935630817992)\">0.102</th><th style=\"background:rgba(255.0, 13.0, 87.0, 0.2117250940780353)\">0.198</th><th style=\"background:rgba(255.0, 13.0, 87.0, 0.09348385818974037)\">0.092</th><th style=\"background:rgba(255.0, 13.0, 87.0, 0.014656367597544035)\">0.015</th><th style=\"background:rgba(255.0, 13.0, 87.0, 0.014656367597544035)\">0.015</th><th style=\"background:rgba(255.0, 13.0, 87.0, 0.014656367597544035)\">0.021</th><th style=\"background:rgba(230.2941176470614, 26.505882352939775, 102.59215686274348, 0.0)\">0.004</th><th style=\"background:rgba(230.2941176470614, 26.505882352939775, 102.59215686274348, 0.0)\">0.001</th><th style=\"background:rgba(230.2941176470614, 26.505882352939775, 102.59215686274348, 0.0)\">0.005</th><th style=\"background:rgba(230.2941176470614, 26.505882352939775, 102.59215686274348, 0.0)\">0.007</th></tr><tr><th>▁stia</th><th style=\"background:rgba(0.0, 0.0, 0.0, 0.0)\"></th><th style=\"background:rgba(0.0, 0.0, 0.0, 0.0)\"></th><th style=\"background:rgba(0.0, 0.0, 0.0, 0.0)\"></th><th style=\"background:rgba(0.0, 0.0, 0.0, 0.0)\"></th><th style=\"background:rgba(0.0, 0.0, 0.0, 0.0)\"></th><th style=\"background:rgba(0.0, 0.0, 0.0, 0.0)\"></th><th style=\"background:rgba(0.0, 0.0, 0.0, 0.0)\"></th><th style=\"background:rgba(0.0, 0.0, 0.0, 0.0)\"></th><th style=\"background:rgba(0.0, 0.0, 0.0, 0.0)\"></th><th style=\"background:rgba(0.0, 0.0, 0.0, 0.0)\"></th><th style=\"background:rgba(255.0, 13.0, 87.0, 0.5664488017429193)\">0.522</th><th style=\"background:rgba(255.0, 13.0, 87.0, 0.1171321053673995)\">0.115</th><th style=\"background:rgba(255.0, 13.0, 87.0, 0.10924935630817992)\">0.104</th><th style=\"background:rgba(255.0, 13.0, 87.0, 0.00677361853832443)\">0.009</th><th style=\"background:rgba(230.2941176470614, 26.505882352939775, 102.59215686274348, 0.0)\">0.006</th><th style=\"background:rgba(230.2941176470614, 26.505882352939775, 102.59215686274348, 0.0)\">0.001</th><th style=\"background:rgba(230.2941176470614, 26.505882352939775, 102.59215686274348, 0.0)\">0.0</th><th style=\"background:rgba(230.2941176470614, 26.505882352939775, 102.59215686274348, 0.0)\">0.003</th><th style=\"background:rgba(230.2941176470614, 26.505882352939775, 102.59215686274348, 0.0)\">0.005</th></tr><tr><th>te</th><th style=\"background:rgba(0.0, 0.0, 0.0, 0.0)\"></th><th style=\"background:rgba(0.0, 0.0, 0.0, 0.0)\"></th><th style=\"background:rgba(0.0, 0.0, 0.0, 0.0)\"></th><th style=\"background:rgba(0.0, 0.0, 0.0, 0.0)\"></th><th style=\"background:rgba(0.0, 0.0, 0.0, 0.0)\"></th><th style=\"background:rgba(0.0, 0.0, 0.0, 0.0)\"></th><th style=\"background:rgba(0.0, 0.0, 0.0, 0.0)\"></th><th style=\"background:rgba(0.0, 0.0, 0.0, 0.0)\"></th><th style=\"background:rgba(0.0, 0.0, 0.0, 0.0)\"></th><th style=\"background:rgba(0.0, 0.0, 0.0, 0.0)\"></th><th style=\"background:rgba(0.0, 0.0, 0.0, 0.0)\"></th><th style=\"background:rgba(255.0, 13.0, 87.0, 0.3851455733808676)\">0.358</th><th style=\"background:rgba(255.0, 13.0, 87.0, 0.22749059219647458)\">0.215</th><th style=\"background:rgba(255.0, 13.0, 87.0, 0.00677361853832443)\">0.013</th><th style=\"background:rgba(255.0, 13.0, 87.0, 0.014656367597544035)\">0.017</th><th style=\"background:rgba(230.2941176470614, 26.505882352939775, 102.59215686274348, 0.0)\">0.003</th><th style=\"background:rgba(230.2941176470614, 26.505882352939775, 102.59215686274348, 0.0)\">0.002</th><th style=\"background:rgba(230.2941176470614, 26.505882352939775, 102.59215686274348, 0.0)\">0.004</th><th style=\"background:rgba(255.0, 13.0, 87.0, 0.00677361853832443)\">0.01</th></tr><tr><th>▁gode</th><th style=\"background:rgba(0.0, 0.0, 0.0, 0.0)\"></th><th style=\"background:rgba(0.0, 0.0, 0.0, 0.0)\"></th><th style=\"background:rgba(0.0, 0.0, 0.0, 0.0)\"></th><th style=\"background:rgba(0.0, 0.0, 0.0, 0.0)\"></th><th style=\"background:rgba(0.0, 0.0, 0.0, 0.0)\"></th><th style=\"background:rgba(0.0, 0.0, 0.0, 0.0)\"></th><th style=\"background:rgba(0.0, 0.0, 0.0, 0.0)\"></th><th style=\"background:rgba(0.0, 0.0, 0.0, 0.0)\"></th><th style=\"background:rgba(0.0, 0.0, 0.0, 0.0)\"></th><th style=\"background:rgba(0.0, 0.0, 0.0, 0.0)\"></th><th style=\"background:rgba(0.0, 0.0, 0.0, 0.0)\"></th><th style=\"background:rgba(0.0, 0.0, 0.0, 0.0)\"></th><th style=\"background:rgba(255.0, 13.0, 87.0, 0.36149732620320857)\">0.336</th><th style=\"background:rgba(230.2941176470614, 26.505882352939775, 102.59215686274348, 0.0)\">0.002</th><th style=\"background:rgba(230.2941176470614, 26.505882352939775, 102.59215686274348, 0.0)\">0.002</th><th style=\"background:rgba(230.2941176470614, 26.505882352939775, 102.59215686274348, 0.0)\">0.001</th><th style=\"background:rgba(230.2941176470614, 26.505882352939775, 102.59215686274348, 0.0)\">0.0</th><th style=\"background:rgba(230.2941176470614, 26.505882352939775, 102.59215686274348, 0.0)\">0.0</th><th style=\"background:rgba(230.2941176470614, 26.505882352939775, 102.59215686274348, 0.0)\">0.002</th></tr><tr><th>ndo</th><th style=\"background:rgba(0.0, 0.0, 0.0, 0.0)\"></th><th style=\"background:rgba(0.0, 0.0, 0.0, 0.0)\"></th><th style=\"background:rgba(0.0, 0.0, 0.0, 0.0)\"></th><th style=\"background:rgba(0.0, 0.0, 0.0, 0.0)\"></th><th style=\"background:rgba(0.0, 0.0, 0.0, 0.0)\"></th><th style=\"background:rgba(0.0, 0.0, 0.0, 0.0)\"></th><th style=\"background:rgba(0.0, 0.0, 0.0, 0.0)\"></th><th style=\"background:rgba(0.0, 0.0, 0.0, 0.0)\"></th><th style=\"background:rgba(0.0, 0.0, 0.0, 0.0)\"></th><th style=\"background:rgba(0.0, 0.0, 0.0, 0.0)\"></th><th style=\"background:rgba(0.0, 0.0, 0.0, 0.0)\"></th><th style=\"background:rgba(0.0, 0.0, 0.0, 0.0)\"></th><th style=\"background:rgba(0.0, 0.0, 0.0, 0.0)\"></th><th style=\"background:rgba(255.0, 13.0, 87.0, 0.5112695583283818)\">0.47</th><th style=\"background:rgba(255.0, 13.0, 87.0, 0.04618736383442265)\">0.049</th><th style=\"background:rgba(230.2941176470614, 26.505882352939775, 102.59215686274348, 0.0)\">0.004</th><th style=\"background:rgba(230.2941176470614, 26.505882352939775, 102.59215686274348, 0.0)\">0.003</th><th style=\"background:rgba(255.0, 13.0, 87.0, 0.014656367597544035)\">0.018</th><th style=\"background:rgba(255.0, 13.0, 87.0, 0.00677361853832443)\">0.009</th></tr><tr><th>▁il</th><th style=\"background:rgba(0.0, 0.0, 0.0, 0.0)\"></th><th style=\"background:rgba(0.0, 0.0, 0.0, 0.0)\"></th><th style=\"background:rgba(0.0, 0.0, 0.0, 0.0)\"></th><th style=\"background:rgba(0.0, 0.0, 0.0, 0.0)\"></th><th style=\"background:rgba(0.0, 0.0, 0.0, 0.0)\"></th><th style=\"background:rgba(0.0, 0.0, 0.0, 0.0)\"></th><th style=\"background:rgba(0.0, 0.0, 0.0, 0.0)\"></th><th style=\"background:rgba(0.0, 0.0, 0.0, 0.0)\"></th><th style=\"background:rgba(0.0, 0.0, 0.0, 0.0)\"></th><th style=\"background:rgba(0.0, 0.0, 0.0, 0.0)\"></th><th style=\"background:rgba(0.0, 0.0, 0.0, 0.0)\"></th><th style=\"background:rgba(0.0, 0.0, 0.0, 0.0)\"></th><th style=\"background:rgba(0.0, 0.0, 0.0, 0.0)\"></th><th style=\"background:rgba(0.0, 0.0, 0.0, 0.0)\"></th><th style=\"background:rgba(255.0, 13.0, 87.0, 0.32208358090711037)\">0.298</th><th style=\"background:rgba(255.0, 13.0, 87.0, 0.02253911665676371)\">0.025</th><th style=\"background:rgba(255.0, 13.0, 87.0, 0.00677361853832443)\">0.008</th><th style=\"background:rgba(255.0, 13.0, 87.0, 0.014656367597544035)\">0.018</th><th style=\"background:rgba(255.0, 13.0, 87.0, 0.00677361853832443)\">0.009</th></tr><tr><th>▁tu</th><th style=\"background:rgba(0.0, 0.0, 0.0, 0.0)\"></th><th style=\"background:rgba(0.0, 0.0, 0.0, 0.0)\"></th><th style=\"background:rgba(0.0, 0.0, 0.0, 0.0)\"></th><th style=\"background:rgba(0.0, 0.0, 0.0, 0.0)\"></th><th style=\"background:rgba(0.0, 0.0, 0.0, 0.0)\"></th><th style=\"background:rgba(0.0, 0.0, 0.0, 0.0)\"></th><th style=\"background:rgba(0.0, 0.0, 0.0, 0.0)\"></th><th style=\"background:rgba(0.0, 0.0, 0.0, 0.0)\"></th><th style=\"background:rgba(0.0, 0.0, 0.0, 0.0)\"></th><th style=\"background:rgba(0.0, 0.0, 0.0, 0.0)\"></th><th style=\"background:rgba(0.0, 0.0, 0.0, 0.0)\"></th><th style=\"background:rgba(0.0, 0.0, 0.0, 0.0)\"></th><th style=\"background:rgba(0.0, 0.0, 0.0, 0.0)\"></th><th style=\"background:rgba(0.0, 0.0, 0.0, 0.0)\"></th><th style=\"background:rgba(0.0, 0.0, 0.0, 0.0)\"></th><th style=\"background:rgba(255.0, 13.0, 87.0, 0.48762131115072294)\">0.448</th><th style=\"background:rgba(230.2941176470614, 26.505882352939775, 102.59215686274348, 0.0)\">0.006</th><th style=\"background:rgba(230.2941176470614, 26.505882352939775, 102.59215686274348, 0.0)\">0.001</th><th style=\"background:rgba(230.2941176470614, 26.505882352939775, 102.59215686274348, 0.0)\">0.003</th></tr><tr><th>tori</th><th style=\"background:rgba(0.0, 0.0, 0.0, 0.0)\"></th><th style=\"background:rgba(0.0, 0.0, 0.0, 0.0)\"></th><th style=\"background:rgba(0.0, 0.0, 0.0, 0.0)\"></th><th style=\"background:rgba(0.0, 0.0, 0.0, 0.0)\"></th><th style=\"background:rgba(0.0, 0.0, 0.0, 0.0)\"></th><th style=\"background:rgba(0.0, 0.0, 0.0, 0.0)\"></th><th style=\"background:rgba(0.0, 0.0, 0.0, 0.0)\"></th><th style=\"background:rgba(0.0, 0.0, 0.0, 0.0)\"></th><th style=\"background:rgba(0.0, 0.0, 0.0, 0.0)\"></th><th style=\"background:rgba(0.0, 0.0, 0.0, 0.0)\"></th><th style=\"background:rgba(0.0, 0.0, 0.0, 0.0)\"></th><th style=\"background:rgba(0.0, 0.0, 0.0, 0.0)\"></th><th style=\"background:rgba(0.0, 0.0, 0.0, 0.0)\"></th><th style=\"background:rgba(0.0, 0.0, 0.0, 0.0)\"></th><th style=\"background:rgba(0.0, 0.0, 0.0, 0.0)\"></th><th style=\"background:rgba(0.0, 0.0, 0.0, 0.0)\"></th><th style=\"background:rgba(255.0, 13.0, 87.0, 0.29055258467023165)\">0.269</th><th style=\"background:rgba(230.2941176470614, 26.505882352939775, 102.59215686274348, 0.0)\">0.001</th><th style=\"background:rgba(230.2941176470614, 26.505882352939775, 102.59215686274348, 0.0)\">0.005</th></tr><tr><th>al</th><th style=\"background:rgba(0.0, 0.0, 0.0, 0.0)\"></th><th style=\"background:rgba(0.0, 0.0, 0.0, 0.0)\"></th><th style=\"background:rgba(0.0, 0.0, 0.0, 0.0)\"></th><th style=\"background:rgba(0.0, 0.0, 0.0, 0.0)\"></th><th style=\"background:rgba(0.0, 0.0, 0.0, 0.0)\"></th><th style=\"background:rgba(0.0, 0.0, 0.0, 0.0)\"></th><th style=\"background:rgba(0.0, 0.0, 0.0, 0.0)\"></th><th style=\"background:rgba(0.0, 0.0, 0.0, 0.0)\"></th><th style=\"background:rgba(0.0, 0.0, 0.0, 0.0)\"></th><th style=\"background:rgba(0.0, 0.0, 0.0, 0.0)\"></th><th style=\"background:rgba(0.0, 0.0, 0.0, 0.0)\"></th><th style=\"background:rgba(0.0, 0.0, 0.0, 0.0)\"></th><th style=\"background:rgba(0.0, 0.0, 0.0, 0.0)\"></th><th style=\"background:rgba(0.0, 0.0, 0.0, 0.0)\"></th><th style=\"background:rgba(0.0, 0.0, 0.0, 0.0)\"></th><th style=\"background:rgba(0.0, 0.0, 0.0, 0.0)\"></th><th style=\"background:rgba(0.0, 0.0, 0.0, 0.0)\"></th><th style=\"background:rgba(255.0, 13.0, 87.0, 0.48762131115072294)\">0.449</th><th style=\"background:rgba(255.0, 13.0, 87.0, 0.06983561101208159)\">0.068</th></tr><tr><th>!</th><th style=\"background:rgba(0.0, 0.0, 0.0, 0.0)\"></th><th style=\"background:rgba(0.0, 0.0, 0.0, 0.0)\"></th><th style=\"background:rgba(0.0, 0.0, 0.0, 0.0)\"></th><th style=\"background:rgba(0.0, 0.0, 0.0, 0.0)\"></th><th style=\"background:rgba(0.0, 0.0, 0.0, 0.0)\"></th><th style=\"background:rgba(0.0, 0.0, 0.0, 0.0)\"></th><th style=\"background:rgba(0.0, 0.0, 0.0, 0.0)\"></th><th style=\"background:rgba(0.0, 0.0, 0.0, 0.0)\"></th><th style=\"background:rgba(0.0, 0.0, 0.0, 0.0)\"></th><th style=\"background:rgba(0.0, 0.0, 0.0, 0.0)\"></th><th style=\"background:rgba(0.0, 0.0, 0.0, 0.0)\"></th><th style=\"background:rgba(0.0, 0.0, 0.0, 0.0)\"></th><th style=\"background:rgba(0.0, 0.0, 0.0, 0.0)\"></th><th style=\"background:rgba(0.0, 0.0, 0.0, 0.0)\"></th><th style=\"background:rgba(0.0, 0.0, 0.0, 0.0)\"></th><th style=\"background:rgba(0.0, 0.0, 0.0, 0.0)\"></th><th style=\"background:rgba(0.0, 0.0, 0.0, 0.0)\"></th><th style=\"background:rgba(0.0, 0.0, 0.0, 0.0)\"></th><th style=\"background:rgba(255.0, 13.0, 87.0, 0.44820756585462457)\">0.416</th></tr><tr><th>&lt;/s&gt;</th><th style=\"background:rgba(0.0, 0.0, 0.0, 0.0)\"></th><th style=\"background:rgba(0.0, 0.0, 0.0, 0.0)\"></th><th style=\"background:rgba(0.0, 0.0, 0.0, 0.0)\"></th><th style=\"background:rgba(0.0, 0.0, 0.0, 0.0)\"></th><th style=\"background:rgba(0.0, 0.0, 0.0, 0.0)\"></th><th style=\"background:rgba(0.0, 0.0, 0.0, 0.0)\"></th><th style=\"background:rgba(0.0, 0.0, 0.0, 0.0)\"></th><th style=\"background:rgba(0.0, 0.0, 0.0, 0.0)\"></th><th style=\"background:rgba(0.0, 0.0, 0.0, 0.0)\"></th><th style=\"background:rgba(0.0, 0.0, 0.0, 0.0)\"></th><th style=\"background:rgba(0.0, 0.0, 0.0, 0.0)\"></th><th style=\"background:rgba(0.0, 0.0, 0.0, 0.0)\"></th><th style=\"background:rgba(0.0, 0.0, 0.0, 0.0)\"></th><th style=\"background:rgba(0.0, 0.0, 0.0, 0.0)\"></th><th style=\"background:rgba(0.0, 0.0, 0.0, 0.0)\"></th><th style=\"background:rgba(0.0, 0.0, 0.0, 0.0)\"></th><th style=\"background:rgba(0.0, 0.0, 0.0, 0.0)\"></th><th style=\"background:rgba(0.0, 0.0, 0.0, 0.0)\"></th><th style=\"background:rgba(0.0, 0.0, 0.0, 0.0)\"></th></tr></table>\n",
       "</div>\n",
       "\n",
       "        </div>\n",
       "    </div>\n",
       "</div>\n",
       "</html>\n"
      ],
      "text/plain": [
       "<IPython.core.display.HTML object>"
      ]
     },
     "metadata": {},
     "output_type": "display_data"
    }
   ],
   "source": [
    "# Gets the mean weights of the first three attention heads only, no normalization\n",
    "# do_post_aggregation_checks=False is needed since the output has >2 dimensions and \n",
    "# could not be visualized\n",
    "aggregated_heads_seq_attr_out = out[0].aggregate(\n",
    "    \"mean\", select_idx=(0,3), normalize=False, do_post_aggregation_checks=False\n",
    ")\n",
    "\n",
    "# (source_len, target_len, num_layers)\n",
    "print(\"aggregated_heads_seq_attr_out:\", aggregated_heads_seq_attr_out.source_attributions.shape)\n",
    "\n",
    "# Shortcut for aggregate(\"scores\", aggregate_fn=\"max\", ...)\n",
    "# Selects attention weights for the last layer of the model, no normalization\n",
    "aggregated_layer_seq_attr_out = aggregated_heads_seq_attr_out.aggregate(\"scores\", select_idx=-1, normalize=False)\n",
    "\n",
    "# (source_len, target_len)\n",
    "print(\"aggregated_layer_seq_attr_out:\", aggregated_layer_seq_attr_out.source_attributions.shape)\n",
    "\n",
    "# do_aggregation=False to prevent automatic default aggregation since we did a custom one manually\n",
    "aggregated_layer_seq_attr_out.show(do_aggregation=False)"
   ]
  },
  {
   "attachments": {},
   "cell_type": "markdown",
   "metadata": {},
   "source": [
    "We can now use a `SubwordAggregator` to aggregate these scores at the word level to facilitate interpretation:"
   ]
  },
  {
   "cell_type": "code",
   "execution_count": 7,
   "metadata": {},
   "outputs": [
    {
     "data": {
      "text/html": [
       "<br/><b>0th instance:</b><br/>\n",
       "<html>\n",
       "<div id=\"srzckiwgelkhgylwobzv_viz_container\">\n",
       "    <div id=\"srzckiwgelkhgylwobzv_content\" style=\"padding:15px;border-style:solid;margin:5px;\">\n",
       "        <div id = \"srzckiwgelkhgylwobzv_saliency_plot_container\" class=\"srzckiwgelkhgylwobzv_viz_container\" style=\"display:block\">\n",
       "            \n",
       "<div id=\"bqfxwbgrfdyomuuecllm_saliency_plot\" class=\"bqfxwbgrfdyomuuecllm_viz_content\">\n",
       "    <div style=\"margin:5px;font-family:sans-serif;font-weight:bold;\">\n",
       "        <span style=\"font-size: 20px;\">Source Saliency Heatmap</span>\n",
       "        <br>\n",
       "        x: Generated tokens, y: Attributed tokens\n",
       "    </div>\n",
       "    \n",
       "<table border=\"1\" cellpadding=\"5\" cellspacing=\"5\"\n",
       "    style=\"overflow-x:scroll;display:block;\">\n",
       "    <tr><th></th>\n",
       "<th>▁Ciao</th><th>▁a</th><th>▁tutti,</th><th>▁spero</th><th>▁che</th><th>▁vi</th><th>▁stiate</th><th>▁godendo</th><th>▁il</th><th>▁tutorial!</th><th>&lt;/s&gt;</th></tr><tr><th>▁Hello</th><th style=\"background:rgba(255.0, 13.0, 87.0, 0.13289760348583876)\">0.13</th><th style=\"background:rgba(255.0, 13.0, 87.0, 0.02253911665676371)\">0.027</th><th style=\"background:rgba(230.2941176470614, 26.505882352939775, 102.59215686274348, 0.0)\">0.007</th><th style=\"background:rgba(230.2941176470614, 26.505882352939775, 102.59215686274348, 0.0)\">0.005</th><th style=\"background:rgba(230.2941176470614, 26.505882352939775, 102.59215686274348, 0.0)\">0.003</th><th style=\"background:rgba(230.2941176470614, 26.505882352939775, 102.59215686274348, 0.0)\">0.001</th><th style=\"background:rgba(230.2941176470614, 26.505882352939775, 102.59215686274348, 0.0)\">0.007</th><th style=\"background:rgba(230.2941176470614, 26.505882352939775, 102.59215686274348, 0.0)\">0.005</th><th style=\"background:rgba(230.2941176470614, 26.505882352939775, 102.59215686274348, 0.0)\">0.001</th><th style=\"background:rgba(230.2941176470614, 26.505882352939775, 102.59215686274348, 0.0)\">0.003</th><th style=\"background:rgba(255.0, 13.0, 87.0, 0.00677361853832443)\">0.009</th></tr><tr><th>▁everyone,</th><th style=\"background:rgba(255.0, 13.0, 87.0, 0.07771836007130124)\">0.079</th><th style=\"background:rgba(255.0, 13.0, 87.0, 0.16442859972271742)\">0.154</th><th style=\"background:rgba(255.0, 13.0, 87.0, 0.41667656961774624)\">0.39</th><th style=\"background:rgba(255.0, 13.0, 87.0, 0.014656367597544035)\">0.019</th><th style=\"background:rgba(255.0, 13.0, 87.0, 0.12501485442661908)\">0.119</th><th style=\"background:rgba(255.0, 13.0, 87.0, 0.07771836007130124)\">0.076</th><th style=\"background:rgba(255.0, 13.0, 87.0, 0.014656367597544035)\">0.019</th><th style=\"background:rgba(255.0, 13.0, 87.0, 0.030421865715983164)\">0.03</th><th style=\"background:rgba(255.0, 13.0, 87.0, 0.00677361853832443)\">0.011</th><th style=\"background:rgba(255.0, 13.0, 87.0, 0.014656367597544035)\">0.017</th><th style=\"background:rgba(255.0, 13.0, 87.0, 0.00677361853832443)\">0.007</th></tr><tr><th>▁hope</th><th style=\"background:rgba(255.0, 13.0, 87.0, 0.2747870865517925)\">0.26</th><th style=\"background:rgba(255.0, 13.0, 87.0, 0.09348385818974037)\">0.087</th><th style=\"background:rgba(255.0, 13.0, 87.0, 0.4009110714993067)\">0.374</th><th style=\"background:rgba(255.0, 13.0, 87.0, 0.5428005545652606)\">0.502</th><th style=\"background:rgba(255.0, 13.0, 87.0, 0.02253911665676371)\">0.026</th><th style=\"background:rgba(255.0, 13.0, 87.0, 0.014656367597544035)\">0.017</th><th style=\"background:rgba(255.0, 13.0, 87.0, 0.00677361853832443)\">0.012</th><th style=\"background:rgba(255.0, 13.0, 87.0, 0.014656367597544035)\">0.015</th><th style=\"background:rgba(230.2941176470614, 26.505882352939775, 102.59215686274348, 0.0)\">0.001</th><th style=\"background:rgba(230.2941176470614, 26.505882352939775, 102.59215686274348, 0.0)\">0.003</th><th style=\"background:rgba(230.2941176470614, 26.505882352939775, 102.59215686274348, 0.0)\">0.005</th></tr><tr><th>▁you're</th><th style=\"background:rgba(255.0, 13.0, 87.0, 0.00677361853832443)\">0.01</th><th style=\"background:rgba(255.0, 13.0, 87.0, 0.00677361853832443)\">0.01</th><th style=\"background:rgba(255.0, 13.0, 87.0, 0.014656367597544035)\">0.019</th><th style=\"background:rgba(255.0, 13.0, 87.0, 0.030421865715983164)\">0.032</th><th style=\"background:rgba(255.0, 13.0, 87.0, 0.05407011289364243)\">0.057</th><th style=\"background:rgba(255.0, 13.0, 87.0, 0.06983561101208159)\">0.071</th><th style=\"background:rgba(255.0, 13.0, 87.0, 0.06983561101208159)\">0.07</th><th style=\"background:rgba(255.0, 13.0, 87.0, 0.05407011289364243)\">0.055</th><th style=\"background:rgba(255.0, 13.0, 87.0, 0.00677361853832443)\">0.012</th><th style=\"background:rgba(255.0, 13.0, 87.0, 0.00677361853832443)\">0.01</th><th style=\"background:rgba(230.2941176470614, 26.505882352939775, 102.59215686274348, 0.0)\">0.003</th></tr><tr><th>▁enjoying</th><th style=\"background:rgba(255.0, 13.0, 87.0, 0.00677361853832443)\">0.007</th><th style=\"background:rgba(230.2941176470614, 26.505882352939775, 102.59215686274348, 0.0)\">0.004</th><th style=\"background:rgba(255.0, 13.0, 87.0, 0.00677361853832443)\">0.013</th><th style=\"background:rgba(255.0, 13.0, 87.0, 0.014656367597544035)\">0.018</th><th style=\"background:rgba(255.0, 13.0, 87.0, 0.22749059219647458)\">0.214</th><th style=\"background:rgba(255.0, 13.0, 87.0, 0.26690433749257286)\">0.247</th><th style=\"background:rgba(255.0, 13.0, 87.0, 0.48762131115072294)\">0.45</th><th style=\"background:rgba(255.0, 13.0, 87.0, 0.4797385620915033)\">0.448</th><th style=\"background:rgba(255.0, 13.0, 87.0, 0.014656367597544035)\">0.016</th><th style=\"background:rgba(255.0, 13.0, 87.0, 0.00677361853832443)\">0.012</th><th style=\"background:rgba(230.2941176470614, 26.505882352939775, 102.59215686274348, 0.0)\">0.005</th></tr><tr><th>▁the</th><th style=\"background:rgba(230.2941176470614, 26.505882352939775, 102.59215686274348, 0.0)\">0.005</th><th style=\"background:rgba(230.2941176470614, 26.505882352939775, 102.59215686274348, 0.0)\">0.003</th><th style=\"background:rgba(230.2941176470614, 26.505882352939775, 102.59215686274348, 0.0)\">0.005</th><th style=\"background:rgba(230.2941176470614, 26.505882352939775, 102.59215686274348, 0.0)\">0.004</th><th style=\"background:rgba(255.0, 13.0, 87.0, 0.03830461477520289)\">0.037</th><th style=\"background:rgba(255.0, 13.0, 87.0, 0.03830461477520289)\">0.04</th><th style=\"background:rgba(255.0, 13.0, 87.0, 0.014656367597544035)\">0.02</th><th style=\"background:rgba(255.0, 13.0, 87.0, 0.04618736383442265)\">0.044</th><th style=\"background:rgba(255.0, 13.0, 87.0, 0.12501485442661908)\">0.12</th><th style=\"background:rgba(255.0, 13.0, 87.0, 0.04618736383442265)\">0.046</th><th style=\"background:rgba(230.2941176470614, 26.505882352939775, 102.59215686274348, 0.0)\">0.003</th></tr><tr><th>▁tutorial!</th><th style=\"background:rgba(255.0, 13.0, 87.0, 0.15654585066349747)\">0.15</th><th style=\"background:rgba(255.0, 13.0, 87.0, 0.03830461477520289)\">0.041</th><th style=\"background:rgba(255.0, 13.0, 87.0, 0.02253911665676371)\">0.028</th><th style=\"background:rgba(255.0, 13.0, 87.0, 0.014656367597544035)\">0.019</th><th style=\"background:rgba(255.0, 13.0, 87.0, 0.03830461477520289)\">0.039</th><th style=\"background:rgba(255.0, 13.0, 87.0, 0.014656367597544035)\">0.02</th><th style=\"background:rgba(255.0, 13.0, 87.0, 0.00677361853832443)\">0.014</th><th style=\"background:rgba(255.0, 13.0, 87.0, 0.24325609031491383)\">0.227</th><th style=\"background:rgba(255.0, 13.0, 87.0, 0.030421865715983164)\">0.035</th><th style=\"background:rgba(255.0, 13.0, 87.0, 0.6925727866904339)\">0.641</th><th style=\"background:rgba(255.0, 13.0, 87.0, 0.00677361853832443)\">0.014</th></tr><tr><th>&lt;/s&gt;</th><th style=\"background:rgba(255.0, 13.0, 87.0, 0.77928302634185)\">0.721</th><th style=\"background:rgba(255.0, 13.0, 87.0, 0.6531590413943356)\">0.602</th><th style=\"background:rgba(255.0, 13.0, 87.0, 0.621628045157457)\">0.573</th><th style=\"background:rgba(255.0, 13.0, 87.0, 0.3457318280847692)\">0.325</th><th style=\"background:rgba(255.0, 13.0, 87.0, 0.4087938205585263)\">0.377</th><th style=\"background:rgba(255.0, 13.0, 87.0, 0.44032481679540497)\">0.411</th><th style=\"background:rgba(255.0, 13.0, 87.0, 0.55068330362448)\">0.509</th><th style=\"background:rgba(255.0, 13.0, 87.0, 0.755634779164191)\">0.695</th><th style=\"background:rgba(255.0, 13.0, 87.0, 0.8186967716379481)\">0.754</th><th style=\"background:rgba(255.0, 13.0, 87.0, 0.9605862547039017)\">0.882</th><th style=\"background:rgba(255.0, 13.0, 87.0, 1.0)\">0.925</th></tr></table>\n",
       "</div>\n",
       "\n",
       "        </div>\n",
       "    </div>\n",
       "</div>\n",
       "</html>\n",
       "<br/><b>0th instance:</b><br/>\n",
       "<html>\n",
       "<div id=\"zpotbpnweyceprgdxgpq_viz_container\">\n",
       "    <div id=\"zpotbpnweyceprgdxgpq_content\" style=\"padding:15px;border-style:solid;margin:5px;\">\n",
       "        <div id = \"zpotbpnweyceprgdxgpq_saliency_plot_container\" class=\"zpotbpnweyceprgdxgpq_viz_container\" style=\"display:block\">\n",
       "            \n",
       "<div id=\"zywemfkbjzgulkyzoseh_saliency_plot\" class=\"zywemfkbjzgulkyzoseh_viz_content\">\n",
       "    <div style=\"margin:5px;font-family:sans-serif;font-weight:bold;\">\n",
       "        <span style=\"font-size: 20px;\">Target Saliency Heatmap</span>\n",
       "        <br>\n",
       "        x: Generated tokens, y: Attributed tokens\n",
       "    </div>\n",
       "    \n",
       "<table border=\"1\" cellpadding=\"5\" cellspacing=\"5\"\n",
       "    style=\"overflow-x:scroll;display:block;\">\n",
       "    <tr><th></th>\n",
       "<th>▁Ciao</th><th>▁a</th><th>▁tutti,</th><th>▁spero</th><th>▁che</th><th>▁vi</th><th>▁stiate</th><th>▁godendo</th><th>▁il</th><th>▁tutorial!</th><th>&lt;/s&gt;</th></tr><tr><th>▁Ciao</th><th style=\"background:rgba(0.0, 0.0, 0.0, 0.0)\"></th><th style=\"background:rgba(255.0, 13.0, 87.0, 0.5033868092691621)\">0.463</th><th style=\"background:rgba(255.0, 13.0, 87.0, 0.030421865715983164)\">0.03</th><th style=\"background:rgba(255.0, 13.0, 87.0, 0.014656367597544035)\">0.015</th><th style=\"background:rgba(255.0, 13.0, 87.0, 0.00677361853832443)\">0.011</th><th style=\"background:rgba(230.2941176470614, 26.505882352939775, 102.59215686274348, 0.0)\">0.006</th><th style=\"background:rgba(230.2941176470614, 26.505882352939775, 102.59215686274348, 0.0)\">0.003</th><th style=\"background:rgba(230.2941176470614, 26.505882352939775, 102.59215686274348, 0.0)\">0.005</th><th style=\"background:rgba(230.2941176470614, 26.505882352939775, 102.59215686274348, 0.0)\">0.0</th><th style=\"background:rgba(230.2941176470614, 26.505882352939775, 102.59215686274348, 0.0)\">0.003</th><th style=\"background:rgba(230.2941176470614, 26.505882352939775, 102.59215686274348, 0.0)\">0.004</th></tr><tr><th>▁a</th><th style=\"background:rgba(0.0, 0.0, 0.0, 0.0)\"></th><th style=\"background:rgba(0.0, 0.0, 0.0, 0.0)\"></th><th style=\"background:rgba(255.0, 13.0, 87.0, 0.2590215884333532)\">0.24</th><th style=\"background:rgba(230.2941176470614, 26.505882352939775, 102.59215686274348, 0.0)\">0.006</th><th style=\"background:rgba(230.2941176470614, 26.505882352939775, 102.59215686274348, 0.0)\">0.002</th><th style=\"background:rgba(230.2941176470614, 26.505882352939775, 102.59215686274348, 0.0)\">0.002</th><th style=\"background:rgba(230.2941176470614, 26.505882352939775, 102.59215686274348, 0.0)\">0.001</th><th style=\"background:rgba(230.2941176470614, 26.505882352939775, 102.59215686274348, 0.0)\">0.001</th><th style=\"background:rgba(230.2941176470614, 26.505882352939775, 102.59215686274348, 0.0)\">0.001</th><th style=\"background:rgba(230.2941176470614, 26.505882352939775, 102.59215686274348, 0.0)\">0.001</th><th style=\"background:rgba(230.2941176470614, 26.505882352939775, 102.59215686274348, 0.0)\">0.001</th></tr><tr><th>▁tutti,</th><th style=\"background:rgba(0.0, 0.0, 0.0, 0.0)\"></th><th style=\"background:rgba(0.0, 0.0, 0.0, 0.0)\"></th><th style=\"background:rgba(0.0, 0.0, 0.0, 0.0)\"></th><th style=\"background:rgba(255.0, 13.0, 87.0, 0.49550406020994264)\">0.456</th><th style=\"background:rgba(255.0, 13.0, 87.0, 0.14866310160427795)\">0.142</th><th style=\"background:rgba(255.0, 13.0, 87.0, 0.14078035254505847)\">0.132</th><th style=\"background:rgba(255.0, 13.0, 87.0, 0.014656367597544035)\">0.017</th><th style=\"background:rgba(255.0, 13.0, 87.0, 0.00677361853832443)\">0.009</th><th style=\"background:rgba(255.0, 13.0, 87.0, 0.00677361853832443)\">0.011</th><th style=\"background:rgba(255.0, 13.0, 87.0, 0.02253911665676371)\">0.027</th><th style=\"background:rgba(255.0, 13.0, 87.0, 0.00677361853832443)\">0.011</th></tr><tr><th>▁spero</th><th style=\"background:rgba(0.0, 0.0, 0.0, 0.0)\"></th><th style=\"background:rgba(0.0, 0.0, 0.0, 0.0)\"></th><th style=\"background:rgba(0.0, 0.0, 0.0, 0.0)\"></th><th style=\"background:rgba(0.0, 0.0, 0.0, 0.0)\"></th><th style=\"background:rgba(255.0, 13.0, 87.0, 0.6295107942166767)\">0.584</th><th style=\"background:rgba(255.0, 13.0, 87.0, 0.1171321053673995)\">0.112</th><th style=\"background:rgba(255.0, 13.0, 87.0, 0.10136660724896006)\">0.096</th><th style=\"background:rgba(255.0, 13.0, 87.0, 0.02253911665676371)\">0.025</th><th style=\"background:rgba(255.0, 13.0, 87.0, 0.03830461477520289)\">0.038</th><th style=\"background:rgba(255.0, 13.0, 87.0, 0.02253911665676371)\">0.022</th><th style=\"background:rgba(255.0, 13.0, 87.0, 0.02253911665676371)\">0.023</th></tr><tr><th>▁che</th><th style=\"background:rgba(0.0, 0.0, 0.0, 0.0)\"></th><th style=\"background:rgba(0.0, 0.0, 0.0, 0.0)\"></th><th style=\"background:rgba(0.0, 0.0, 0.0, 0.0)\"></th><th style=\"background:rgba(0.0, 0.0, 0.0, 0.0)\"></th><th style=\"background:rgba(0.0, 0.0, 0.0, 0.0)\"></th><th style=\"background:rgba(255.0, 13.0, 87.0, 0.5664488017429193)\">0.523</th><th style=\"background:rgba(255.0, 13.0, 87.0, 0.2511388393741335)\">0.233</th><th style=\"background:rgba(255.0, 13.0, 87.0, 0.04618736383442265)\">0.044</th><th style=\"background:rgba(255.0, 13.0, 87.0, 0.04618736383442265)\">0.049</th><th style=\"background:rgba(255.0, 13.0, 87.0, 0.00677361853832443)\">0.01</th><th style=\"background:rgba(255.0, 13.0, 87.0, 0.00677361853832443)\">0.011</th></tr><tr><th>▁vi</th><th style=\"background:rgba(0.0, 0.0, 0.0, 0.0)\"></th><th style=\"background:rgba(0.0, 0.0, 0.0, 0.0)\"></th><th style=\"background:rgba(0.0, 0.0, 0.0, 0.0)\"></th><th style=\"background:rgba(0.0, 0.0, 0.0, 0.0)\"></th><th style=\"background:rgba(0.0, 0.0, 0.0, 0.0)\"></th><th style=\"background:rgba(0.0, 0.0, 0.0, 0.0)\"></th><th style=\"background:rgba(255.0, 13.0, 87.0, 0.2117250940780353)\">0.198</th><th style=\"background:rgba(255.0, 13.0, 87.0, 0.09348385818974037)\">0.092</th><th style=\"background:rgba(255.0, 13.0, 87.0, 0.014656367597544035)\">0.015</th><th style=\"background:rgba(255.0, 13.0, 87.0, 0.014656367597544035)\">0.021</th><th style=\"background:rgba(230.2941176470614, 26.505882352939775, 102.59215686274348, 0.0)\">0.007</th></tr><tr><th>▁stiate</th><th style=\"background:rgba(0.0, 0.0, 0.0, 0.0)\"></th><th style=\"background:rgba(0.0, 0.0, 0.0, 0.0)\"></th><th style=\"background:rgba(0.0, 0.0, 0.0, 0.0)\"></th><th style=\"background:rgba(0.0, 0.0, 0.0, 0.0)\"></th><th style=\"background:rgba(0.0, 0.0, 0.0, 0.0)\"></th><th style=\"background:rgba(0.0, 0.0, 0.0, 0.0)\"></th><th style=\"background:rgba(0.0, 0.0, 0.0, 0.0)\"></th><th style=\"background:rgba(255.0, 13.0, 87.0, 0.3851455733808676)\">0.358</th><th style=\"background:rgba(255.0, 13.0, 87.0, 0.00677361853832443)\">0.013</th><th style=\"background:rgba(255.0, 13.0, 87.0, 0.014656367597544035)\">0.017</th><th style=\"background:rgba(255.0, 13.0, 87.0, 0.00677361853832443)\">0.01</th></tr><tr><th>▁godendo</th><th style=\"background:rgba(0.0, 0.0, 0.0, 0.0)\"></th><th style=\"background:rgba(0.0, 0.0, 0.0, 0.0)\"></th><th style=\"background:rgba(0.0, 0.0, 0.0, 0.0)\"></th><th style=\"background:rgba(0.0, 0.0, 0.0, 0.0)\"></th><th style=\"background:rgba(0.0, 0.0, 0.0, 0.0)\"></th><th style=\"background:rgba(0.0, 0.0, 0.0, 0.0)\"></th><th style=\"background:rgba(0.0, 0.0, 0.0, 0.0)\"></th><th style=\"background:rgba(0.0, 0.0, 0.0, 0.0)\"></th><th style=\"background:rgba(255.0, 13.0, 87.0, 0.5112695583283818)\">0.47</th><th style=\"background:rgba(255.0, 13.0, 87.0, 0.04618736383442265)\">0.049</th><th style=\"background:rgba(255.0, 13.0, 87.0, 0.00677361853832443)\">0.009</th></tr><tr><th>▁il</th><th style=\"background:rgba(0.0, 0.0, 0.0, 0.0)\"></th><th style=\"background:rgba(0.0, 0.0, 0.0, 0.0)\"></th><th style=\"background:rgba(0.0, 0.0, 0.0, 0.0)\"></th><th style=\"background:rgba(0.0, 0.0, 0.0, 0.0)\"></th><th style=\"background:rgba(0.0, 0.0, 0.0, 0.0)\"></th><th style=\"background:rgba(0.0, 0.0, 0.0, 0.0)\"></th><th style=\"background:rgba(0.0, 0.0, 0.0, 0.0)\"></th><th style=\"background:rgba(0.0, 0.0, 0.0, 0.0)\"></th><th style=\"background:rgba(0.0, 0.0, 0.0, 0.0)\"></th><th style=\"background:rgba(255.0, 13.0, 87.0, 0.32208358090711037)\">0.298</th><th style=\"background:rgba(255.0, 13.0, 87.0, 0.00677361853832443)\">0.009</th></tr><tr><th>▁tutorial!</th><th style=\"background:rgba(0.0, 0.0, 0.0, 0.0)\"></th><th style=\"background:rgba(0.0, 0.0, 0.0, 0.0)\"></th><th style=\"background:rgba(0.0, 0.0, 0.0, 0.0)\"></th><th style=\"background:rgba(0.0, 0.0, 0.0, 0.0)\"></th><th style=\"background:rgba(0.0, 0.0, 0.0, 0.0)\"></th><th style=\"background:rgba(0.0, 0.0, 0.0, 0.0)\"></th><th style=\"background:rgba(0.0, 0.0, 0.0, 0.0)\"></th><th style=\"background:rgba(0.0, 0.0, 0.0, 0.0)\"></th><th style=\"background:rgba(0.0, 0.0, 0.0, 0.0)\"></th><th style=\"background:rgba(0.0, 0.0, 0.0, 0.0)\"></th><th style=\"background:rgba(255.0, 13.0, 87.0, 0.44820756585462457)\">0.416</th></tr><tr><th>&lt;/s&gt;</th><th style=\"background:rgba(0.0, 0.0, 0.0, 0.0)\"></th><th style=\"background:rgba(0.0, 0.0, 0.0, 0.0)\"></th><th style=\"background:rgba(0.0, 0.0, 0.0, 0.0)\"></th><th style=\"background:rgba(0.0, 0.0, 0.0, 0.0)\"></th><th style=\"background:rgba(0.0, 0.0, 0.0, 0.0)\"></th><th style=\"background:rgba(0.0, 0.0, 0.0, 0.0)\"></th><th style=\"background:rgba(0.0, 0.0, 0.0, 0.0)\"></th><th style=\"background:rgba(0.0, 0.0, 0.0, 0.0)\"></th><th style=\"background:rgba(0.0, 0.0, 0.0, 0.0)\"></th><th style=\"background:rgba(0.0, 0.0, 0.0, 0.0)\"></th><th style=\"background:rgba(0.0, 0.0, 0.0, 0.0)\"></th></tr></table>\n",
       "</div>\n",
       "\n",
       "        </div>\n",
       "    </div>\n",
       "</div>\n",
       "</html>\n"
      ],
      "text/plain": [
       "<IPython.core.display.HTML object>"
      ]
     },
     "metadata": {},
     "output_type": "display_data"
    }
   ],
   "source": [
    "aggregated_layer_seq_attr_out.aggregate(\"subwords\").show(do_aggregation=False)"
   ]
  },
  {
   "attachments": {},
   "cell_type": "markdown",
   "metadata": {},
   "source": [
    "### Applied Example: Does my QA Model Behave in a Plausible Way?\n",
    "\n",
    "In this example, we use an [IT5 model](https://github.com/gsarti/it5) ([Sarti et al., 2022](https://arxiv.org/abs/2203.03759)) fine-tuned on the [SQUAD-IT](https://github.com/crux82/squad-it) QA dataset ([Croce et al., 2018](https://link.springer.com/chapter/10.1007/978-3-030-03840-3_29)) to do question answering in Italian. Using Inseq, we visualize whether the model prediction use input information that is plausible according to human intuition."
   ]
  },
  {
   "cell_type": "code",
   "execution_count": 1,
   "metadata": {},
   "outputs": [
    {
     "name": "stderr",
     "output_type": "stream",
     "text": [
      "/home/gsarti/projects/lcl23-xnlm-lab/venv/lib/python3.9/site-packages/tqdm/auto.py:21: TqdmWarning: IProgress not found. Please update jupyter and ipywidgets. See https://ipywidgets.readthedocs.io/en/stable/user_install.html\n",
      "  from .autonotebook import tqdm as notebook_tqdm\n",
      "/home/gsarti/projects/lcl23-xnlm-lab/venv/lib/python3.9/site-packages/transformers/generation/utils.py:1349: UserWarning: Using `max_length`'s default (20) to control the generation length. This behaviour is deprecated and will be removed from the config in v5 of Transformers -- we recommend using `max_new_tokens` to control the maximum length of the generation.\n",
      "  warnings.warn(\n",
      "Attributing with input_x_gradient...: 100%|██████████| 6/6 [00:01<00:00,  3.24it/s]\n"
     ]
    },
    {
     "data": {
      "text/html": [
       "<br/><b>0th instance:</b><br/>\n",
       "<html>\n",
       "<div id=\"usieyiccwpusnzjovqwp_viz_container\">\n",
       "    <div id=\"usieyiccwpusnzjovqwp_content\" style=\"padding:15px;border-style:solid;margin:5px;\">\n",
       "        <div id = \"usieyiccwpusnzjovqwp_saliency_plot_container\" class=\"usieyiccwpusnzjovqwp_viz_container\" style=\"display:block\">\n",
       "            \n",
       "<div id=\"qahftrxckafnafqofpva_saliency_plot\" class=\"qahftrxckafnafqofpva_viz_content\">\n",
       "    <div style=\"margin:5px;font-family:sans-serif;font-weight:bold;\">\n",
       "        <span style=\"font-size: 20px;\">Source Saliency Heatmap</span>\n",
       "        <br>\n",
       "        x: Generated tokens, y: Attributed tokens\n",
       "    </div>\n",
       "    \n",
       "<table border=\"1\" cellpadding=\"5\" cellspacing=\"5\"\n",
       "    style=\"overflow-x:scroll;display:block;\">\n",
       "    <tr><th></th>\n",
       "<th>▁</th><th>2</th><th>0</th><th>0</th><th>&lt;/s&gt;</th></tr><tr><th>▁nel</th><th style=\"background:rgba(255.0, 13.0, 87.0, 0.12501485442661908)\">0.014</th><th style=\"background:rgba(255.0, 13.0, 87.0, 0.10924935630817992)\">0.012</th><th style=\"background:rgba(255.0, 13.0, 87.0, 0.15654585066349747)\">0.017</th><th style=\"background:rgba(255.0, 13.0, 87.0, 0.1959595959595959)\">0.021</th><th style=\"background:rgba(255.0, 13.0, 87.0, 0.20384234501881549)\">0.022</th></tr><tr><th>▁2023,</th><th style=\"background:rgba(255.0, 13.0, 87.0, 0.15654585066349747)\">0.017</th><th style=\"background:rgba(255.0, 13.0, 87.0, 0.17231134878193693)\">0.018</th><th style=\"background:rgba(255.0, 13.0, 87.0, 0.26690433749257286)\">0.029</th><th style=\"background:rgba(255.0, 13.0, 87.0, 0.5270350564468211)\">0.056</th><th style=\"background:rgba(255.0, 13.0, 87.0, 0.4009110714993067)\">0.043</th></tr><tr><th>▁le</th><th style=\"background:rgba(255.0, 13.0, 87.0, 0.030421865715983164)\">0.004</th><th style=\"background:rgba(255.0, 13.0, 87.0, 0.05407011289364243)\">0.006</th><th style=\"background:rgba(255.0, 13.0, 87.0, 0.05407011289364243)\">0.006</th><th style=\"background:rgba(255.0, 13.0, 87.0, 0.03830461477520289)\">0.004</th><th style=\"background:rgba(255.0, 13.0, 87.0, 0.05407011289364243)\">0.006</th></tr><tr><th>▁lectures</th><th style=\"background:rgba(255.0, 13.0, 87.0, 0.10924935630817992)\">0.012</th><th style=\"background:rgba(255.0, 13.0, 87.0, 0.14078035254505847)\">0.016</th><th style=\"background:rgba(255.0, 13.0, 87.0, 0.13289760348583876)\">0.014</th><th style=\"background:rgba(255.0, 13.0, 87.0, 0.12501485442661908)\">0.014</th><th style=\"background:rgba(255.0, 13.0, 87.0, 0.22749059219647458)\">0.025</th></tr><tr><th>▁on</th><th style=\"background:rgba(255.0, 13.0, 87.0, 0.030421865715983164)\">0.004</th><th style=\"background:rgba(255.0, 13.0, 87.0, 0.03830461477520289)\">0.005</th><th style=\"background:rgba(255.0, 13.0, 87.0, 0.030421865715983164)\">0.004</th><th style=\"background:rgba(255.0, 13.0, 87.0, 0.03830461477520289)\">0.005</th><th style=\"background:rgba(255.0, 13.0, 87.0, 0.03830461477520289)\">0.004</th></tr><tr><th>▁computational</th><th style=\"background:rgba(255.0, 13.0, 87.0, 0.09348385818974037)\">0.011</th><th style=\"background:rgba(255.0, 13.0, 87.0, 0.1171321053673995)\">0.013</th><th style=\"background:rgba(255.0, 13.0, 87.0, 0.1171321053673995)\">0.013</th><th style=\"background:rgba(255.0, 13.0, 87.0, 0.09348385818974037)\">0.01</th><th style=\"background:rgba(255.0, 13.0, 87.0, 0.09348385818974037)\">0.01</th></tr><tr><th>▁linguistics</th><th style=\"background:rgba(255.0, 13.0, 87.0, 0.05407011289364243)\">0.006</th><th style=\"background:rgba(255.0, 13.0, 87.0, 0.06983561101208159)\">0.008</th><th style=\"background:rgba(255.0, 13.0, 87.0, 0.06195286195286207)\">0.007</th><th style=\"background:rgba(255.0, 13.0, 87.0, 0.05407011289364243)\">0.006</th><th style=\"background:rgba(255.0, 13.0, 87.0, 0.06195286195286207)\">0.007</th></tr><tr><th>▁(lcl)</th><th style=\"background:rgba(255.0, 13.0, 87.0, 0.03830461477520289)\">0.005</th><th style=\"background:rgba(255.0, 13.0, 87.0, 0.06195286195286207)\">0.007</th><th style=\"background:rgba(255.0, 13.0, 87.0, 0.05407011289364243)\">0.006</th><th style=\"background:rgba(255.0, 13.0, 87.0, 0.04618736383442265)\">0.006</th><th style=\"background:rgba(255.0, 13.0, 87.0, 0.05407011289364243)\">0.006</th></tr><tr><th>▁dell'associazione</th><th style=\"background:rgba(255.0, 13.0, 87.0, 0.10924935630817992)\">0.012</th><th style=\"background:rgba(255.0, 13.0, 87.0, 0.1171321053673995)\">0.013</th><th style=\"background:rgba(255.0, 13.0, 87.0, 0.08560110913052081)\">0.009</th><th style=\"background:rgba(255.0, 13.0, 87.0, 0.07771836007130124)\">0.009</th><th style=\"background:rgba(255.0, 13.0, 87.0, 0.07771836007130124)\">0.008</th></tr><tr><th>▁italiana</th><th style=\"background:rgba(255.0, 13.0, 87.0, 0.07771836007130124)\">0.008</th><th style=\"background:rgba(255.0, 13.0, 87.0, 0.07771836007130124)\">0.009</th><th style=\"background:rgba(255.0, 13.0, 87.0, 0.06983561101208159)\">0.008</th><th style=\"background:rgba(255.0, 13.0, 87.0, 0.06983561101208159)\">0.008</th><th style=\"background:rgba(255.0, 13.0, 87.0, 0.06195286195286207)\">0.007</th></tr><tr><th>▁di</th><th style=\"background:rgba(255.0, 13.0, 87.0, 0.014656367597544035)\">0.002</th><th style=\"background:rgba(255.0, 13.0, 87.0, 0.02253911665676371)\">0.003</th><th style=\"background:rgba(255.0, 13.0, 87.0, 0.014656367597544035)\">0.002</th><th style=\"background:rgba(255.0, 13.0, 87.0, 0.02253911665676371)\">0.003</th><th style=\"background:rgba(255.0, 13.0, 87.0, 0.00677361853832443)\">0.002</th></tr><tr><th>▁linguistica</th><th style=\"background:rgba(255.0, 13.0, 87.0, 0.06195286195286207)\">0.007</th><th style=\"background:rgba(255.0, 13.0, 87.0, 0.06983561101208159)\">0.008</th><th style=\"background:rgba(255.0, 13.0, 87.0, 0.05407011289364243)\">0.006</th><th style=\"background:rgba(255.0, 13.0, 87.0, 0.04618736383442265)\">0.005</th><th style=\"background:rgba(255.0, 13.0, 87.0, 0.06195286195286207)\">0.007</th></tr><tr><th>▁computazionale</th><th style=\"background:rgba(255.0, 13.0, 87.0, 0.07771836007130124)\">0.009</th><th style=\"background:rgba(255.0, 13.0, 87.0, 0.07771836007130124)\">0.009</th><th style=\"background:rgba(255.0, 13.0, 87.0, 0.06983561101208159)\">0.008</th><th style=\"background:rgba(255.0, 13.0, 87.0, 0.07771836007130124)\">0.009</th><th style=\"background:rgba(255.0, 13.0, 87.0, 0.06983561101208159)\">0.008</th></tr><tr><th>▁(ailc)</th><th style=\"background:rgba(255.0, 13.0, 87.0, 0.08560110913052081)\">0.01</th><th style=\"background:rgba(255.0, 13.0, 87.0, 0.06195286195286207)\">0.007</th><th style=\"background:rgba(255.0, 13.0, 87.0, 0.05407011289364243)\">0.006</th><th style=\"background:rgba(255.0, 13.0, 87.0, 0.05407011289364243)\">0.007</th><th style=\"background:rgba(255.0, 13.0, 87.0, 0.05407011289364243)\">0.006</th></tr><tr><th>▁hanno</th><th style=\"background:rgba(255.0, 13.0, 87.0, 0.1171321053673995)\">0.013</th><th style=\"background:rgba(255.0, 13.0, 87.0, 0.09348385818974037)\">0.01</th><th style=\"background:rgba(255.0, 13.0, 87.0, 0.06195286195286207)\">0.007</th><th style=\"background:rgba(255.0, 13.0, 87.0, 0.06195286195286207)\">0.007</th><th style=\"background:rgba(255.0, 13.0, 87.0, 0.06195286195286207)\">0.007</th></tr><tr><th>▁raccolto</th><th style=\"background:rgba(255.0, 13.0, 87.0, 0.2826698356110118)\">0.03</th><th style=\"background:rgba(255.0, 13.0, 87.0, 0.20384234501881549)\">0.022</th><th style=\"background:rgba(255.0, 13.0, 87.0, 0.14078035254505847)\">0.015</th><th style=\"background:rgba(255.0, 13.0, 87.0, 0.15654585066349747)\">0.017</th><th style=\"background:rgba(255.0, 13.0, 87.0, 0.15654585066349747)\">0.017</th></tr><tr><th>▁una</th><th style=\"background:rgba(255.0, 13.0, 87.0, 0.1959595959595959)\">0.021</th><th style=\"background:rgba(255.0, 13.0, 87.0, 0.14078035254505847)\">0.016</th><th style=\"background:rgba(255.0, 13.0, 87.0, 0.06983561101208159)\">0.008</th><th style=\"background:rgba(255.0, 13.0, 87.0, 0.06195286195286207)\">0.007</th><th style=\"background:rgba(255.0, 13.0, 87.0, 0.05407011289364243)\">0.006</th></tr><tr><th>▁partecipazione</th><th style=\"background:rgba(255.0, 13.0, 87.0, 0.36149732620320857)\">0.039</th><th style=\"background:rgba(255.0, 13.0, 87.0, 0.29055258467023165)\">0.031</th><th style=\"background:rgba(255.0, 13.0, 87.0, 0.22749059219647458)\">0.025</th><th style=\"background:rgba(255.0, 13.0, 87.0, 0.1959595959595959)\">0.022</th><th style=\"background:rgba(255.0, 13.0, 87.0, 0.17231134878193693)\">0.018</th></tr><tr><th>▁senza</th><th style=\"background:rgba(255.0, 13.0, 87.0, 1.0)\">0.106</th><th style=\"background:rgba(255.0, 13.0, 87.0, 0.2747870865517925)\">0.029</th><th style=\"background:rgba(255.0, 13.0, 87.0, 0.219607843137255)\">0.024</th><th style=\"background:rgba(255.0, 13.0, 87.0, 0.17231134878193693)\">0.018</th><th style=\"background:rgba(255.0, 13.0, 87.0, 0.14866310160427795)\">0.016</th></tr><tr><th>▁precedenti.</th><th style=\"background:rgba(255.0, 13.0, 87.0, 0.7083382848088731)\">0.075</th><th style=\"background:rgba(255.0, 13.0, 87.0, 0.2826698356110118)\">0.03</th><th style=\"background:rgba(255.0, 13.0, 87.0, 0.1959595959595959)\">0.021</th><th style=\"background:rgba(255.0, 13.0, 87.0, 0.1959595959595959)\">0.021</th><th style=\"background:rgba(255.0, 13.0, 87.0, 0.15654585066349747)\">0.017</th></tr><tr><th>▁più</th><th style=\"background:rgba(255.0, 13.0, 87.0, 0.219607843137255)\">0.024</th><th style=\"background:rgba(255.0, 13.0, 87.0, 0.23537334125569415)\">0.025</th><th style=\"background:rgba(255.0, 13.0, 87.0, 0.29055258467023165)\">0.031</th><th style=\"background:rgba(255.0, 13.0, 87.0, 0.306318082788671)\">0.033</th><th style=\"background:rgba(255.0, 13.0, 87.0, 0.14866310160427795)\">0.016</th></tr><tr><th>▁di</th><th style=\"background:rgba(255.0, 13.0, 87.0, 0.09348385818974037)\">0.011</th><th style=\"background:rgba(255.0, 13.0, 87.0, 0.10924935630817992)\">0.012</th><th style=\"background:rgba(255.0, 13.0, 87.0, 0.12501485442661908)\">0.014</th><th style=\"background:rgba(255.0, 13.0, 87.0, 0.14866310160427795)\">0.016</th><th style=\"background:rgba(255.0, 13.0, 87.0, 0.09348385818974037)\">0.011</th></tr><tr><th>▁200</th><th style=\"background:rgba(255.0, 13.0, 87.0, 0.22749059219647458)\">0.024</th><th style=\"background:rgba(255.0, 13.0, 87.0, 0.5585660526836996)\">0.059</th><th style=\"background:rgba(255.0, 13.0, 87.0, 0.7083382848088731)\">0.075</th><th style=\"background:rgba(255.0, 13.0, 87.0, 0.8344622697563875)\">0.088</th><th style=\"background:rgba(255.0, 13.0, 87.0, 0.48762131115072294)\">0.051</th></tr><tr><th>▁studenti</th><th style=\"background:rgba(255.0, 13.0, 87.0, 0.44032481679540497)\">0.047</th><th style=\"background:rgba(255.0, 13.0, 87.0, 0.5822142998613588)\">0.062</th><th style=\"background:rgba(255.0, 13.0, 87.0, 0.49550406020994264)\">0.053</th><th style=\"background:rgba(255.0, 13.0, 87.0, 0.41667656961774624)\">0.044</th><th style=\"background:rgba(255.0, 13.0, 87.0, 0.4087938205585263)\">0.044</th></tr><tr><th>▁da</th><th style=\"background:rgba(255.0, 13.0, 87.0, 0.08560110913052081)\">0.01</th><th style=\"background:rgba(255.0, 13.0, 87.0, 0.1171321053673995)\">0.013</th><th style=\"background:rgba(255.0, 13.0, 87.0, 0.1171321053673995)\">0.013</th><th style=\"background:rgba(255.0, 13.0, 87.0, 0.12501485442661908)\">0.014</th><th style=\"background:rgba(255.0, 13.0, 87.0, 0.12501485442661908)\">0.014</th></tr><tr><th>▁tutta</th><th style=\"background:rgba(255.0, 13.0, 87.0, 0.12501485442661908)\">0.014</th><th style=\"background:rgba(255.0, 13.0, 87.0, 0.15654585066349747)\">0.017</th><th style=\"background:rgba(255.0, 13.0, 87.0, 0.14866310160427795)\">0.016</th><th style=\"background:rgba(255.0, 13.0, 87.0, 0.14866310160427795)\">0.016</th><th style=\"background:rgba(255.0, 13.0, 87.0, 0.14866310160427795)\">0.016</th></tr><tr><th>▁europa</th><th style=\"background:rgba(255.0, 13.0, 87.0, 0.1959595959595959)\">0.022</th><th style=\"background:rgba(255.0, 13.0, 87.0, 0.26690433749257286)\">0.028</th><th style=\"background:rgba(255.0, 13.0, 87.0, 0.23537334125569415)\">0.025</th><th style=\"background:rgba(255.0, 13.0, 87.0, 0.20384234501881549)\">0.022</th><th style=\"background:rgba(255.0, 13.0, 87.0, 0.219607843137255)\">0.024</th></tr><tr><th>▁hanno</th><th style=\"background:rgba(255.0, 13.0, 87.0, 0.08560110913052081)\">0.01</th><th style=\"background:rgba(255.0, 13.0, 87.0, 0.10136660724896006)\">0.011</th><th style=\"background:rgba(255.0, 13.0, 87.0, 0.09348385818974037)\">0.01</th><th style=\"background:rgba(255.0, 13.0, 87.0, 0.07771836007130124)\">0.009</th><th style=\"background:rgba(255.0, 13.0, 87.0, 0.06983561101208159)\">0.008</th></tr><tr><th>▁visitato</th><th style=\"background:rgba(255.0, 13.0, 87.0, 0.219607843137255)\">0.023</th><th style=\"background:rgba(255.0, 13.0, 87.0, 0.219607843137255)\">0.024</th><th style=\"background:rgba(255.0, 13.0, 87.0, 0.20384234501881549)\">0.022</th><th style=\"background:rgba(255.0, 13.0, 87.0, 0.14866310160427795)\">0.016</th><th style=\"background:rgba(255.0, 13.0, 87.0, 0.14078035254505847)\">0.015</th></tr><tr><th>▁la</th><th style=\"background:rgba(255.0, 13.0, 87.0, 0.030421865715983164)\">0.004</th><th style=\"background:rgba(255.0, 13.0, 87.0, 0.030421865715983164)\">0.004</th><th style=\"background:rgba(255.0, 13.0, 87.0, 0.03830461477520289)\">0.005</th><th style=\"background:rgba(255.0, 13.0, 87.0, 0.02253911665676371)\">0.003</th><th style=\"background:rgba(255.0, 13.0, 87.0, 0.030421865715983164)\">0.003</th></tr><tr><th>▁magnifica</th><th style=\"background:rgba(255.0, 13.0, 87.0, 0.15654585066349747)\">0.017</th><th style=\"background:rgba(255.0, 13.0, 87.0, 0.14866310160427795)\">0.016</th><th style=\"background:rgba(255.0, 13.0, 87.0, 0.13289760348583876)\">0.014</th><th style=\"background:rgba(255.0, 13.0, 87.0, 0.10136660724896006)\">0.011</th><th style=\"background:rgba(255.0, 13.0, 87.0, 0.10924935630817992)\">0.012</th></tr><tr><th>▁città</th><th style=\"background:rgba(255.0, 13.0, 87.0, 0.10924935630817992)\">0.012</th><th style=\"background:rgba(255.0, 13.0, 87.0, 0.10136660724896006)\">0.011</th><th style=\"background:rgba(255.0, 13.0, 87.0, 0.10136660724896006)\">0.011</th><th style=\"background:rgba(255.0, 13.0, 87.0, 0.06983561101208159)\">0.008</th><th style=\"background:rgba(255.0, 13.0, 87.0, 0.09348385818974037)\">0.01</th></tr><tr><th>▁di</th><th style=\"background:rgba(255.0, 13.0, 87.0, 0.02253911665676371)\">0.003</th><th style=\"background:rgba(255.0, 13.0, 87.0, 0.02253911665676371)\">0.003</th><th style=\"background:rgba(255.0, 13.0, 87.0, 0.02253911665676371)\">0.003</th><th style=\"background:rgba(255.0, 13.0, 87.0, 0.02253911665676371)\">0.003</th><th style=\"background:rgba(255.0, 13.0, 87.0, 0.030421865715983164)\">0.004</th></tr><tr><th>▁pisa</th><th style=\"background:rgba(255.0, 13.0, 87.0, 0.09348385818974037)\">0.01</th><th style=\"background:rgba(255.0, 13.0, 87.0, 0.13289760348583876)\">0.014</th><th style=\"background:rgba(255.0, 13.0, 87.0, 0.12501485442661908)\">0.014</th><th style=\"background:rgba(255.0, 13.0, 87.0, 0.18019409784115661)\">0.02</th><th style=\"background:rgba(255.0, 13.0, 87.0, 0.219607843137255)\">0.024</th></tr><tr><th>▁per</th><th style=\"background:rgba(255.0, 13.0, 87.0, 0.030421865715983164)\">0.004</th><th style=\"background:rgba(255.0, 13.0, 87.0, 0.030421865715983164)\">0.004</th><th style=\"background:rgba(255.0, 13.0, 87.0, 0.030421865715983164)\">0.004</th><th style=\"background:rgba(255.0, 13.0, 87.0, 0.03830461477520289)\">0.004</th><th style=\"background:rgba(255.0, 13.0, 87.0, 0.02253911665676371)\">0.003</th></tr><tr><th>▁spendere</th><th style=\"background:rgba(255.0, 13.0, 87.0, 0.09348385818974037)\">0.01</th><th style=\"background:rgba(255.0, 13.0, 87.0, 0.10924935630817992)\">0.012</th><th style=\"background:rgba(255.0, 13.0, 87.0, 0.10136660724896006)\">0.011</th><th style=\"background:rgba(255.0, 13.0, 87.0, 0.10136660724896006)\">0.011</th><th style=\"background:rgba(255.0, 13.0, 87.0, 0.10136660724896006)\">0.011</th></tr><tr><th>▁3</th><th style=\"background:rgba(255.0, 13.0, 87.0, 0.04618736383442265)\">0.005</th><th style=\"background:rgba(255.0, 13.0, 87.0, 0.10136660724896006)\">0.012</th><th style=\"background:rgba(255.0, 13.0, 87.0, 0.10924935630817992)\">0.012</th><th style=\"background:rgba(255.0, 13.0, 87.0, 0.08560110913052081)\">0.01</th><th style=\"background:rgba(255.0, 13.0, 87.0, 0.10136660724896006)\">0.011</th></tr><tr><th>▁produttive</th><th style=\"background:rgba(255.0, 13.0, 87.0, 0.06195286195286207)\">0.007</th><th style=\"background:rgba(255.0, 13.0, 87.0, 0.10136660724896006)\">0.011</th><th style=\"background:rgba(255.0, 13.0, 87.0, 0.13289760348583876)\">0.015</th><th style=\"background:rgba(255.0, 13.0, 87.0, 0.09348385818974037)\">0.011</th><th style=\"background:rgba(255.0, 13.0, 87.0, 0.09348385818974037)\">0.011</th></tr><tr><th>▁giornate</th><th style=\"background:rgba(255.0, 13.0, 87.0, 0.07771836007130124)\">0.009</th><th style=\"background:rgba(255.0, 13.0, 87.0, 0.09348385818974037)\">0.011</th><th style=\"background:rgba(255.0, 13.0, 87.0, 0.1171321053673995)\">0.013</th><th style=\"background:rgba(255.0, 13.0, 87.0, 0.09348385818974037)\">0.011</th><th style=\"background:rgba(255.0, 13.0, 87.0, 0.10924935630817992)\">0.012</th></tr><tr><th>▁all'insegna</th><th style=\"background:rgba(255.0, 13.0, 87.0, 0.06983561101208159)\">0.008</th><th style=\"background:rgba(255.0, 13.0, 87.0, 0.07771836007130124)\">0.008</th><th style=\"background:rgba(255.0, 13.0, 87.0, 0.08560110913052081)\">0.009</th><th style=\"background:rgba(255.0, 13.0, 87.0, 0.08560110913052081)\">0.009</th><th style=\"background:rgba(255.0, 13.0, 87.0, 0.08560110913052081)\">0.009</th></tr><tr><th>▁del</th><th style=\"background:rgba(255.0, 13.0, 87.0, 0.014656367597544035)\">0.002</th><th style=\"background:rgba(255.0, 13.0, 87.0, 0.014656367597544035)\">0.002</th><th style=\"background:rgba(255.0, 13.0, 87.0, 0.014656367597544035)\">0.002</th><th style=\"background:rgba(255.0, 13.0, 87.0, 0.014656367597544035)\">0.002</th><th style=\"background:rgba(255.0, 13.0, 87.0, 0.014656367597544035)\">0.002</th></tr><tr><th>▁trattamento</th><th style=\"background:rgba(255.0, 13.0, 87.0, 0.06195286195286207)\">0.007</th><th style=\"background:rgba(255.0, 13.0, 87.0, 0.07771836007130124)\">0.009</th><th style=\"background:rgba(255.0, 13.0, 87.0, 0.06195286195286207)\">0.007</th><th style=\"background:rgba(255.0, 13.0, 87.0, 0.04618736383442265)\">0.006</th><th style=\"background:rgba(255.0, 13.0, 87.0, 0.06983561101208159)\">0.008</th></tr><tr><th>▁automatico</th><th style=\"background:rgba(255.0, 13.0, 87.0, 0.05407011289364243)\">0.006</th><th style=\"background:rgba(255.0, 13.0, 87.0, 0.06195286195286207)\">0.007</th><th style=\"background:rgba(255.0, 13.0, 87.0, 0.06195286195286207)\">0.007</th><th style=\"background:rgba(255.0, 13.0, 87.0, 0.03830461477520289)\">0.005</th><th style=\"background:rgba(255.0, 13.0, 87.0, 0.06983561101208159)\">0.008</th></tr><tr><th>▁del</th><th style=\"background:rgba(255.0, 13.0, 87.0, 0.014656367597544035)\">0.002</th><th style=\"background:rgba(255.0, 13.0, 87.0, 0.014656367597544035)\">0.002</th><th style=\"background:rgba(255.0, 13.0, 87.0, 0.014656367597544035)\">0.002</th><th style=\"background:rgba(255.0, 13.0, 87.0, 0.014656367597544035)\">0.002</th><th style=\"background:rgba(255.0, 13.0, 87.0, 0.014656367597544035)\">0.002</th></tr><tr><th>▁linguaggio.</th><th style=\"background:rgba(255.0, 13.0, 87.0, 0.06195286195286207)\">0.007</th><th style=\"background:rgba(255.0, 13.0, 87.0, 0.08560110913052081)\">0.01</th><th style=\"background:rgba(255.0, 13.0, 87.0, 0.07771836007130124)\">0.008</th><th style=\"background:rgba(255.0, 13.0, 87.0, 0.07771836007130124)\">0.009</th><th style=\"background:rgba(255.0, 13.0, 87.0, 0.1171321053673995)\">0.013</th></tr><tr><th>▁iniziative</th><th style=\"background:rgba(255.0, 13.0, 87.0, 0.06195286195286207)\">0.007</th><th style=\"background:rgba(255.0, 13.0, 87.0, 0.07771836007130124)\">0.008</th><th style=\"background:rgba(255.0, 13.0, 87.0, 0.07771836007130124)\">0.009</th><th style=\"background:rgba(255.0, 13.0, 87.0, 0.06983561101208159)\">0.008</th><th style=\"background:rgba(255.0, 13.0, 87.0, 0.10136660724896006)\">0.011</th></tr><tr><th>▁come</th><th style=\"background:rgba(255.0, 13.0, 87.0, 0.030421865715983164)\">0.004</th><th style=\"background:rgba(255.0, 13.0, 87.0, 0.04618736383442265)\">0.005</th><th style=\"background:rgba(255.0, 13.0, 87.0, 0.03830461477520289)\">0.005</th><th style=\"background:rgba(255.0, 13.0, 87.0, 0.03830461477520289)\">0.005</th><th style=\"background:rgba(255.0, 13.0, 87.0, 0.05407011289364243)\">0.006</th></tr><tr><th>▁le</th><th style=\"background:rgba(255.0, 13.0, 87.0, 0.014656367597544035)\">0.002</th><th style=\"background:rgba(255.0, 13.0, 87.0, 0.030421865715983164)\">0.004</th><th style=\"background:rgba(255.0, 13.0, 87.0, 0.03830461477520289)\">0.005</th><th style=\"background:rgba(255.0, 13.0, 87.0, 0.03830461477520289)\">0.004</th><th style=\"background:rgba(255.0, 13.0, 87.0, 0.030421865715983164)\">0.004</th></tr><tr><th>▁lcl</th><th style=\"background:rgba(255.0, 13.0, 87.0, 0.03830461477520289)\">0.004</th><th style=\"background:rgba(255.0, 13.0, 87.0, 0.030421865715983164)\">0.004</th><th style=\"background:rgba(255.0, 13.0, 87.0, 0.030421865715983164)\">0.004</th><th style=\"background:rgba(255.0, 13.0, 87.0, 0.030421865715983164)\">0.004</th><th style=\"background:rgba(255.0, 13.0, 87.0, 0.03830461477520289)\">0.005</th></tr><tr><th>▁sono</th><th style=\"background:rgba(255.0, 13.0, 87.0, 0.02253911665676371)\">0.003</th><th style=\"background:rgba(255.0, 13.0, 87.0, 0.03830461477520289)\">0.004</th><th style=\"background:rgba(255.0, 13.0, 87.0, 0.030421865715983164)\">0.004</th><th style=\"background:rgba(255.0, 13.0, 87.0, 0.030421865715983164)\">0.004</th><th style=\"background:rgba(255.0, 13.0, 87.0, 0.05407011289364243)\">0.006</th></tr><tr><th>▁di</th><th style=\"background:rgba(255.0, 13.0, 87.0, 0.00677361853832443)\">0.001</th><th style=\"background:rgba(255.0, 13.0, 87.0, 0.00677361853832443)\">0.002</th><th style=\"background:rgba(255.0, 13.0, 87.0, 0.00677361853832443)\">0.001</th><th style=\"background:rgba(255.0, 13.0, 87.0, 0.014656367597544035)\">0.002</th><th style=\"background:rgba(255.0, 13.0, 87.0, 0.02253911665676371)\">0.003</th></tr><tr><th>▁importanza</th><th style=\"background:rgba(255.0, 13.0, 87.0, 0.06195286195286207)\">0.007</th><th style=\"background:rgba(255.0, 13.0, 87.0, 0.05407011289364243)\">0.006</th><th style=\"background:rgba(255.0, 13.0, 87.0, 0.05407011289364243)\">0.006</th><th style=\"background:rgba(255.0, 13.0, 87.0, 0.05407011289364243)\">0.006</th><th style=\"background:rgba(255.0, 13.0, 87.0, 0.06983561101208159)\">0.008</th></tr><tr><th>▁fondamentale</th><th style=\"background:rgba(255.0, 13.0, 87.0, 0.03830461477520289)\">0.005</th><th style=\"background:rgba(255.0, 13.0, 87.0, 0.02253911665676371)\">0.003</th><th style=\"background:rgba(255.0, 13.0, 87.0, 0.030421865715983164)\">0.003</th><th style=\"background:rgba(255.0, 13.0, 87.0, 0.030421865715983164)\">0.004</th><th style=\"background:rgba(255.0, 13.0, 87.0, 0.04618736383442265)\">0.006</th></tr><tr><th>▁per</th><th style=\"background:rgba(255.0, 13.0, 87.0, 0.00677361853832443)\">0.002</th><th style=\"background:rgba(255.0, 13.0, 87.0, 0.00677361853832443)\">0.001</th><th style=\"background:rgba(255.0, 13.0, 87.0, 0.00677361853832443)\">0.002</th><th style=\"background:rgba(255.0, 13.0, 87.0, 0.00677361853832443)\">0.002</th><th style=\"background:rgba(255.0, 13.0, 87.0, 0.014656367597544035)\">0.002</th></tr><tr><th>▁unire</th><th style=\"background:rgba(255.0, 13.0, 87.0, 0.030421865715983164)\">0.004</th><th style=\"background:rgba(255.0, 13.0, 87.0, 0.03830461477520289)\">0.005</th><th style=\"background:rgba(255.0, 13.0, 87.0, 0.04618736383442265)\">0.005</th><th style=\"background:rgba(255.0, 13.0, 87.0, 0.04618736383442265)\">0.005</th><th style=\"background:rgba(255.0, 13.0, 87.0, 0.05407011289364243)\">0.006</th></tr><tr><th>▁e</th><th style=\"background:rgba(255.0, 13.0, 87.0, 0.02253911665676371)\">0.003</th><th style=\"background:rgba(255.0, 13.0, 87.0, 0.00677361853832443)\">0.001</th><th style=\"background:rgba(255.0, 13.0, 87.0, 0.00677361853832443)\">0.001</th><th style=\"background:rgba(255.0, 13.0, 87.0, 0.014656367597544035)\">0.002</th><th style=\"background:rgba(255.0, 13.0, 87.0, 0.00677361853832443)\">0.002</th></tr><tr><th>▁dirigere</th><th style=\"background:rgba(255.0, 13.0, 87.0, 0.03830461477520289)\">0.004</th><th style=\"background:rgba(255.0, 13.0, 87.0, 0.030421865715983164)\">0.004</th><th style=\"background:rgba(255.0, 13.0, 87.0, 0.030421865715983164)\">0.004</th><th style=\"background:rgba(255.0, 13.0, 87.0, 0.030421865715983164)\">0.004</th><th style=\"background:rgba(255.0, 13.0, 87.0, 0.03830461477520289)\">0.004</th></tr><tr><th>▁gli</th><th style=\"background:rgba(255.0, 13.0, 87.0, 0.014656367597544035)\">0.002</th><th style=\"background:rgba(255.0, 13.0, 87.0, 0.014656367597544035)\">0.002</th><th style=\"background:rgba(255.0, 13.0, 87.0, 0.014656367597544035)\">0.002</th><th style=\"background:rgba(255.0, 13.0, 87.0, 0.00677361853832443)\">0.001</th><th style=\"background:rgba(255.0, 13.0, 87.0, 0.00677361853832443)\">0.002</th></tr><tr><th>▁sforzi</th><th style=\"background:rgba(255.0, 13.0, 87.0, 0.04618736383442265)\">0.005</th><th style=\"background:rgba(255.0, 13.0, 87.0, 0.04618736383442265)\">0.006</th><th style=\"background:rgba(255.0, 13.0, 87.0, 0.04618736383442265)\">0.005</th><th style=\"background:rgba(255.0, 13.0, 87.0, 0.04618736383442265)\">0.005</th><th style=\"background:rgba(255.0, 13.0, 87.0, 0.05407011289364243)\">0.006</th></tr><tr><th>▁della</th><th style=\"background:rgba(255.0, 13.0, 87.0, 0.014656367597544035)\">0.002</th><th style=\"background:rgba(255.0, 13.0, 87.0, 0.014656367597544035)\">0.002</th><th style=\"background:rgba(255.0, 13.0, 87.0, 0.014656367597544035)\">0.002</th><th style=\"background:rgba(255.0, 13.0, 87.0, 0.00677361853832443)\">0.001</th><th style=\"background:rgba(255.0, 13.0, 87.0, 0.00677361853832443)\">0.002</th></tr><tr><th>▁comunità</th><th style=\"background:rgba(255.0, 13.0, 87.0, 0.05407011289364243)\">0.006</th><th style=\"background:rgba(255.0, 13.0, 87.0, 0.06195286195286207)\">0.007</th><th style=\"background:rgba(255.0, 13.0, 87.0, 0.06983561101208159)\">0.008</th><th style=\"background:rgba(255.0, 13.0, 87.0, 0.03830461477520289)\">0.005</th><th style=\"background:rgba(255.0, 13.0, 87.0, 0.04618736383442265)\">0.005</th></tr><tr><th>▁italiana</th><th style=\"background:rgba(255.0, 13.0, 87.0, 0.05407011289364243)\">0.006</th><th style=\"background:rgba(255.0, 13.0, 87.0, 0.05407011289364243)\">0.006</th><th style=\"background:rgba(255.0, 13.0, 87.0, 0.07771836007130124)\">0.009</th><th style=\"background:rgba(255.0, 13.0, 87.0, 0.03830461477520289)\">0.005</th><th style=\"background:rgba(255.0, 13.0, 87.0, 0.05407011289364243)\">0.006</th></tr><tr><th>▁di</th><th style=\"background:rgba(255.0, 13.0, 87.0, 0.00677361853832443)\">0.002</th><th style=\"background:rgba(255.0, 13.0, 87.0, 0.014656367597544035)\">0.002</th><th style=\"background:rgba(255.0, 13.0, 87.0, 0.014656367597544035)\">0.002</th><th style=\"background:rgba(255.0, 13.0, 87.0, 0.00677361853832443)\">0.002</th><th style=\"background:rgba(255.0, 13.0, 87.0, 0.014656367597544035)\">0.002</th></tr><tr><th>▁ricercatori</th><th style=\"background:rgba(255.0, 13.0, 87.0, 0.1171321053673995)\">0.013</th><th style=\"background:rgba(255.0, 13.0, 87.0, 0.14866310160427795)\">0.016</th><th style=\"background:rgba(255.0, 13.0, 87.0, 0.10924935630817992)\">0.012</th><th style=\"background:rgba(255.0, 13.0, 87.0, 0.06983561101208159)\">0.008</th><th style=\"background:rgba(255.0, 13.0, 87.0, 0.06983561101208159)\">0.008</th></tr><tr><th>▁in</th><th style=\"background:rgba(255.0, 13.0, 87.0, 0.030421865715983164)\">0.004</th><th style=\"background:rgba(255.0, 13.0, 87.0, 0.02253911665676371)\">0.003</th><th style=\"background:rgba(255.0, 13.0, 87.0, 0.02253911665676371)\">0.003</th><th style=\"background:rgba(255.0, 13.0, 87.0, 0.014656367597544035)\">0.002</th><th style=\"background:rgba(255.0, 13.0, 87.0, 0.014656367597544035)\">0.002</th></tr><tr><th>▁linguistica</th><th style=\"background:rgba(255.0, 13.0, 87.0, 0.04618736383442265)\">0.005</th><th style=\"background:rgba(255.0, 13.0, 87.0, 0.05407011289364243)\">0.006</th><th style=\"background:rgba(255.0, 13.0, 87.0, 0.05407011289364243)\">0.006</th><th style=\"background:rgba(255.0, 13.0, 87.0, 0.03830461477520289)\">0.004</th><th style=\"background:rgba(255.0, 13.0, 87.0, 0.05407011289364243)\">0.006</th></tr><tr><th>▁computazionale.</th><th style=\"background:rgba(255.0, 13.0, 87.0, 0.07771836007130124)\">0.009</th><th style=\"background:rgba(255.0, 13.0, 87.0, 0.08560110913052081)\">0.009</th><th style=\"background:rgba(255.0, 13.0, 87.0, 0.07771836007130124)\">0.009</th><th style=\"background:rgba(255.0, 13.0, 87.0, 0.06983561101208159)\">0.008</th><th style=\"background:rgba(255.0, 13.0, 87.0, 0.08560110913052081)\">0.01</th></tr><tr><th>▁domanda:</th><th style=\"background:rgba(255.0, 13.0, 87.0, 0.1171321053673995)\">0.013</th><th style=\"background:rgba(255.0, 13.0, 87.0, 0.14078035254505847)\">0.015</th><th style=\"background:rgba(255.0, 13.0, 87.0, 0.15654585066349747)\">0.017</th><th style=\"background:rgba(255.0, 13.0, 87.0, 0.14866310160427795)\">0.016</th><th style=\"background:rgba(255.0, 13.0, 87.0, 0.1880768469003763)\">0.021</th></tr><tr><th>▁quanti</th><th style=\"background:rgba(255.0, 13.0, 87.0, 0.2747870865517925)\">0.029</th><th style=\"background:rgba(255.0, 13.0, 87.0, 0.3772628243216479)\">0.04</th><th style=\"background:rgba(255.0, 13.0, 87.0, 0.306318082788671)\">0.033</th><th style=\"background:rgba(255.0, 13.0, 87.0, 0.306318082788671)\">0.033</th><th style=\"background:rgba(255.0, 13.0, 87.0, 0.2747870865517925)\">0.03</th></tr><tr><th>▁studenti</th><th style=\"background:rgba(255.0, 13.0, 87.0, 0.4009110714993067)\">0.043</th><th style=\"background:rgba(255.0, 13.0, 87.0, 0.5349178055060405)\">0.056</th><th style=\"background:rgba(255.0, 13.0, 87.0, 0.44820756585462457)\">0.047</th><th style=\"background:rgba(255.0, 13.0, 87.0, 0.29055258467023165)\">0.031</th><th style=\"background:rgba(255.0, 13.0, 87.0, 0.2590215884333532)\">0.028</th></tr><tr><th>▁hanno</th><th style=\"background:rgba(255.0, 13.0, 87.0, 0.10924935630817992)\">0.012</th><th style=\"background:rgba(255.0, 13.0, 87.0, 0.1171321053673995)\">0.013</th><th style=\"background:rgba(255.0, 13.0, 87.0, 0.09348385818974037)\">0.011</th><th style=\"background:rgba(255.0, 13.0, 87.0, 0.07771836007130124)\">0.009</th><th style=\"background:rgba(255.0, 13.0, 87.0, 0.07771836007130124)\">0.009</th></tr><tr><th>▁partecipato</th><th style=\"background:rgba(255.0, 13.0, 87.0, 0.2117250940780353)\">0.023</th><th style=\"background:rgba(255.0, 13.0, 87.0, 0.2117250940780353)\">0.023</th><th style=\"background:rgba(255.0, 13.0, 87.0, 0.17231134878193693)\">0.018</th><th style=\"background:rgba(255.0, 13.0, 87.0, 0.14866310160427795)\">0.016</th><th style=\"background:rgba(255.0, 13.0, 87.0, 0.16442859972271742)\">0.018</th></tr><tr><th>▁alle</th><th style=\"background:rgba(255.0, 13.0, 87.0, 0.06983561101208159)\">0.008</th><th style=\"background:rgba(255.0, 13.0, 87.0, 0.08560110913052081)\">0.009</th><th style=\"background:rgba(255.0, 13.0, 87.0, 0.07771836007130124)\">0.009</th><th style=\"background:rgba(255.0, 13.0, 87.0, 0.06195286195286207)\">0.007</th><th style=\"background:rgba(255.0, 13.0, 87.0, 0.06195286195286207)\">0.007</th></tr><tr><th>▁lcl</th><th style=\"background:rgba(255.0, 13.0, 87.0, 0.05407011289364243)\">0.006</th><th style=\"background:rgba(255.0, 13.0, 87.0, 0.04618736383442265)\">0.006</th><th style=\"background:rgba(255.0, 13.0, 87.0, 0.05407011289364243)\">0.006</th><th style=\"background:rgba(255.0, 13.0, 87.0, 0.04618736383442265)\">0.006</th><th style=\"background:rgba(255.0, 13.0, 87.0, 0.05407011289364243)\">0.006</th></tr><tr><th>▁nel</th><th style=\"background:rgba(255.0, 13.0, 87.0, 0.06983561101208159)\">0.008</th><th style=\"background:rgba(255.0, 13.0, 87.0, 0.08560110913052081)\">0.01</th><th style=\"background:rgba(255.0, 13.0, 87.0, 0.09348385818974037)\">0.01</th><th style=\"background:rgba(255.0, 13.0, 87.0, 0.09348385818974037)\">0.01</th><th style=\"background:rgba(255.0, 13.0, 87.0, 0.07771836007130124)\">0.009</th></tr><tr><th>▁2023?</th><th style=\"background:rgba(255.0, 13.0, 87.0, 0.15654585066349747)\">0.017</th><th style=\"background:rgba(255.0, 13.0, 87.0, 0.1880768469003763)\">0.02</th><th style=\"background:rgba(255.0, 13.0, 87.0, 0.2117250940780353)\">0.023</th><th style=\"background:rgba(255.0, 13.0, 87.0, 0.20384234501881549)\">0.022</th><th style=\"background:rgba(255.0, 13.0, 87.0, 0.2117250940780353)\">0.023</th></tr><tr><th>&lt;/s&gt;</th><th style=\"background:rgba(255.0, 13.0, 87.0, 0.4009110714993067)\">0.043</th><th style=\"background:rgba(255.0, 13.0, 87.0, 0.24325609031491383)\">0.026</th><th style=\"background:rgba(255.0, 13.0, 87.0, 0.3772628243216479)\">0.04</th><th style=\"background:rgba(255.0, 13.0, 87.0, 0.16442859972271742)\">0.018</th><th style=\"background:rgba(255.0, 13.0, 87.0, 0.17231134878193693)\">0.018</th></tr><tr style=\"outline: thin solid\"><th><b>probability</b></th><th><b>0.989</b></th><th><b>1.0</b></th><th><b>1.0</b></th><th><b>1.0</b></th><th><b>1.0</b></th></table>\n",
       "</div>\n",
       "\n",
       "        </div>\n",
       "    </div>\n",
       "</div>\n",
       "</html>\n",
       "<br/><b>0th instance:</b><br/>\n",
       "<html>\n",
       "<div id=\"zqorvufaigfywirkxlgg_viz_container\">\n",
       "    <div id=\"zqorvufaigfywirkxlgg_content\" style=\"padding:15px;border-style:solid;margin:5px;\">\n",
       "        <div id = \"zqorvufaigfywirkxlgg_saliency_plot_container\" class=\"zqorvufaigfywirkxlgg_viz_container\" style=\"display:block\">\n",
       "            \n",
       "<div id=\"sbfhcgchqjjfgyqpesej_saliency_plot\" class=\"sbfhcgchqjjfgyqpesej_viz_content\">\n",
       "    <div style=\"margin:5px;font-family:sans-serif;font-weight:bold;\">\n",
       "        <span style=\"font-size: 20px;\">Target Saliency Heatmap</span>\n",
       "        <br>\n",
       "        x: Generated tokens, y: Attributed tokens\n",
       "    </div>\n",
       "    \n",
       "<table border=\"1\" cellpadding=\"5\" cellspacing=\"5\"\n",
       "    style=\"overflow-x:scroll;display:block;\">\n",
       "    <tr><th></th>\n",
       "<th>▁</th><th>2</th><th>0</th><th>0</th><th>&lt;/s&gt;</th></tr><tr><th>▁</th><th style=\"background:rgba(0.0, 0.0, 0.0, 0.0)\"></th><th style=\"background:rgba(255.0, 13.0, 87.0, 0.16442859972271742)\">0.018</th><th style=\"background:rgba(255.0, 13.0, 87.0, 0.07771836007130124)\">0.009</th><th style=\"background:rgba(255.0, 13.0, 87.0, 0.12501485442661908)\">0.014</th><th style=\"background:rgba(255.0, 13.0, 87.0, 0.09348385818974037)\">0.011</th></tr><tr><th>2</th><th style=\"background:rgba(0.0, 0.0, 0.0, 0.0)\"></th><th style=\"background:rgba(0.0, 0.0, 0.0, 0.0)\"></th><th style=\"background:rgba(255.0, 13.0, 87.0, 0.3772628243216479)\">0.04</th><th style=\"background:rgba(255.0, 13.0, 87.0, 0.43244206773618543)\">0.046</th><th style=\"background:rgba(255.0, 13.0, 87.0, 0.3299663299663301)\">0.036</th></tr><tr><th>0</th><th style=\"background:rgba(0.0, 0.0, 0.0, 0.0)\"></th><th style=\"background:rgba(0.0, 0.0, 0.0, 0.0)\"></th><th style=\"background:rgba(0.0, 0.0, 0.0, 0.0)\"></th><th style=\"background:rgba(255.0, 13.0, 87.0, 0.44032481679540497)\">0.047</th><th style=\"background:rgba(255.0, 13.0, 87.0, 0.32208358090711037)\">0.035</th></tr><tr><th>0</th><th style=\"background:rgba(0.0, 0.0, 0.0, 0.0)\"></th><th style=\"background:rgba(0.0, 0.0, 0.0, 0.0)\"></th><th style=\"background:rgba(0.0, 0.0, 0.0, 0.0)\"></th><th style=\"background:rgba(0.0, 0.0, 0.0, 0.0)\"></th><th style=\"background:rgba(255.0, 13.0, 87.0, 0.4797385620915033)\">0.051</th></tr><tr><th>&lt;/s&gt;</th><th style=\"background:rgba(0.0, 0.0, 0.0, 0.0)\"></th><th style=\"background:rgba(0.0, 0.0, 0.0, 0.0)\"></th><th style=\"background:rgba(0.0, 0.0, 0.0, 0.0)\"></th><th style=\"background:rgba(0.0, 0.0, 0.0, 0.0)\"></th><th style=\"background:rgba(0.0, 0.0, 0.0, 0.0)\"></th></tr><tr style=\"outline: thin solid\"><th><b>probability</b></th><th><b>0.989</b></th><th><b>1.0</b></th><th><b>1.0</b></th><th><b>1.0</b></th><th><b>1.0</b></th></table>\n",
       "</div>\n",
       "\n",
       "        </div>\n",
       "    </div>\n",
       "</div>\n",
       "</html>\n"
      ],
      "text/plain": [
       "<IPython.core.display.HTML object>"
      ]
     },
     "metadata": {},
     "output_type": "display_data"
    }
   ],
   "source": [
    "import inseq\n",
    "\n",
    "question = (\n",
    "    \"Nel 2023, le Lectures on Computational Linguistics (LCL) dell'Associazione Italiana di \"\n",
    "    \"Linguistica Computazionale (AILC) hanno raccolto una partecipazione senza precedenti. Più \"\n",
    "    \"di 200 studenti da tutta Europa hanno visitato la magnifica città di Pisa per spendere 3 produttive \"\n",
    "    \"giornate all'insegna del trattamento automatico del linguaggio. Iniziative come le LCL sono di importanza \"\n",
    "    \"fondamentale per unire e dirigere gli sforzi della comunità italiana di ricercatori in linguistica computazionale. \"\n",
    "    \"Domanda: Quanti studenti hanno partecipato alle LCL nel 2023?\"\n",
    ")\n",
    "\n",
    "qa_model =  inseq.load_model(\"it5/it5-base-question-answering\", \"input_x_gradient\")\n",
    "out = qa_model.attribute(question, attribute_target=True, step_scores=[\"probability\"])\n",
    "\n",
    "# Aggregate only source tokens, leave target tokens as they are\n",
    "out.aggregate(\"subwords\", aggregate_target=False).show()"
   ]
  },
  {
   "attachments": {},
   "cell_type": "markdown",
   "metadata": {},
   "source": [
    "Some comments on the results:\n",
    "\n",
    "- The answer produced by the model is correct and probability is extremely high, so we can assume that the model is confident in its correct prediction and that it is reasonable to evaluate how it uses inputs to produce the answer.\n",
    "\n",
    "- The magnitude of importance scores is quite low. This points to the known issue of gradient-based methods of producing explanations that are not **sparse** (i.e. only some tokens are highlighted). This makes analysis less intuitive, so methods inducing sparse explanations should be preferred, *especially given long inputs*.\n",
    "\n",
    "- The model seems to rely on reasonable cues (`200 studenti` in the context, `quanti studenti` in the question) while generating an answer. However, some attended inputs might be surprising (`2023`, `senza precedenti`). Previous research showed that these might be good starting points to craft **adversarial attacks** to test the robustness of model predictions."
   ]
  },
  {
   "attachments": {},
   "cell_type": "markdown",
   "metadata": {},
   "source": [
    "## Using PairAggregator for Minimal Pair Comparison\n",
    "\n",
    "The `PairAggregator` class allows to compare the attributions of two sequences, and is useful to compare the attributions of two similar sentences, or to compare the attributions of two different models. In this example, we'll see how to use it alongside **constrained decoding** of target sequences (i.e. forcing the generation of a target sequence of our choice) in Inseq to analyze how attributions differ across different cases.\n",
    "\n",
    "⚠️ **Attention:** Analyzing model behavior when doing constrained decoding doesn't always make sense, and ideally we would want to work on natural model generations to remain faithful to plausible model behavior (see [Vamvas and Sennrich (2021)](https://aclanthology.org/2021.blackboxnlp-1.5/) for a discussion on this topic). However, constrained decoding is a useful tool to analyze minimal examples that differ from natural model outputs.\n",
    "\n",
    "⚠️ **Attention x 2:** Two attribution maps need to have exactly the same number of rows and columns to be compared using `PairAggregator`. You might have to aggregate subwords beforehand like shown above to make sure that this is the case. "
   ]
  },
  {
   "cell_type": "code",
   "execution_count": 8,
   "metadata": {},
   "outputs": [
    {
     "name": "stderr",
     "output_type": "stream",
     "text": [
      "Setting `pad_token_id` to `eos_token_id`:50256 for open-end generation.\n"
     ]
    },
    {
     "name": "stdout",
     "output_type": "stream",
     "text": [
      "Natural output: The manager went home because he was sick.\n"
     ]
    },
    {
     "name": "stderr",
     "output_type": "stream",
     "text": [
      "Attributing with integrated_gradients...: 100%|██████████| 9/9 [00:00<00:00,  9.99it/s]\n",
      "Attributing with integrated_gradients...: 100%|██████████| 9/9 [00:00<00:00, 10.60it/s]\n"
     ]
    },
    {
     "data": {
      "text/html": [
       "<br/><b>0th instance:</b><br/>\n",
       "<html>\n",
       "<div id=\"usieyiccwpusnzjovqwp_viz_container\">\n",
       "    <div id=\"usieyiccwpusnzjovqwp_content\" style=\"padding:15px;border-style:solid;margin:5px;\">\n",
       "        <div id = \"usieyiccwpusnzjovqwp_saliency_plot_container\" class=\"usieyiccwpusnzjovqwp_viz_container\" style=\"display:block\">\n",
       "            \n",
       "<div id=\"qahftrxckafnafqofpva_saliency_plot\" class=\"qahftrxckafnafqofpva_viz_content\">\n",
       "    <div style=\"margin:5px;font-family:sans-serif;font-weight:bold;\">\n",
       "        <span style=\"font-size: 20px;\">Target Saliency Heatmap</span>\n",
       "        <br>\n",
       "        x: Generated tokens, y: Attributed tokens\n",
       "    </div>\n",
       "    \n",
       "<table border=\"1\" cellpadding=\"5\" cellspacing=\"5\"\n",
       "    style=\"overflow-x:scroll;display:block;\">\n",
       "    <tr><th></th>\n",
       "<th>Ġhe</th><th>Ġwas</th><th>Ġsick</th><th>.</th></tr><tr><th>The</th><th style=\"background:rgba(255.0, 13.0, 87.0, 0.5191523073876015)\">0.201</th><th style=\"background:rgba(255.0, 13.0, 87.0, 0.5822142998613588)\">0.224</th><th style=\"background:rgba(255.0, 13.0, 87.0, 0.3772628243216479)\">0.147</th><th style=\"background:rgba(255.0, 13.0, 87.0, 0.4087938205585263)\">0.157</th></tr><tr><th>Ġmanager</th><th style=\"background:rgba(255.0, 13.0, 87.0, 1.0)\">0.385</th><th style=\"background:rgba(255.0, 13.0, 87.0, 0.3851455733808676)\">0.149</th><th style=\"background:rgba(255.0, 13.0, 87.0, 0.48762131115072294)\">0.187</th><th style=\"background:rgba(255.0, 13.0, 87.0, 0.3772628243216479)\">0.144</th></tr><tr><th>Ġwent</th><th style=\"background:rgba(255.0, 13.0, 87.0, 0.32208358090711037)\">0.124</th><th style=\"background:rgba(255.0, 13.0, 87.0, 0.3772628243216479)\">0.145</th><th style=\"background:rgba(255.0, 13.0, 87.0, 0.29055258467023165)\">0.113</th><th style=\"background:rgba(255.0, 13.0, 87.0, 0.33784907902554967)\">0.131</th></tr><tr><th>Ġhome</th><th style=\"background:rgba(255.0, 13.0, 87.0, 0.4245593186769657)\">0.165</th><th style=\"background:rgba(255.0, 13.0, 87.0, 0.306318082788671)\">0.12</th><th style=\"background:rgba(255.0, 13.0, 87.0, 0.6846900376312143)\">0.262</th><th style=\"background:rgba(255.0, 13.0, 87.0, 0.3693800752624282)\">0.143</th></tr><tr><th>Ġbecause</th><th style=\"background:rgba(255.0, 13.0, 87.0, 0.32208358090711037)\">0.125</th><th style=\"background:rgba(255.0, 13.0, 87.0, 0.43244206773618543)\">0.168</th><th style=\"background:rgba(255.0, 13.0, 87.0, 0.3142008318478907)\">0.123</th><th style=\"background:rgba(255.0, 13.0, 87.0, 0.1880768469003763)\">0.075</th></tr><tr><th>Ġhe</th><th style=\"background:rgba(0.0, 0.0, 0.0, 0.0)\"></th><th style=\"background:rgba(255.0, 13.0, 87.0, 0.5033868092691621)\">0.194</th><th style=\"background:rgba(255.0, 13.0, 87.0, 0.18019409784115661)\">0.071</th><th style=\"background:rgba(255.0, 13.0, 87.0, 0.10924935630817992)\">0.044</th></tr><tr><th>Ġwas</th><th style=\"background:rgba(0.0, 0.0, 0.0, 0.0)\"></th><th style=\"background:rgba(0.0, 0.0, 0.0, 0.0)\"></th><th style=\"background:rgba(255.0, 13.0, 87.0, 0.2511388393741335)\">0.097</th><th style=\"background:rgba(255.0, 13.0, 87.0, 0.15654585066349747)\">0.062</th></tr><tr><th>Ġsick</th><th style=\"background:rgba(0.0, 0.0, 0.0, 0.0)\"></th><th style=\"background:rgba(0.0, 0.0, 0.0, 0.0)\"></th><th style=\"background:rgba(0.0, 0.0, 0.0, 0.0)\"></th><th style=\"background:rgba(255.0, 13.0, 87.0, 0.6373935432758963)\">0.244</th></tr><tr><th>.</th><th style=\"background:rgba(0.0, 0.0, 0.0, 0.0)\"></th><th style=\"background:rgba(0.0, 0.0, 0.0, 0.0)\"></th><th style=\"background:rgba(0.0, 0.0, 0.0, 0.0)\"></th><th style=\"background:rgba(0.0, 0.0, 0.0, 0.0)\"></th></tr><tr style=\"outline: thin solid\"><th><b>probability</b></th><th>0.43</th><th>0.251</th><th>0.067</th><th>0.282</th></table>\n",
       "</div>\n",
       "\n",
       "        </div>\n",
       "    </div>\n",
       "</div>\n",
       "</html>\n"
      ],
      "text/plain": [
       "<IPython.core.display.HTML object>"
      ]
     },
     "metadata": {},
     "output_type": "display_data"
    },
    {
     "data": {
      "text/html": [
       "<br/><b>0th instance:</b><br/>\n",
       "<html>\n",
       "<div id=\"zqorvufaigfywirkxlgg_viz_container\">\n",
       "    <div id=\"zqorvufaigfywirkxlgg_content\" style=\"padding:15px;border-style:solid;margin:5px;\">\n",
       "        <div id = \"zqorvufaigfywirkxlgg_saliency_plot_container\" class=\"zqorvufaigfywirkxlgg_viz_container\" style=\"display:block\">\n",
       "            \n",
       "<div id=\"sbfhcgchqjjfgyqpesej_saliency_plot\" class=\"sbfhcgchqjjfgyqpesej_viz_content\">\n",
       "    <div style=\"margin:5px;font-family:sans-serif;font-weight:bold;\">\n",
       "        <span style=\"font-size: 20px;\">Target Saliency Heatmap</span>\n",
       "        <br>\n",
       "        x: Generated tokens, y: Attributed tokens\n",
       "    </div>\n",
       "    \n",
       "<table border=\"1\" cellpadding=\"5\" cellspacing=\"5\"\n",
       "    style=\"overflow-x:scroll;display:block;\">\n",
       "    <tr><th></th>\n",
       "<th>Ġshe</th><th>Ġwas</th><th>Ġsick</th><th>.</th></tr><tr><th>The</th><th style=\"background:rgba(255.0, 13.0, 87.0, 0.5743315508021392)\">0.27</th><th style=\"background:rgba(255.0, 13.0, 87.0, 0.5112695583283818)\">0.241</th><th style=\"background:rgba(255.0, 13.0, 87.0, 0.32208358090711037)\">0.152</th><th style=\"background:rgba(255.0, 13.0, 87.0, 0.3299663299663301)\">0.158</th></tr><tr><th>Ġmanager</th><th style=\"background:rgba(255.0, 13.0, 87.0, 1.0)\">0.472</th><th style=\"background:rgba(255.0, 13.0, 87.0, 0.3142008318478907)\">0.148</th><th style=\"background:rgba(255.0, 13.0, 87.0, 0.3772628243216479)\">0.18</th><th style=\"background:rgba(255.0, 13.0, 87.0, 0.29843533372945136)\">0.143</th></tr><tr><th>Ġwent</th><th style=\"background:rgba(255.0, 13.0, 87.0, 0.15654585066349747)\">0.077</th><th style=\"background:rgba(255.0, 13.0, 87.0, 0.2826698356110118)\">0.135</th><th style=\"background:rgba(255.0, 13.0, 87.0, 0.2590215884333532)\">0.122</th><th style=\"background:rgba(255.0, 13.0, 87.0, 0.32208358090711037)\">0.153</th></tr><tr><th>Ġhome</th><th style=\"background:rgba(255.0, 13.0, 87.0, 0.2117250940780353)\">0.102</th><th style=\"background:rgba(255.0, 13.0, 87.0, 0.1959595959595959)\">0.095</th><th style=\"background:rgba(255.0, 13.0, 87.0, 0.5822142998613588)\">0.276</th><th style=\"background:rgba(255.0, 13.0, 87.0, 0.33784907902554967)\">0.16</th></tr><tr><th>Ġbecause</th><th style=\"background:rgba(255.0, 13.0, 87.0, 0.16442859972271742)\">0.079</th><th style=\"background:rgba(255.0, 13.0, 87.0, 0.32208358090711037)\">0.154</th><th style=\"background:rgba(255.0, 13.0, 87.0, 0.22749059219647458)\">0.109</th><th style=\"background:rgba(255.0, 13.0, 87.0, 0.15654585066349747)\">0.076</th></tr><tr><th>Ġshe</th><th style=\"background:rgba(0.0, 0.0, 0.0, 0.0)\"></th><th style=\"background:rgba(255.0, 13.0, 87.0, 0.4797385620915033)\">0.227</th><th style=\"background:rgba(255.0, 13.0, 87.0, 0.14866310160427795)\">0.072</th><th style=\"background:rgba(255.0, 13.0, 87.0, 0.14078035254505847)\">0.068</th></tr><tr><th>Ġwas</th><th style=\"background:rgba(0.0, 0.0, 0.0, 0.0)\"></th><th style=\"background:rgba(0.0, 0.0, 0.0, 0.0)\"></th><th style=\"background:rgba(255.0, 13.0, 87.0, 0.1880768469003763)\">0.089</th><th style=\"background:rgba(255.0, 13.0, 87.0, 0.1171321053673995)\">0.057</th></tr><tr><th>Ġsick</th><th style=\"background:rgba(0.0, 0.0, 0.0, 0.0)\"></th><th style=\"background:rgba(0.0, 0.0, 0.0, 0.0)\"></th><th style=\"background:rgba(0.0, 0.0, 0.0, 0.0)\"></th><th style=\"background:rgba(255.0, 13.0, 87.0, 0.39302832244008706)\">0.186</th></tr><tr><th>.</th><th style=\"background:rgba(0.0, 0.0, 0.0, 0.0)\"></th><th style=\"background:rgba(0.0, 0.0, 0.0, 0.0)\"></th><th style=\"background:rgba(0.0, 0.0, 0.0, 0.0)\"></th><th style=\"background:rgba(0.0, 0.0, 0.0, 0.0)\"></th></tr><tr style=\"outline: thin solid\"><th><b>probability</b></th><th>0.08</th><th>0.281</th><th>0.071</th><th>0.29</th></table>\n",
       "</div>\n",
       "\n",
       "        </div>\n",
       "    </div>\n",
       "</div>\n",
       "</html>\n"
      ],
      "text/plain": [
       "<IPython.core.display.HTML object>"
      ]
     },
     "metadata": {},
     "output_type": "display_data"
    }
   ],
   "source": [
    "import inseq\n",
    "\n",
    "model = inseq.load_model(\"gpt2\", \"integrated_gradients\")\n",
    "\n",
    "# Uses Huggingface generate method + automatically decodes outputs\n",
    "natural_generation = model.generate(\"The manager went home because\", max_new_tokens=4)[0]\n",
    "\n",
    "print(\"Natural output:\", natural_generation)\n",
    "\n",
    "# Why \"he\" rather than \"she\"?\n",
    "out = model.attribute(\n",
    "    input_texts=[\"The manager went home because\", \"The manager went home because\"],\n",
    "    # generated_texts is used to force the attribution of the specified texts\n",
    "    generated_texts=[\"The manager went home because he was sick.\", \"The manager went home because she was sick.\"],\n",
    "    step_scores=[\"probability\"],\n",
    ")\n",
    "\n",
    "out.show()"
   ]
  },
  {
   "cell_type": "code",
   "execution_count": 9,
   "metadata": {},
   "outputs": [
    {
     "data": {
      "text/html": [
       "<br/><b>0th instance:</b><br/>\n",
       "<html>\n",
       "<div id=\"asrngqcllywgnexwhqpd_viz_container\">\n",
       "    <div id=\"asrngqcllywgnexwhqpd_content\" style=\"padding:15px;border-style:solid;margin:5px;\">\n",
       "        <div id = \"asrngqcllywgnexwhqpd_saliency_plot_container\" class=\"asrngqcllywgnexwhqpd_viz_container\" style=\"display:block\">\n",
       "            \n",
       "<div id=\"ogpxkfzncbcqukbjznzw_saliency_plot\" class=\"ogpxkfzncbcqukbjznzw_viz_content\">\n",
       "    <div style=\"margin:5px;font-family:sans-serif;font-weight:bold;\">\n",
       "        <span style=\"font-size: 20px;\">Target Saliency Heatmap</span>\n",
       "        <br>\n",
       "        x: Generated tokens, y: Attributed tokens\n",
       "    </div>\n",
       "    \n",
       "<table border=\"1\" cellpadding=\"5\" cellspacing=\"5\"\n",
       "    style=\"overflow-x:scroll;display:block;\">\n",
       "    <tr><th></th>\n",
       "<th>Ġhe → Ġshe</th><th>Ġwas</th><th>Ġsick</th><th>.</th></tr><tr><th>The</th><th style=\"background:rgba(255.0, 13.0, 87.0, 0.5349178055060405)\">0.248</th><th style=\"background:rgba(255.0, 13.0, 87.0, 0.306318082788671)\">0.144</th><th style=\"background:rgba(255.0, 13.0, 87.0, 0.2826698356110118)\">0.131</th><th style=\"background:rgba(255.0, 13.0, 87.0, 0.1880768469003763)\">0.09</th></tr><tr><th>Ġmanager</th><th style=\"background:rgba(255.0, 13.0, 87.0, 1.0)\">0.462</th><th style=\"background:rgba(255.0, 13.0, 87.0, 0.46397306397306415)\">0.213</th><th style=\"background:rgba(255.0, 13.0, 87.0, 0.3536145771439889)\">0.165</th><th style=\"background:rgba(255.0, 13.0, 87.0, 0.3772628243216479)\">0.175</th></tr><tr><th>Ġwent</th><th style=\"background:rgba(255.0, 13.0, 87.0, 0.20384234501881549)\">0.095</th><th style=\"background:rgba(255.0, 13.0, 87.0, 0.10924935630817992)\">0.053</th><th style=\"background:rgba(255.0, 13.0, 87.0, 0.2747870865517925)\">0.127</th><th style=\"background:rgba(255.0, 13.0, 87.0, 0.20384234501881549)\">0.095</th></tr><tr><th>Ġhome</th><th style=\"background:rgba(255.0, 13.0, 87.0, 0.24325609031491383)\">0.114</th><th style=\"background:rgba(255.0, 13.0, 87.0, 0.16442859972271742)\">0.077</th><th style=\"background:rgba(255.0, 13.0, 87.0, 0.49550406020994264)\">0.229</th><th style=\"background:rgba(255.0, 13.0, 87.0, 0.20384234501881549)\">0.094</th></tr><tr><th>Ġbecause</th><th style=\"background:rgba(255.0, 13.0, 87.0, 0.17231134878193693)\">0.081</th><th style=\"background:rgba(255.0, 13.0, 87.0, 0.3693800752624282)\">0.173</th><th style=\"background:rgba(255.0, 13.0, 87.0, 0.20384234501881549)\">0.094</th><th style=\"background:rgba(255.0, 13.0, 87.0, 0.16442859972271742)\">0.077</th></tr><tr><th>Ġhe → Ġshe</th><th style=\"background:rgba(0.0, 0.0, 0.0, 0.0)\"></th><th style=\"background:rgba(255.0, 13.0, 87.0, 0.7398692810457518)\">0.34</th><th style=\"background:rgba(255.0, 13.0, 87.0, 0.4009110714993067)\">0.186</th><th style=\"background:rgba(255.0, 13.0, 87.0, 0.3772628243216479)\">0.175</th></tr><tr><th>Ġwas</th><th style=\"background:rgba(0.0, 0.0, 0.0, 0.0)\"></th><th style=\"background:rgba(0.0, 0.0, 0.0, 0.0)\"></th><th style=\"background:rgba(255.0, 13.0, 87.0, 0.14078035254505847)\">0.068</th><th style=\"background:rgba(255.0, 13.0, 87.0, 0.1171321053673995)\">0.057</th></tr><tr><th>Ġsick</th><th style=\"background:rgba(0.0, 0.0, 0.0, 0.0)\"></th><th style=\"background:rgba(0.0, 0.0, 0.0, 0.0)\"></th><th style=\"background:rgba(0.0, 0.0, 0.0, 0.0)\"></th><th style=\"background:rgba(255.0, 13.0, 87.0, 0.5112695583283818)\">0.237</th></tr><tr><th>.</th><th style=\"background:rgba(0.0, 0.0, 0.0, 0.0)\"></th><th style=\"background:rgba(0.0, 0.0, 0.0, 0.0)\"></th><th style=\"background:rgba(0.0, 0.0, 0.0, 0.0)\"></th><th style=\"background:rgba(0.0, 0.0, 0.0, 0.0)\"></th></tr><tr style=\"outline: thin solid\"><th><b>probability</b></th><th>-0.35</th><th>0.03</th><th>0.004</th><th>0.008</th></table>\n",
       "</div>\n",
       "\n",
       "        </div>\n",
       "    </div>\n",
       "</div>\n",
       "</html>\n"
      ],
      "text/plain": [
       "<IPython.core.display.HTML object>"
      ]
     },
     "metadata": {},
     "output_type": "display_data"
    }
   ],
   "source": [
    "# Note: this takes the per-hidden dimension diff between the two options and then performs L2 aggregation at token level + normalization\n",
    "out[0].aggregate(\"pair\", paired_attr=out[1], do_post_aggregation_checks=False).show()"
   ]
  },
  {
   "attachments": {},
   "cell_type": "markdown",
   "metadata": {},
   "source": [
    "From the example, we can see that the model is 35% more likely to generate the masculine pronoun `he` when referring to the noun `the manager` compared to its feminine counterpart `she`, while probabilities of all subsequent tokens are much less affected. The pattern of the previous attributions is mostly preserved, with `manager` influencing the generation of the pronoun and `home` influencing the choice of word `sick`."
   ]
  },
  {
   "attachments": {},
   "cell_type": "markdown",
   "metadata": {},
   "source": [
    "### Understanding Inseq utilities with `explain`\n",
    "\n",
    "Like Hugging Face, Inseq uses strings to identify many of its components (attribution methods, aggregators, aggregation functions, ...). \n",
    "\n",
    "Besides the `list_XXX` functions mentioned above that can be used to show available values, `inseq` also provides an `explain` utility to visualize the docstring of the class associated to the string identifier: "
   ]
  },
  {
   "cell_type": "code",
   "execution_count": 8,
   "metadata": {},
   "outputs": [
    {
     "name": "stdout",
     "output_type": "stream",
     "text": [
      "Integrated Gradients attribution method.\n",
      "\n",
      "    Reference implementation:\n",
      "    `https://captum.ai/api/integrated_gradients.html <https://captum.ai/api/integrated_gradients.html>`__.\n",
      "    \n"
     ]
    }
   ],
   "source": [
    "import inseq\n",
    "\n",
    "inseq.explain(\"integrated_gradients\")"
   ]
  },
  {
   "cell_type": "code",
   "execution_count": 10,
   "metadata": {},
   "outputs": [
    {
     "name": "stdout",
     "output_type": "stream",
     "text": [
      "Aggregates two FeatureAttributionSequenceOutput object into a single one containing the diff.\n",
      "\n",
      "    Args:\n",
      "        attr (:class:`~inseq.data.FeatureAttributionSequenceOutput`): The starting attribution object.\n",
      "        paired_attr (:class:`~inseq.data.FeatureAttributionSequenceOutput`): The attribution object with whom\n",
      "            the diff is computed, representing a change from `attr_start` (e.g. minimal pair edit).\n",
      "        aggregate_fn (:obj:`Callable`, optional): Function to aggregate elementwise values of the pair.\n",
      "            Defaults to the difference between the two elements.\n",
      "    \n"
     ]
    }
   ],
   "source": [
    "inseq.explain(\"pair\")"
   ]
  },
  {
   "attachments": {},
   "cell_type": "markdown",
   "metadata": {},
   "source": [
    "## Contrastive Explanations using Inseq\n",
    "\n",
    "Gradient-based feature attribution methods commonly compute gradients of feature vectors with respect to a prediction target (logits or probabilities), and use those as proxies of an explanation answering the question **\"How is this feature X influencing this model prediction P?\"**. However, in some cases we might want to compute attributions with respect to a different target to explain other properties of the prediction, e.g. the entropy (i.e. flatness/sharpness) of the probability distribution over the vocabulary.\n",
    "\n",
    "While `PairAggregator` can be used to visualize the difference between two attribution outputs, using the difference in probability between an option A (e.g. `he` in the previous example) and option B (e.g. `she`) as a target for gradient-based attribution methods is a more principled way to obtain **contrastive explanations** answering the question **\"How is this feature X contributing to the prediction of A rather than B?\"**.\n",
    "\n",
    "The importance scores produced by this method, introduced by [Yin and Neubig, (2022)](https://aclanthology.org/2022.emnlp-main.14/), is better to disentagle different factors that might play a role in the prediction, and can be used to explain the model behavior in a more nuanced way:\n",
    "\n",
    "<img alt=\"Contrastive attribution examples for generation and machine translation\" src=\"../docs/source/images/contrastive_attribution.png\" height=350/>\n",
    "\n",
    "Inseq allows users to specify custom attribution targets using the `attributed_fn` parameter. Attributed functions are simply step scores like `probability` values we extracted above (default attribution target). Custom scores can be registered using `inseq.register_step_function` for more advanced use cases (tutorial [in the documentation](https://inseq.readthedocs.io/en/latest/examples/custom_attribute_target.html)), but many including contrastive explanations (`contrast_prob_diff`) are already available out-of-the-box in the library:"
   ]
  },
  {
   "cell_type": "code",
   "execution_count": 10,
   "metadata": {},
   "outputs": [
    {
     "name": "stderr",
     "output_type": "stream",
     "text": [
      "Attributing with saliency...: 100%|██████████| 7/7 [00:00<00:00, 13.78it/s]\n",
      "/home/gsarti/projects/inseq/inseq/data/attribution.py:304: UserWarning: The use of `x.T` on tensors of dimension other than 2 to reverse their shape is deprecated and it will throw an error in a future release. Consider `x.mT` to transpose batches of matrices or `x.permute(*torch.arange(x.ndim - 1, -1, -1))` to reverse the dimensions of a tensor. (Triggered internally at ../aten/src/ATen/native/TensorShape.cpp:3571.)\n",
      "  Args:\n"
     ]
    },
    {
     "data": {
      "text/html": [
       "<br/><b>0th instance:</b><br/>\n",
       "<html>\n",
       "<div id=\"esejzqorvufaigfywirk_viz_container\">\n",
       "    <div id=\"esejzqorvufaigfywirk_content\" style=\"padding:15px;border-style:solid;margin:5px;\">\n",
       "        <div id = \"esejzqorvufaigfywirk_saliency_plot_container\" class=\"esejzqorvufaigfywirk_viz_container\" style=\"display:block\">\n",
       "            \n",
       "<div id=\"vqwpsbfhcgchqjjfgyqp_saliency_plot\" class=\"vqwpsbfhcgchqjjfgyqp_viz_content\">\n",
       "    <div style=\"margin:5px;font-family:sans-serif;font-weight:bold;\">\n",
       "        <span style=\"font-size: 20px;\">Source Saliency Heatmap</span>\n",
       "        <br>\n",
       "        x: Generated tokens, y: Attributed tokens\n",
       "    </div>\n",
       "    \n",
       "<table border=\"1\" cellpadding=\"5\" cellspacing=\"5\"\n",
       "    style=\"overflow-x:scroll;display:block;\">\n",
       "    <tr><th></th>\n",
       "<th>▁Ho</th><th>▁saluta</th><th>to</th><th>▁la → ▁il</th><th>▁manager</th><th>&lt;/s&gt;</th></tr><tr><th>▁I</th><th style=\"background:rgba(230.2941176470614, 26.505882352939775, 102.59215686274348, 0.0)\">0.0</th><th style=\"background:rgba(230.2941176470614, 26.505882352939775, 102.59215686274348, 0.0)\">0.0</th><th style=\"background:rgba(230.2941176470614, 26.505882352939775, 102.59215686274348, 0.0)\">0.0</th><th style=\"background:rgba(255.0, 13.0, 87.0, 0.10924935630817992)\">0.038</th><th style=\"background:rgba(230.2941176470614, 26.505882352939775, 102.59215686274348, 0.0)\">0.0</th><th style=\"background:rgba(54.70588235294111, 122.49411764705886, 213.40784313725496, 0.0)\">-0.001</th></tr><tr><th>▁said</th><th style=\"background:rgba(230.2941176470614, 26.505882352939775, 102.59215686274348, 0.0)\">0.0</th><th style=\"background:rgba(230.2941176470614, 26.505882352939775, 102.59215686274348, 0.0)\">0.0</th><th style=\"background:rgba(230.2941176470614, 26.505882352939775, 102.59215686274348, 0.0)\">0.0</th><th style=\"background:rgba(255.0, 13.0, 87.0, 0.14078035254505847)\">0.048</th><th style=\"background:rgba(230.2941176470614, 26.505882352939775, 102.59215686274348, 0.0)\">0.001</th><th style=\"background:rgba(54.70588235294111, 122.49411764705886, 213.40784313725496, 0.0)\">-0.001</th></tr><tr><th>▁hi</th><th style=\"background:rgba(230.2941176470614, 26.505882352939775, 102.59215686274348, 0.0)\">0.0</th><th style=\"background:rgba(230.2941176470614, 26.505882352939775, 102.59215686274348, 0.0)\">0.0</th><th style=\"background:rgba(230.2941176470614, 26.505882352939775, 102.59215686274348, 0.0)\">0.0</th><th style=\"background:rgba(255.0, 13.0, 87.0, 0.17231134878193693)\">0.056</th><th style=\"background:rgba(230.2941176470614, 26.505882352939775, 102.59215686274348, 0.0)\">0.001</th><th style=\"background:rgba(54.70588235294111, 122.49411764705886, 213.40784313725496, 0.0)\">-0.002</th></tr><tr><th>▁to</th><th style=\"background:rgba(230.2941176470614, 26.505882352939775, 102.59215686274348, 0.0)\">0.0</th><th style=\"background:rgba(230.2941176470614, 26.505882352939775, 102.59215686274348, 0.0)\">0.0</th><th style=\"background:rgba(230.2941176470614, 26.505882352939775, 102.59215686274348, 0.0)\">0.0</th><th style=\"background:rgba(255.0, 13.0, 87.0, 0.07771836007130124)\">0.026</th><th style=\"background:rgba(230.2941176470614, 26.505882352939775, 102.59215686274348, 0.0)\">0.0</th><th style=\"background:rgba(54.70588235294111, 122.49411764705886, 213.40784313725496, 0.0)\">-0.001</th></tr><tr><th>▁the</th><th style=\"background:rgba(230.2941176470614, 26.505882352939775, 102.59215686274348, 0.0)\">0.0</th><th style=\"background:rgba(230.2941176470614, 26.505882352939775, 102.59215686274348, 0.0)\">0.0</th><th style=\"background:rgba(230.2941176470614, 26.505882352939775, 102.59215686274348, 0.0)\">0.0</th><th style=\"background:rgba(255.0, 13.0, 87.0, 0.1959595959595959)\">0.066</th><th style=\"background:rgba(230.2941176470614, 26.505882352939775, 102.59215686274348, 0.0)\">0.001</th><th style=\"background:rgba(54.70588235294111, 122.49411764705886, 213.40784313725496, 0.0)\">-0.002</th></tr><tr><th>▁manager</th><th style=\"background:rgba(230.2941176470614, 26.505882352939775, 102.59215686274348, 0.0)\">0.0</th><th style=\"background:rgba(230.2941176470614, 26.505882352939775, 102.59215686274348, 0.0)\">0.0</th><th style=\"background:rgba(230.2941176470614, 26.505882352939775, 102.59215686274348, 0.0)\">0.0</th><th style=\"background:rgba(255.0, 13.0, 87.0, 1.0)\">0.325</th><th style=\"background:rgba(255.0, 13.0, 87.0, 0.00677361853832443)\">0.005</th><th style=\"background:rgba(30.0, 136.0, 229.0, 0.014656367597544028)\">-0.007</th></tr><tr><th>&lt;/s&gt;</th><th style=\"background:rgba(230.2941176470614, 26.505882352939775, 102.59215686274348, 0.0)\">0.0</th><th style=\"background:rgba(230.2941176470614, 26.505882352939775, 102.59215686274348, 0.0)\">0.0</th><th style=\"background:rgba(230.2941176470614, 26.505882352939775, 102.59215686274348, 0.0)\">0.0</th><th style=\"background:rgba(255.0, 13.0, 87.0, 0.2117250940780353)\">0.07</th><th style=\"background:rgba(230.2941176470614, 26.505882352939775, 102.59215686274348, 0.0)\">0.001</th><th style=\"background:rgba(54.70588235294111, 122.49411764705886, 213.40784313725496, 0.0)\">-0.002</th></tr><tr style=\"outline: thin solid\"><th><b>contrast_prob_diff</b></th><th>0.0</th><th>0.0</th><th>0.0</th><th><b>0.707</b></th><th>0.013</th><th>-0.043</th></table>\n",
       "</div>\n",
       "\n",
       "        </div>\n",
       "    </div>\n",
       "</div>\n",
       "</html>\n",
       "<br/><b>0th instance:</b><br/>\n",
       "<html>\n",
       "<div id=\"znzwasrngqcllywgnexw_viz_container\">\n",
       "    <div id=\"znzwasrngqcllywgnexw_content\" style=\"padding:15px;border-style:solid;margin:5px;\">\n",
       "        <div id = \"znzwasrngqcllywgnexw_saliency_plot_container\" class=\"znzwasrngqcllywgnexw_viz_container\" style=\"display:block\">\n",
       "            \n",
       "<div id=\"xlggogpxkfzncbcqukbj_saliency_plot\" class=\"xlggogpxkfzncbcqukbj_viz_content\">\n",
       "    <div style=\"margin:5px;font-family:sans-serif;font-weight:bold;\">\n",
       "        <span style=\"font-size: 20px;\">Target Saliency Heatmap</span>\n",
       "        <br>\n",
       "        x: Generated tokens, y: Attributed tokens\n",
       "    </div>\n",
       "    \n",
       "<table border=\"1\" cellpadding=\"5\" cellspacing=\"5\"\n",
       "    style=\"overflow-x:scroll;display:block;\">\n",
       "    <tr><th></th>\n",
       "<th>▁Ho</th><th>▁saluta</th><th>to</th><th>▁la → ▁il</th><th>▁manager</th><th>&lt;/s&gt;</th></tr><tr><th>▁Ho</th><th style=\"background:rgba(0.0, 0.0, 0.0, 0.0)\"></th><th style=\"background:rgba(230.2941176470614, 26.505882352939775, 102.59215686274348, 0.0)\">0.0</th><th style=\"background:rgba(230.2941176470614, 26.505882352939775, 102.59215686274348, 0.0)\">0.0</th><th style=\"background:rgba(255.0, 13.0, 87.0, 0.030421865715983164)\">0.012</th><th style=\"background:rgba(230.2941176470614, 26.505882352939775, 102.59215686274348, 0.0)\">0.0</th><th style=\"background:rgba(30.0, 136.0, 229.0, 0.014656367597544028)\">-0.005</th></tr><tr><th>▁saluta</th><th style=\"background:rgba(0.0, 0.0, 0.0, 0.0)\"></th><th style=\"background:rgba(0.0, 0.0, 0.0, 0.0)\"></th><th style=\"background:rgba(230.2941176470614, 26.505882352939775, 102.59215686274348, 0.0)\">0.0</th><th style=\"background:rgba(255.0, 13.0, 87.0, 0.14078035254505847)\">0.047</th><th style=\"background:rgba(230.2941176470614, 26.505882352939775, 102.59215686274348, 0.0)\">0.002</th><th style=\"background:rgba(30.0, 136.0, 229.0, 0.022539116656763607)\">-0.008</th></tr><tr><th>to</th><th style=\"background:rgba(0.0, 0.0, 0.0, 0.0)\"></th><th style=\"background:rgba(0.0, 0.0, 0.0, 0.0)\"></th><th style=\"background:rgba(0.0, 0.0, 0.0, 0.0)\"></th><th style=\"background:rgba(255.0, 13.0, 87.0, 0.05407011289364243)\">0.019</th><th style=\"background:rgba(230.2941176470614, 26.505882352939775, 102.59215686274348, 0.0)\">0.0</th><th style=\"background:rgba(30.0, 136.0, 229.0, 0.006773618538324436)\">-0.003</th></tr><tr><th>▁la → ▁il</th><th style=\"background:rgba(0.0, 0.0, 0.0, 0.0)\"></th><th style=\"background:rgba(0.0, 0.0, 0.0, 0.0)\"></th><th style=\"background:rgba(0.0, 0.0, 0.0, 0.0)\"></th><th style=\"background:rgba(0.0, 0.0, 0.0, 0.0)\"></th><th style=\"background:rgba(230.2941176470614, 26.505882352939775, 102.59215686274348, 0.0)\">0.001</th><th style=\"background:rgba(30.0, 136.0, 229.0, 0.006773618538324436)\">-0.003</th></tr><tr><th>▁manager</th><th style=\"background:rgba(0.0, 0.0, 0.0, 0.0)\"></th><th style=\"background:rgba(0.0, 0.0, 0.0, 0.0)\"></th><th style=\"background:rgba(0.0, 0.0, 0.0, 0.0)\"></th><th style=\"background:rgba(0.0, 0.0, 0.0, 0.0)\"></th><th style=\"background:rgba(0.0, 0.0, 0.0, 0.0)\"></th><th style=\"background:rgba(30.0, 136.0, 229.0, 0.022539116656763607)\">-0.008</th></tr><tr><th>&lt;/s&gt;</th><th style=\"background:rgba(0.0, 0.0, 0.0, 0.0)\"></th><th style=\"background:rgba(0.0, 0.0, 0.0, 0.0)\"></th><th style=\"background:rgba(0.0, 0.0, 0.0, 0.0)\"></th><th style=\"background:rgba(0.0, 0.0, 0.0, 0.0)\"></th><th style=\"background:rgba(0.0, 0.0, 0.0, 0.0)\"></th><th style=\"background:rgba(0.0, 0.0, 0.0, 0.0)\"></th></tr><tr style=\"outline: thin solid\"><th><b>contrast_prob_diff</b></th><th>0.0</th><th>0.0</th><th>0.0</th><th><b>0.707</b></th><th>0.013</th><th>-0.043</th></table>\n",
       "</div>\n",
       "\n",
       "        </div>\n",
       "    </div>\n",
       "</div>\n",
       "</html>\n"
      ],
      "text/plain": [
       "<IPython.core.display.HTML object>"
      ]
     },
     "metadata": {},
     "output_type": "display_data"
    }
   ],
   "source": [
    "import inseq\n",
    "\n",
    "attribution_model = inseq.load_model(\"Helsinki-NLP/opus-mt-en-it\", \"saliency\")\n",
    "\n",
    "# Perform the contrastive attribution:\n",
    "# Regular (forced) target -> \"Ho salutato il manager\"\n",
    "# Contrastive target      -> \"Ho salutato la manager\"\n",
    "out = attribution_model.attribute(\n",
    "    \"I said hi to the manager\",\n",
    "    \"Ho salutato il manager\",\n",
    "    attributed_fn=\"contrast_prob_diff\",\n",
    "    # Special argument to specify the contrastive target, used by the contrast_prob_diff function\n",
    "    contrast_targets=\"Ho salutato la manager\",\n",
    "    attribute_target=True,\n",
    "    # We also visualize the score used as target using the same function as step score\n",
    "    step_scores=[\"contrast_prob_diff\"]\n",
    ")\n",
    "\n",
    "# Weight attribution scores by the difference in probabilities\n",
    "out.weight_attributions(\"contrast_prob_diff\")\n",
    "out.show()"
   ]
  },
  {
   "attachments": {},
   "cell_type": "markdown",
   "metadata": {},
   "source": [
    "This new example paints an even clearer picture in which the model is clearly biased in producing masculine when presented with gender-stereotypical professions.\n",
    "\n",
    "⚠️ **Attention:** Since `contrast_prob_diff` considers the difference in probabilities between 2 options (i.e. token A rather than token B), not all comparisons are meaningful. For example, `helpless` could be tokenized as `_hel` and `pless`, while helpful as `_hel`, `pf` and `ul`. Using contrastive attribution in this scenarios is not impossible, but remains an open research question.\n",
    "\n",
    "### Contrastive attribution with different context\n",
    "\n",
    "While `contrast_targets` allows us to compute the *difference between two predictions given same context*, it can also be used alongsides `contrast_sources` to compute the *difference for the same prediction given different contexts*. This is useful to analyze how the model behavior changes when presented with different inputs, and can be used to analyze the effect of different prefixes on the generation of the same target sequence.\n",
    "\n",
    "In this example, we'll use a multilingual MT model to showcase the difference in probabilities given additional context:"
   ]
  },
  {
   "cell_type": "code",
   "execution_count": 1,
   "metadata": {},
   "outputs": [
    {
     "name": "stderr",
     "output_type": "stream",
     "text": [
      "/home/gsarti/.cache/pypoetry/virtualenvs/inseq-PzwjmCYf-py3.9/lib/python3.9/site-packages/transformers/generation/utils.py:1270: UserWarning: You have modified the pretrained model configuration to control generation. This is a deprecated strategy to control generation and will be removed soon, in a future version. Please use a generation configuration file (see https://huggingface.co/docs/transformers/main_classes/text_generation )\n",
      "  warnings.warn(\n",
      "/home/gsarti/.cache/pypoetry/virtualenvs/inseq-PzwjmCYf-py3.9/lib/python3.9/site-packages/transformers/generation/utils.py:1369: UserWarning: Using `max_length`'s default (200) to control the generation length. This behaviour is deprecated and will be removed from the config in v5 of Transformers -- we recommend using `max_new_tokens` to control the maximum length of the generation.\n",
      "  warnings.warn(\n"
     ]
    },
    {
     "name": "stdout",
     "output_type": "stream",
     "text": [
      "Generation without context: ['Sapete già quando tornerete?']\n"
     ]
    },
    {
     "name": "stderr",
     "output_type": "stream",
     "text": [
      "Provided alignments do not cover all 8 tokens from the original sequence.\n",
      "Filling missing position with right-aligned 1:1 position alignments.\n"
     ]
    },
    {
     "name": "stdout",
     "output_type": "stream",
     "text": [
      "Generation with context: [\"Grazie per l'aiuto, amico, mi hai davvero salvato la vita. Sapete già quando tornerete?\"]\n"
     ]
    },
    {
     "name": "stderr",
     "output_type": "stream",
     "text": [
      "Attributing with dummy...: 100%|██████████| 9/9 [00:00<00:00, 15.59it/s]\n"
     ]
    },
    {
     "data": {
      "text/html": [
       "<br/><b>0th instance:</b><br/>\n",
       "<html>\n",
       "<div id=\"jprrjeoajqpnsrahjfkf_viz_container\">\n",
       "    <div id=\"jprrjeoajqpnsrahjfkf_content\" style=\"padding:15px;border-style:solid;margin:5px;\">\n",
       "        <div id = \"jprrjeoajqpnsrahjfkf_saliency_plot_container\" class=\"jprrjeoajqpnsrahjfkf_viz_container\" style=\"display:block\">\n",
       "            \n",
       "<div id=\"evpxmqhjjhszbiryjbnq_saliency_plot\" class=\"evpxmqhjjhszbiryjbnq_viz_content\">\n",
       "    <div style=\"margin:5px;font-family:sans-serif;font-weight:bold;\">\n",
       "        <span style=\"font-size: 20px;\">Target Saliency Heatmap</span>\n",
       "        <br>\n",
       "        x: Generated tokens, y: Attributed tokens\n",
       "    </div>\n",
       "    \n",
       "<table border=\"1\" cellpadding=\"5\" cellspacing=\"5\"\n",
       "    style=\"overflow-x:scroll;display:block;\">\n",
       "    <tr><th></th>\n",
       "<th>. → it_IT</th><th>▁Sai</th><th>▁già</th><th>▁quando</th><th>▁torne</th><th>rai</th><th>?</th><th>&lt;/s&gt;</th></tr><tr style=\"outline: thin solid\"><th><b>pcxmi</b></th><th><b>10.656</b></th><th><b>2.602</b></th><th>-0.259</th><th>-0.008</th><th>-0.046</th><th>0.036</th><th>0.072</th><th>-0.013</th><tr style=\"outline: thin solid\"><th><b>probability</b></th><th>0.0</th><th>0.02</th><th><b>0.834</b></th><th><b>0.927</b></th><th>0.475</th><th><b>0.93</b></th><th><b>0.645</b></th><th><b>0.897</b></th></table>\n",
       "</div>\n",
       "\n",
       "        </div>\n",
       "    </div>\n",
       "</div>\n",
       "</html>\n"
      ],
      "text/plain": [
       "<IPython.core.display.HTML object>"
      ]
     },
     "metadata": {},
     "output_type": "display_data"
    }
   ],
   "source": [
    "import inseq\n",
    "\n",
    "# Use \"dummy\" to extract only step scores without attributions\n",
    "model = inseq.load_model(\n",
    "    \"facebook/mbart-large-50-one-to-many-mmt\",\n",
    "    \"dummy\",\n",
    "    # These arguments are used by Huggingface to specify the source and target languages used by the model\n",
    "    tokenizer_kwargs={\"src_lang\": \"en_XX\", \"tgt_lang\": \"it_IT\"},\n",
    ")\n",
    "\n",
    "source_without_context = \"Do you already know when you'll be back?\"\n",
    "source_with_context = \"Thank you for your help, my friend, you really saved my life. Do you already know when you'll be back?\"\n",
    "\n",
    "print(\"Generation without context:\", model.generate(source_without_context, forced_bos_token_id=model.tokenizer.lang_code_to_id[\"it_IT\"]))\n",
    "print(\"Generation with context:\", model.generate(source_with_context, forced_bos_token_id=model.tokenizer.lang_code_to_id[\"it_IT\"]))\n",
    "\n",
    "out = model.attribute(\n",
    "    source_without_context,\n",
    "    \"Sai già quando tornerai?\",\n",
    "    contrast_sources=source_with_context,\n",
    "    contrast_targets=\"Grazie per il tuo aiuto, mi hai davvero salvato la vita. Sai già quando tornerai?\",\n",
    "    attribute_target=True,\n",
    "    # We also visualize the score used as target using the same function as step score\n",
    "    step_scores=[\"pcxmi\", \"probability\"]\n",
    ")\n",
    "\n",
    "out.show()"
   ]
  },
  {
   "attachments": {},
   "cell_type": "markdown",
   "metadata": {},
   "source": [
    "By default tokens in the contrastive target are right-aligned to match the end of the original one. In this case, the very high value of P-CXMI step score for the language token `it_IT` is not very meaningful, as it would not be produced naturally by the model. However, `Sai` also has a high score here, pointing to the fact that given the full context, the model is more than twice as likely to predict `Sai` rather than other options. This is reasonable, as the context provides the model with lexical cues like `tuo`, `hai` pointing to an informal register (i.e. `Sai` vs. the original formal `Sa`). Note that the informal `tornerai` is not picked up by P-CXMI as `Sai` is an intra-sentence cue that is present both in the contextless and the contextual cases.\n",
    "\n",
    "### Providing custom alignments for contrastive targets\n",
    "\n",
    "When providing `contrast_targets` to the `attribute` function, the original target tokens are normally matched with contrast tokens at the same position. While this could not pose a problem for minimal pair with slight changes, it can lead to unusable alignments for more extensive updates, limiting the applicability of such methods for real-world contrastive pairs in which differences are not necessarily minimal."
   ]
  },
  {
   "cell_type": "code",
   "execution_count": 2,
   "metadata": {},
   "outputs": [
    {
     "name": "stderr",
     "output_type": "stream",
     "text": [
      "/home/gsarti/.cache/pypoetry/virtualenvs/inseq-PzwjmCYf-py3.9/lib/python3.9/site-packages/transformers/models/marian/tokenization_marian.py:194: UserWarning: Recommended: pip install sacremoses.\n",
      "  warnings.warn(\"Recommended: pip install sacremoses.\")\n",
      "Attributing with saliency...: 100%|██████████| 8/8 [00:01<00:00,  5.91it/s]\n"
     ]
    },
    {
     "data": {
      "text/html": [
       "<br/><b>0th instance:</b><br/>\n",
       "<html>\n",
       "<div id=\"esejzqorvufaigfywirk_viz_container\">\n",
       "    <div id=\"esejzqorvufaigfywirk_content\" style=\"padding:15px;border-style:solid;margin:5px;\">\n",
       "        <div id = \"esejzqorvufaigfywirk_saliency_plot_container\" class=\"esejzqorvufaigfywirk_viz_container\" style=\"display:block\">\n",
       "            \n",
       "<div id=\"vqwpsbfhcgchqjjfgyqp_saliency_plot\" class=\"vqwpsbfhcgchqjjfgyqp_viz_content\">\n",
       "    <div style=\"margin:5px;font-family:sans-serif;font-weight:bold;\">\n",
       "        <span style=\"font-size: 20px;\">Source Saliency Heatmap</span>\n",
       "        <br>\n",
       "        x: Generated tokens, y: Attributed tokens\n",
       "    </div>\n",
       "    \n",
       "<table border=\"1\" cellpadding=\"5\" cellspacing=\"5\"\n",
       "    style=\"overflow-x:scroll;display:block;\">\n",
       "    <tr><th></th>\n",
       "<th>▁Le → ▁Les</th><th>▁forces → ▁soldats</th><th>▁militaires → ▁de</th><th>▁de → ▁la</th><th>▁paix</th><th>▁des → ▁ONU</th><th>▁Nations → &lt;/s&gt;</th></tr><tr><th>▁UN</th><th style=\"background:rgba(255.0, 13.0, 87.0, 0.14078035254505847)\">0.09</th><th style=\"background:rgba(255.0, 13.0, 87.0, 0.08560110913052081)\">0.057</th><th style=\"background:rgba(255.0, 13.0, 87.0, 0.10924935630817992)\">0.07</th><th style=\"background:rgba(255.0, 13.0, 87.0, 0.12501485442661908)\">0.081</th><th style=\"background:rgba(255.0, 13.0, 87.0, 0.1171321053673995)\">0.075</th><th style=\"background:rgba(255.0, 13.0, 87.0, 0.4009110714993067)\">0.253</th><th style=\"background:rgba(255.0, 13.0, 87.0, 0.3772628243216479)\">0.241</th></tr><tr><th>▁peacekeepers</th><th style=\"background:rgba(255.0, 13.0, 87.0, 0.8975242622301447)\">0.568</th><th style=\"background:rgba(255.0, 13.0, 87.0, 1.0)\">0.632</th><th style=\"background:rgba(255.0, 13.0, 87.0, 1.0)\">0.629</th><th style=\"background:rgba(255.0, 13.0, 87.0, 0.976351752822341)\">0.615</th><th style=\"background:rgba(255.0, 13.0, 87.0, 0.9842345018815607)\">0.618</th><th style=\"background:rgba(255.0, 13.0, 87.0, 0.7635175282234107)\">0.484</th><th style=\"background:rgba(255.0, 13.0, 87.0, 0.7477520301049713)\">0.47</th></tr><tr><th>&lt;/s&gt;</th><th style=\"background:rgba(255.0, 13.0, 87.0, 0.5428005545652606)\">0.342</th><th style=\"background:rgba(255.0, 13.0, 87.0, 0.48762131115072294)\">0.311</th><th style=\"background:rgba(255.0, 13.0, 87.0, 0.4718558130322837)\">0.301</th><th style=\"background:rgba(255.0, 13.0, 87.0, 0.4797385620915033)\">0.304</th><th style=\"background:rgba(255.0, 13.0, 87.0, 0.48762131115072294)\">0.307</th><th style=\"background:rgba(255.0, 13.0, 87.0, 0.41667656961774624)\">0.263</th><th style=\"background:rgba(255.0, 13.0, 87.0, 0.4560903149138443)\">0.289</th></tr><tr style=\"outline: thin solid\"><th><b>contrast_prob_diff</b></th><th>0.031</th><th>0.138</th><th><b>0.886</b></th><th>0.156</th><th><b>0.954</b></th><th>-0.434</th><th>-0.039</th></table>\n",
       "</div>\n",
       "\n",
       "        </div>\n",
       "    </div>\n",
       "</div>\n",
       "</html>\n"
      ],
      "text/plain": [
       "<IPython.core.display.HTML object>"
      ]
     },
     "metadata": {},
     "output_type": "display_data"
    }
   ],
   "source": [
    "import inseq\n",
    "\n",
    "model = inseq.load_model(\"Helsinki-NLP/opus-mt-en-fr\", \"saliency\")\n",
    "\n",
    "source = \"UN peacekeepers\"\n",
    "mt_target = \"Les soldats de la paix ONU\"\n",
    "pe_target = \"Le forces militaires de paix des Nations Unies\"\n",
    "\n",
    "out = model.attribute(\n",
    "    source,\n",
    "    mt_target,\n",
    "    attributed_fn=\"contrast_prob_diff\",\n",
    "    step_scores=[\"contrast_prob_diff\"],\n",
    "    contrast_targets=pe_target,\n",
    ")\n",
    "\n",
    "# Unreasonable alignments\n",
    "out.show()"
   ]
  },
  {
   "attachments": {},
   "cell_type": "markdown",
   "metadata": {},
   "source": [
    "A custom sequence of aligned index pairs between the original and contrastive targets can be passed to the `contrast_targets_alignments` parameter to manage these situations (refer to PR [#195](https://github.com/inseq-team/inseq/pull/195) for caveats):"
   ]
  },
  {
   "cell_type": "code",
   "execution_count": 13,
   "metadata": {},
   "outputs": [
    {
     "name": "stdout",
     "output_type": "stream",
     "text": [
      "[(0, '<pad>'), (1, '▁Les'), (2, '▁soldats'), (3, '▁de'), (4, '▁la'), (5, '▁paix'), (6, '▁ONU'), (7, '</s>')]\n",
      "[(0, '<pad>'), (1, '▁Le'), (2, '▁forces'), (3, '▁militaires'), (4, '▁de'), (5, '▁paix'), (6, '▁des'), (7, '▁Nations'), (8, '▁Unies'), (9, '</s>')]\n"
     ]
    }
   ],
   "source": [
    "# Print tokens to get token indices\n",
    "print([(i, x) for i, x in enumerate(model.encode(mt_target, as_targets=True).input_tokens[0])])\n",
    "print([(i, x) for i, x in enumerate(model.encode(pe_target, as_targets=True).input_tokens[0])])"
   ]
  },
  {
   "cell_type": "code",
   "execution_count": 3,
   "metadata": {},
   "outputs": [
    {
     "name": "stderr",
     "output_type": "stream",
     "text": [
      "Attributing with saliency...: 100%|██████████| 8/8 [00:00<00:00, 14.78it/s]\n"
     ]
    },
    {
     "data": {
      "text/html": [
       "<br/><b>0th instance:</b><br/>\n",
       "<html>\n",
       "<div id=\"esejzqorvufaigfywirk_viz_container\">\n",
       "    <div id=\"esejzqorvufaigfywirk_content\" style=\"padding:15px;border-style:solid;margin:5px;\">\n",
       "        <div id = \"esejzqorvufaigfywirk_saliency_plot_container\" class=\"esejzqorvufaigfywirk_viz_container\" style=\"display:block\">\n",
       "            \n",
       "<div id=\"vqwpsbfhcgchqjjfgyqp_saliency_plot\" class=\"vqwpsbfhcgchqjjfgyqp_viz_content\">\n",
       "    <div style=\"margin:5px;font-family:sans-serif;font-weight:bold;\">\n",
       "        <span style=\"font-size: 20px;\">Source Saliency Heatmap</span>\n",
       "        <br>\n",
       "        x: Generated tokens, y: Attributed tokens\n",
       "    </div>\n",
       "    \n",
       "<table border=\"1\" cellpadding=\"5\" cellspacing=\"5\"\n",
       "    style=\"overflow-x:scroll;display:block;\">\n",
       "    <tr><th></th>\n",
       "<th>▁Le → ▁Les</th><th>▁forces → ▁soldats</th><th>▁de</th><th>▁de → ▁la</th><th>▁paix</th><th>▁Nations → ▁ONU</th><th>&lt;/s&gt;</th></tr><tr><th>▁UN</th><th style=\"background:rgba(255.0, 13.0, 87.0, 0.14078035254505847)\">0.09</th><th style=\"background:rgba(255.0, 13.0, 87.0, 0.08560110913052081)\">0.057</th><th style=\"background:rgba(255.0, 13.0, 87.0, 0.12501485442661908)\">0.082</th><th style=\"background:rgba(255.0, 13.0, 87.0, 0.12501485442661908)\">0.081</th><th style=\"background:rgba(255.0, 13.0, 87.0, 0.1171321053673995)\">0.075</th><th style=\"background:rgba(255.0, 13.0, 87.0, 0.4087938205585263)\">0.257</th><th style=\"background:rgba(255.0, 13.0, 87.0, 0.14078035254505847)\">0.092</th></tr><tr><th>▁peacekeepers</th><th style=\"background:rgba(255.0, 13.0, 87.0, 0.8975242622301447)\">0.568</th><th style=\"background:rgba(255.0, 13.0, 87.0, 1.0)\">0.632</th><th style=\"background:rgba(255.0, 13.0, 87.0, 0.976351752822341)\">0.616</th><th style=\"background:rgba(255.0, 13.0, 87.0, 0.976351752822341)\">0.615</th><th style=\"background:rgba(255.0, 13.0, 87.0, 0.9842345018815607)\">0.618</th><th style=\"background:rgba(255.0, 13.0, 87.0, 0.7162210338680925)\">0.454</th><th style=\"background:rgba(255.0, 13.0, 87.0, 0.9369380075262429)\">0.589</th></tr><tr><th>&lt;/s&gt;</th><th style=\"background:rgba(255.0, 13.0, 87.0, 0.5428005545652606)\">0.342</th><th style=\"background:rgba(255.0, 13.0, 87.0, 0.48762131115072294)\">0.311</th><th style=\"background:rgba(255.0, 13.0, 87.0, 0.4797385620915033)\">0.302</th><th style=\"background:rgba(255.0, 13.0, 87.0, 0.4797385620915033)\">0.304</th><th style=\"background:rgba(255.0, 13.0, 87.0, 0.48762131115072294)\">0.307</th><th style=\"background:rgba(255.0, 13.0, 87.0, 0.4560903149138443)\">0.289</th><th style=\"background:rgba(255.0, 13.0, 87.0, 0.5033868092691621)\">0.319</th></tr><tr style=\"outline: thin solid\"><th><b>contrast_prob_diff</b></th><th>0.031</th><th>0.138</th><th>0.142</th><th>0.156</th><th><b>0.954</b></th><th><b>-0.92</b></th><th>0.015</th></table>\n",
       "</div>\n",
       "\n",
       "        </div>\n",
       "    </div>\n",
       "</div>\n",
       "</html>\n"
      ],
      "text/plain": [
       "<IPython.core.display.HTML object>"
      ]
     },
     "metadata": {},
     "output_type": "display_data"
    }
   ],
   "source": [
    "out = model.attribute(\n",
    "    source,\n",
    "    mt_target,\n",
    "    attributed_fn=\"contrast_prob_diff\",\n",
    "    step_scores=[\"contrast_prob_diff\"],\n",
    "    contrast_targets=pe_target,\n",
    "    contrast_targets_alignments=[(0,0), (1,1), (2,2), (3,4), (4,4), (5,5), (6,7), (7,9)],\n",
    ")\n",
    "\n",
    "# Reasonable alignments\n",
    "out.show()"
   ]
  },
  {
   "attachments": {},
   "cell_type": "markdown",
   "metadata": {},
   "source": [
    "Since providing manual alignment would require a lot of manual work, `inseq` also provides an `contrast_targets_alignments=\"auto\"` option to perform automatic alignment. In that case, the words between the original and contrastive target sequences are aligned automatically using cosine similarity of the embeddings formed by a massively multilingual encoder model covering 109 languages (sentence-transformers/LaBSE)."
   ]
  },
  {
   "cell_type": "code",
   "execution_count": 4,
   "metadata": {},
   "outputs": [
    {
     "name": "stderr",
     "output_type": "stream",
     "text": [
      "You're using a BertTokenizerFast tokenizer. Please note that with a fast tokenizer, using the `__call__` method is faster than using a method to encode the text followed by a call to the `pad` method to get a padded encoding.\n",
      "Provided alignments do not cover all 8 tokens from the original sequence.\n",
      "Filling missing position with 1:1 position alignments.\n",
      "Using sentence-transformers/LaBSE for automatic alignments. Provide custom alignments for non-linguistic sequences, or for languages not covered by the aligner.\n",
      "Generated alignments: [(0, 0), (1, 1), (2, 2), (3, 4), (4, 4), (5, 5), (6, 7), (7, 9)]\n",
      "Attributing with saliency...: 100%|██████████| 8/8 [00:00<00:00, 11.73it/s]\n"
     ]
    },
    {
     "data": {
      "text/html": [
       "<br/><b>0th instance:</b><br/>\n",
       "<html>\n",
       "<div id=\"esejzqorvufaigfywirk_viz_container\">\n",
       "    <div id=\"esejzqorvufaigfywirk_content\" style=\"padding:15px;border-style:solid;margin:5px;\">\n",
       "        <div id = \"esejzqorvufaigfywirk_saliency_plot_container\" class=\"esejzqorvufaigfywirk_viz_container\" style=\"display:block\">\n",
       "            \n",
       "<div id=\"vqwpsbfhcgchqjjfgyqp_saliency_plot\" class=\"vqwpsbfhcgchqjjfgyqp_viz_content\">\n",
       "    <div style=\"margin:5px;font-family:sans-serif;font-weight:bold;\">\n",
       "        <span style=\"font-size: 20px;\">Source Saliency Heatmap</span>\n",
       "        <br>\n",
       "        x: Generated tokens, y: Attributed tokens\n",
       "    </div>\n",
       "    \n",
       "<table border=\"1\" cellpadding=\"5\" cellspacing=\"5\"\n",
       "    style=\"overflow-x:scroll;display:block;\">\n",
       "    <tr><th></th>\n",
       "<th>▁Le → ▁Les</th><th>▁forces → ▁soldats</th><th>▁de</th><th>▁de → ▁la</th><th>▁paix</th><th>▁Nations → ▁ONU</th><th>&lt;/s&gt;</th></tr><tr><th>▁UN</th><th style=\"background:rgba(255.0, 13.0, 87.0, 0.14078035254505847)\">0.09</th><th style=\"background:rgba(255.0, 13.0, 87.0, 0.08560110913052081)\">0.057</th><th style=\"background:rgba(255.0, 13.0, 87.0, 0.12501485442661908)\">0.082</th><th style=\"background:rgba(255.0, 13.0, 87.0, 0.12501485442661908)\">0.081</th><th style=\"background:rgba(255.0, 13.0, 87.0, 0.1171321053673995)\">0.075</th><th style=\"background:rgba(255.0, 13.0, 87.0, 0.4087938205585263)\">0.257</th><th style=\"background:rgba(255.0, 13.0, 87.0, 0.14078035254505847)\">0.092</th></tr><tr><th>▁peacekeepers</th><th style=\"background:rgba(255.0, 13.0, 87.0, 0.8975242622301447)\">0.568</th><th style=\"background:rgba(255.0, 13.0, 87.0, 1.0)\">0.632</th><th style=\"background:rgba(255.0, 13.0, 87.0, 0.976351752822341)\">0.616</th><th style=\"background:rgba(255.0, 13.0, 87.0, 0.976351752822341)\">0.615</th><th style=\"background:rgba(255.0, 13.0, 87.0, 0.9842345018815607)\">0.618</th><th style=\"background:rgba(255.0, 13.0, 87.0, 0.7162210338680925)\">0.454</th><th style=\"background:rgba(255.0, 13.0, 87.0, 0.9369380075262429)\">0.589</th></tr><tr><th>&lt;/s&gt;</th><th style=\"background:rgba(255.0, 13.0, 87.0, 0.5428005545652606)\">0.342</th><th style=\"background:rgba(255.0, 13.0, 87.0, 0.48762131115072294)\">0.311</th><th style=\"background:rgba(255.0, 13.0, 87.0, 0.4797385620915033)\">0.302</th><th style=\"background:rgba(255.0, 13.0, 87.0, 0.4797385620915033)\">0.304</th><th style=\"background:rgba(255.0, 13.0, 87.0, 0.48762131115072294)\">0.307</th><th style=\"background:rgba(255.0, 13.0, 87.0, 0.4560903149138443)\">0.289</th><th style=\"background:rgba(255.0, 13.0, 87.0, 0.5033868092691621)\">0.319</th></tr><tr style=\"outline: thin solid\"><th><b>contrast_prob_diff</b></th><th>0.031</th><th>0.138</th><th>0.142</th><th>0.156</th><th><b>0.954</b></th><th><b>-0.92</b></th><th>0.015</th></table>\n",
       "</div>\n",
       "\n",
       "        </div>\n",
       "    </div>\n",
       "</div>\n",
       "</html>\n"
      ],
      "text/plain": [
       "<IPython.core.display.HTML object>"
      ]
     },
     "metadata": {},
     "output_type": "display_data"
    }
   ],
   "source": [
    "out = model.attribute(\n",
    "    source,\n",
    "    mt_target,\n",
    "    attributed_fn=\"contrast_prob_diff\",\n",
    "    step_scores=[\"contrast_prob_diff\"],\n",
    "    contrast_targets=pe_target,\n",
    "    contrast_targets_alignments=\"auto\",\n",
    ")\n",
    "\n",
    "# Reasonable alignments produced automatically\n",
    "out.show()"
   ]
  },
  {
   "attachments": {},
   "cell_type": "markdown",
   "metadata": {},
   "source": [
    "\n",
    "## Localizing Factual Knowledge in GPT-2 with Contrastive Attribution Tracing\n",
    "\n",
    "In this final section, you'll see how to use contrastive attribution to localize factual knowledge in GPT-2, using the **Contrastive Attribution Tracing** method  we introduced in [(Sarti et al., 2023)](https://arxiv.org/abs/2302.13942). \n",
    "\n",
    "The method works by propagating importance scores (e.g. gradients) computed with contrastive attribution to intermediate representations of the model. This is different from regular contrastive attribution, which propagates importance all the way to input token embeddings as a proxy for token importance, and can be interpreted as a **\"How important is the representation of token T formed by the model at layer L in driving the prediction of prediction P?\"**.\n",
    "\n",
    "<img alt=\"Contrastive attribution tracing applied to a decoder-only LM\" src=\"../docs/source/images/cat.png\" height=400/>\n"
   ]
  },
  {
   "attachments": {},
   "cell_type": "markdown",
   "metadata": {},
   "source": [
    "In the next code block, we reproduce the procedure adopted for the case study introducing Contrastive Attribution Tracing using Inseq and `bitsandbytes` to use the GPT-2 XL model more efficiently (tested on a 6GB GPU):"
   ]
  },
  {
   "cell_type": "code",
   "execution_count": null,
   "metadata": {},
   "outputs": [],
   "source": [
    "import inseq\n",
    "from transformers import AutoModelForCausalLM, AutoTokenizer\n",
    "\n",
    "# The model is loaded in 8-bit on available GPUs using the bitsandbytes library integrated in HF Transformers\n",
    "# This will make the model much smaller for inference purposes, but attributions are not guaranteed to match those\n",
    "# of the full-precision model.\n",
    "model = AutoModelForCausalLM.from_pretrained(\"gpt2-xl\", load_in_8bit=True, device_map=\"auto\")\n",
    "tokenizer = AutoTokenizer.from_pretrained(\"gpt2-xl\")\n",
    "\n",
    "# Important: adding a space after the prompt would cause problems since the final space would be tokenized separately\n",
    "prompt = \"The Eiffel Tower is located in the city of\"\n",
    "true_answer = \"The Eiffel Tower is located in the city of Paris\"\n",
    "false_answer = \"The Eiffel Tower is located in the city of Rome\"\n",
    "\n",
    "# GPT-2 XL is a Transformer model with 48 layers\n",
    "for layer in range(48):\n",
    "    attrib_model = inseq.load_model(\n",
    "        model,\n",
    "        \"layer_gradient_x_activation\",\n",
    "        tokenizer=\"gpt2-xl\",\n",
    "        target_layer=model.transformer.h[layer].mlp,\n",
    "    )\n",
    "    # Contrastive attribution of true vs false answer\n",
    "    out = attrib_model.attribute(\n",
    "        prompt,\n",
    "        true_answer,\n",
    "        attributed_fn=\"contrast_prob_diff\",\n",
    "        contrast_targets=false_answer,\n",
    "        step_scores=[\"contrast_prob_diff\"],\n",
    "        show_progress=False,\n",
    "    )\n",
    "    # Save aggregated attributions to disk\n",
    "    out = out.aggregate()\n",
    "    out.save(f\"../data/cat_outputs/layer_{layer}.json\", overwrite=True)"
   ]
  },
  {
   "attachments": {},
   "cell_type": "markdown",
   "metadata": {},
   "source": [
    "Now that we saved attrbutions at every layer of the model, we load them and use the `get_scores_dicts` utility function to extract dictionaries of scores for every layer.\n",
    "We convert those into a single Pandas dataframe for convenience of analysis:"
   ]
  },
  {
   "cell_type": "code",
   "execution_count": 22,
   "metadata": {},
   "outputs": [
    {
     "data": {
      "text/html": [
       "<div>\n",
       "<style scoped>\n",
       "    .dataframe tbody tr th:only-of-type {\n",
       "        vertical-align: middle;\n",
       "    }\n",
       "\n",
       "    .dataframe tbody tr th {\n",
       "        vertical-align: top;\n",
       "    }\n",
       "\n",
       "    .dataframe thead th {\n",
       "        text-align: right;\n",
       "    }\n",
       "</style>\n",
       "<table border=\"1\" class=\"dataframe\">\n",
       "  <thead>\n",
       "    <tr style=\"text-align: right;\">\n",
       "      <th></th>\n",
       "      <th>0</th>\n",
       "      <th>1</th>\n",
       "      <th>2</th>\n",
       "      <th>3</th>\n",
       "      <th>4</th>\n",
       "      <th>5</th>\n",
       "      <th>6</th>\n",
       "      <th>7</th>\n",
       "      <th>8</th>\n",
       "      <th>9</th>\n",
       "      <th>...</th>\n",
       "      <th>38</th>\n",
       "      <th>39</th>\n",
       "      <th>40</th>\n",
       "      <th>41</th>\n",
       "      <th>42</th>\n",
       "      <th>43</th>\n",
       "      <th>44</th>\n",
       "      <th>45</th>\n",
       "      <th>46</th>\n",
       "      <th>47</th>\n",
       "    </tr>\n",
       "  </thead>\n",
       "  <tbody>\n",
       "    <tr>\n",
       "      <th>The</th>\n",
       "      <td>0.114970</td>\n",
       "      <td>0.112049</td>\n",
       "      <td>0.097279</td>\n",
       "      <td>0.098705</td>\n",
       "      <td>0.103262</td>\n",
       "      <td>0.081201</td>\n",
       "      <td>0.064696</td>\n",
       "      <td>0.039593</td>\n",
       "      <td>0.023691</td>\n",
       "      <td>0.014623</td>\n",
       "      <td>...</td>\n",
       "      <td>0.001963</td>\n",
       "      <td>0.002564</td>\n",
       "      <td>0.004040</td>\n",
       "      <td>0.003287</td>\n",
       "      <td>0.003187</td>\n",
       "      <td>0.003994</td>\n",
       "      <td>0.008052</td>\n",
       "      <td>0.010903</td>\n",
       "      <td>0.031432</td>\n",
       "      <td>0.0</td>\n",
       "    </tr>\n",
       "    <tr>\n",
       "      <th>ĠE</th>\n",
       "      <td>0.084764</td>\n",
       "      <td>0.070963</td>\n",
       "      <td>0.071029</td>\n",
       "      <td>0.065764</td>\n",
       "      <td>0.057698</td>\n",
       "      <td>0.059411</td>\n",
       "      <td>0.056259</td>\n",
       "      <td>0.043724</td>\n",
       "      <td>0.048695</td>\n",
       "      <td>0.045607</td>\n",
       "      <td>...</td>\n",
       "      <td>0.024910</td>\n",
       "      <td>0.025512</td>\n",
       "      <td>0.022277</td>\n",
       "      <td>0.022929</td>\n",
       "      <td>0.030234</td>\n",
       "      <td>0.029892</td>\n",
       "      <td>0.008052</td>\n",
       "      <td>0.011526</td>\n",
       "      <td>0.008484</td>\n",
       "      <td>0.0</td>\n",
       "    </tr>\n",
       "    <tr>\n",
       "      <th>iff</th>\n",
       "      <td>0.160311</td>\n",
       "      <td>0.178163</td>\n",
       "      <td>0.205860</td>\n",
       "      <td>0.196370</td>\n",
       "      <td>0.189534</td>\n",
       "      <td>0.187073</td>\n",
       "      <td>0.193052</td>\n",
       "      <td>0.158926</td>\n",
       "      <td>0.142962</td>\n",
       "      <td>0.155769</td>\n",
       "      <td>...</td>\n",
       "      <td>0.042697</td>\n",
       "      <td>0.035851</td>\n",
       "      <td>0.034897</td>\n",
       "      <td>0.044016</td>\n",
       "      <td>0.045351</td>\n",
       "      <td>0.047375</td>\n",
       "      <td>0.051627</td>\n",
       "      <td>0.040190</td>\n",
       "      <td>0.025707</td>\n",
       "      <td>0.0</td>\n",
       "    </tr>\n",
       "    <tr>\n",
       "      <th>el</th>\n",
       "      <td>0.146465</td>\n",
       "      <td>0.133030</td>\n",
       "      <td>0.134302</td>\n",
       "      <td>0.136165</td>\n",
       "      <td>0.153691</td>\n",
       "      <td>0.150928</td>\n",
       "      <td>0.186720</td>\n",
       "      <td>0.178493</td>\n",
       "      <td>0.228001</td>\n",
       "      <td>0.243314</td>\n",
       "      <td>...</td>\n",
       "      <td>0.093743</td>\n",
       "      <td>0.071472</td>\n",
       "      <td>0.071115</td>\n",
       "      <td>0.051587</td>\n",
       "      <td>0.014777</td>\n",
       "      <td>0.017563</td>\n",
       "      <td>0.000000</td>\n",
       "      <td>0.000000</td>\n",
       "      <td>0.000000</td>\n",
       "      <td>0.0</td>\n",
       "    </tr>\n",
       "    <tr>\n",
       "      <th>ĠTower</th>\n",
       "      <td>0.140587</td>\n",
       "      <td>0.137475</td>\n",
       "      <td>0.147058</td>\n",
       "      <td>0.141195</td>\n",
       "      <td>0.149450</td>\n",
       "      <td>0.162261</td>\n",
       "      <td>0.129486</td>\n",
       "      <td>0.137138</td>\n",
       "      <td>0.119140</td>\n",
       "      <td>0.121860</td>\n",
       "      <td>...</td>\n",
       "      <td>0.034061</td>\n",
       "      <td>0.033870</td>\n",
       "      <td>0.029359</td>\n",
       "      <td>0.035042</td>\n",
       "      <td>0.022648</td>\n",
       "      <td>0.005157</td>\n",
       "      <td>0.000000</td>\n",
       "      <td>0.000000</td>\n",
       "      <td>0.000000</td>\n",
       "      <td>0.0</td>\n",
       "    </tr>\n",
       "    <tr>\n",
       "      <th>Ġis</th>\n",
       "      <td>0.034933</td>\n",
       "      <td>0.036481</td>\n",
       "      <td>0.031905</td>\n",
       "      <td>0.028272</td>\n",
       "      <td>0.032980</td>\n",
       "      <td>0.034967</td>\n",
       "      <td>0.032864</td>\n",
       "      <td>0.038585</td>\n",
       "      <td>0.031686</td>\n",
       "      <td>0.028574</td>\n",
       "      <td>...</td>\n",
       "      <td>0.004390</td>\n",
       "      <td>0.006013</td>\n",
       "      <td>0.005111</td>\n",
       "      <td>0.003795</td>\n",
       "      <td>0.000000</td>\n",
       "      <td>0.000000</td>\n",
       "      <td>0.000000</td>\n",
       "      <td>0.000000</td>\n",
       "      <td>0.000000</td>\n",
       "      <td>0.0</td>\n",
       "    </tr>\n",
       "    <tr>\n",
       "      <th>Ġlocated</th>\n",
       "      <td>0.097311</td>\n",
       "      <td>0.099146</td>\n",
       "      <td>0.101657</td>\n",
       "      <td>0.102971</td>\n",
       "      <td>0.097399</td>\n",
       "      <td>0.080722</td>\n",
       "      <td>0.090208</td>\n",
       "      <td>0.093288</td>\n",
       "      <td>0.089623</td>\n",
       "      <td>0.081699</td>\n",
       "      <td>...</td>\n",
       "      <td>0.004809</td>\n",
       "      <td>0.005128</td>\n",
       "      <td>0.005993</td>\n",
       "      <td>0.008487</td>\n",
       "      <td>0.002254</td>\n",
       "      <td>0.002306</td>\n",
       "      <td>0.000000</td>\n",
       "      <td>0.000000</td>\n",
       "      <td>0.000000</td>\n",
       "      <td>0.0</td>\n",
       "    </tr>\n",
       "    <tr>\n",
       "      <th>Ġin</th>\n",
       "      <td>0.056276</td>\n",
       "      <td>0.067980</td>\n",
       "      <td>0.055451</td>\n",
       "      <td>0.053152</td>\n",
       "      <td>0.056496</td>\n",
       "      <td>0.063859</td>\n",
       "      <td>0.067301</td>\n",
       "      <td>0.090764</td>\n",
       "      <td>0.099042</td>\n",
       "      <td>0.105749</td>\n",
       "      <td>...</td>\n",
       "      <td>0.166978</td>\n",
       "      <td>0.179903</td>\n",
       "      <td>0.187151</td>\n",
       "      <td>0.174460</td>\n",
       "      <td>0.142561</td>\n",
       "      <td>0.138237</td>\n",
       "      <td>0.049052</td>\n",
       "      <td>0.027608</td>\n",
       "      <td>0.010232</td>\n",
       "      <td>0.0</td>\n",
       "    </tr>\n",
       "    <tr>\n",
       "      <th>Ġthe</th>\n",
       "      <td>0.032196</td>\n",
       "      <td>0.025242</td>\n",
       "      <td>0.030561</td>\n",
       "      <td>0.036763</td>\n",
       "      <td>0.028915</td>\n",
       "      <td>0.027731</td>\n",
       "      <td>0.029469</td>\n",
       "      <td>0.035213</td>\n",
       "      <td>0.033358</td>\n",
       "      <td>0.026387</td>\n",
       "      <td>...</td>\n",
       "      <td>0.031717</td>\n",
       "      <td>0.032127</td>\n",
       "      <td>0.032323</td>\n",
       "      <td>0.033680</td>\n",
       "      <td>0.035631</td>\n",
       "      <td>0.049355</td>\n",
       "      <td>0.051697</td>\n",
       "      <td>0.038773</td>\n",
       "      <td>0.042955</td>\n",
       "      <td>0.0</td>\n",
       "    </tr>\n",
       "    <tr>\n",
       "      <th>Ġcity</th>\n",
       "      <td>0.076785</td>\n",
       "      <td>0.083072</td>\n",
       "      <td>0.084211</td>\n",
       "      <td>0.089355</td>\n",
       "      <td>0.079066</td>\n",
       "      <td>0.083121</td>\n",
       "      <td>0.080690</td>\n",
       "      <td>0.096155</td>\n",
       "      <td>0.082809</td>\n",
       "      <td>0.066747</td>\n",
       "      <td>...</td>\n",
       "      <td>0.001963</td>\n",
       "      <td>0.000000</td>\n",
       "      <td>0.000000</td>\n",
       "      <td>0.001898</td>\n",
       "      <td>0.000000</td>\n",
       "      <td>0.000000</td>\n",
       "      <td>0.000000</td>\n",
       "      <td>0.000000</td>\n",
       "      <td>0.000000</td>\n",
       "      <td>0.0</td>\n",
       "    </tr>\n",
       "    <tr>\n",
       "      <th>Ġof</th>\n",
       "      <td>0.055402</td>\n",
       "      <td>0.056398</td>\n",
       "      <td>0.040687</td>\n",
       "      <td>0.051288</td>\n",
       "      <td>0.051508</td>\n",
       "      <td>0.068726</td>\n",
       "      <td>0.069254</td>\n",
       "      <td>0.088121</td>\n",
       "      <td>0.100993</td>\n",
       "      <td>0.109671</td>\n",
       "      <td>...</td>\n",
       "      <td>0.592769</td>\n",
       "      <td>0.607561</td>\n",
       "      <td>0.607735</td>\n",
       "      <td>0.620819</td>\n",
       "      <td>0.703357</td>\n",
       "      <td>0.706121</td>\n",
       "      <td>0.831520</td>\n",
       "      <td>0.871000</td>\n",
       "      <td>0.881191</td>\n",
       "      <td>1.0</td>\n",
       "    </tr>\n",
       "  </tbody>\n",
       "</table>\n",
       "<p>11 rows × 48 columns</p>\n",
       "</div>"
      ],
      "text/plain": [
       "                0         1         2         3         4         5    \n",
       "The       0.114970  0.112049  0.097279  0.098705  0.103262  0.081201  \\\n",
       "ĠE        0.084764  0.070963  0.071029  0.065764  0.057698  0.059411   \n",
       "iff       0.160311  0.178163  0.205860  0.196370  0.189534  0.187073   \n",
       "el        0.146465  0.133030  0.134302  0.136165  0.153691  0.150928   \n",
       "ĠTower    0.140587  0.137475  0.147058  0.141195  0.149450  0.162261   \n",
       "Ġis       0.034933  0.036481  0.031905  0.028272  0.032980  0.034967   \n",
       "Ġlocated  0.097311  0.099146  0.101657  0.102971  0.097399  0.080722   \n",
       "Ġin       0.056276  0.067980  0.055451  0.053152  0.056496  0.063859   \n",
       "Ġthe      0.032196  0.025242  0.030561  0.036763  0.028915  0.027731   \n",
       "Ġcity     0.076785  0.083072  0.084211  0.089355  0.079066  0.083121   \n",
       "Ġof       0.055402  0.056398  0.040687  0.051288  0.051508  0.068726   \n",
       "\n",
       "                6         7         8         9   ...        38        39   \n",
       "The       0.064696  0.039593  0.023691  0.014623  ...  0.001963  0.002564  \\\n",
       "ĠE        0.056259  0.043724  0.048695  0.045607  ...  0.024910  0.025512   \n",
       "iff       0.193052  0.158926  0.142962  0.155769  ...  0.042697  0.035851   \n",
       "el        0.186720  0.178493  0.228001  0.243314  ...  0.093743  0.071472   \n",
       "ĠTower    0.129486  0.137138  0.119140  0.121860  ...  0.034061  0.033870   \n",
       "Ġis       0.032864  0.038585  0.031686  0.028574  ...  0.004390  0.006013   \n",
       "Ġlocated  0.090208  0.093288  0.089623  0.081699  ...  0.004809  0.005128   \n",
       "Ġin       0.067301  0.090764  0.099042  0.105749  ...  0.166978  0.179903   \n",
       "Ġthe      0.029469  0.035213  0.033358  0.026387  ...  0.031717  0.032127   \n",
       "Ġcity     0.080690  0.096155  0.082809  0.066747  ...  0.001963  0.000000   \n",
       "Ġof       0.069254  0.088121  0.100993  0.109671  ...  0.592769  0.607561   \n",
       "\n",
       "                40        41        42        43        44        45   \n",
       "The       0.004040  0.003287  0.003187  0.003994  0.008052  0.010903  \\\n",
       "ĠE        0.022277  0.022929  0.030234  0.029892  0.008052  0.011526   \n",
       "iff       0.034897  0.044016  0.045351  0.047375  0.051627  0.040190   \n",
       "el        0.071115  0.051587  0.014777  0.017563  0.000000  0.000000   \n",
       "ĠTower    0.029359  0.035042  0.022648  0.005157  0.000000  0.000000   \n",
       "Ġis       0.005111  0.003795  0.000000  0.000000  0.000000  0.000000   \n",
       "Ġlocated  0.005993  0.008487  0.002254  0.002306  0.000000  0.000000   \n",
       "Ġin       0.187151  0.174460  0.142561  0.138237  0.049052  0.027608   \n",
       "Ġthe      0.032323  0.033680  0.035631  0.049355  0.051697  0.038773   \n",
       "Ġcity     0.000000  0.001898  0.000000  0.000000  0.000000  0.000000   \n",
       "Ġof       0.607735  0.620819  0.703357  0.706121  0.831520  0.871000   \n",
       "\n",
       "                46   47  \n",
       "The       0.031432  0.0  \n",
       "ĠE        0.008484  0.0  \n",
       "iff       0.025707  0.0  \n",
       "el        0.000000  0.0  \n",
       "ĠTower    0.000000  0.0  \n",
       "Ġis       0.000000  0.0  \n",
       "Ġlocated  0.000000  0.0  \n",
       "Ġin       0.010232  0.0  \n",
       "Ġthe      0.042955  0.0  \n",
       "Ġcity     0.000000  0.0  \n",
       "Ġof       0.881191  1.0  \n",
       "\n",
       "[11 rows x 48 columns]"
      ]
     },
     "execution_count": 22,
     "metadata": {},
     "output_type": "execute_result"
    }
   ],
   "source": [
    "from inseq import FeatureAttributionOutput\n",
    "import pandas as pd\n",
    "\n",
    "scores = {}\n",
    "\n",
    "for layer_idx in range(48):\n",
    "    curr_out = FeatureAttributionOutput.load(f\"../data/cat_outputs/layer_{layer_idx}.json\")\n",
    "    out_dict = curr_out.get_scores_dicts(do_aggregation=False)[0]\n",
    "    scores[layer_idx] = [score for score in out_dict[\"target_attributions\"][\"ĠParis\"].values()][:-1]\n",
    "\n",
    "prefix_tokens = list(out_dict[\"target_attributions\"][\"ĠParis\"].keys())\n",
    "attributions_df = pd.DataFrame(scores, index=prefix_tokens[:-1])\n",
    "\n",
    "# Attributed prefix tokens x layers\n",
    "attributions_df"
   ]
  },
  {
   "attachments": {},
   "cell_type": "markdown",
   "metadata": {},
   "source": [
    "We can conclude by visualizing the attribution scores using `matplotlib`:"
   ]
  },
  {
   "cell_type": "code",
   "execution_count": 25,
   "metadata": {},
   "outputs": [
    {
     "data": {
      "image/png": "[encoded data removed]",
      "text/plain": [
       "<Figure size 1200x600 with 2 Axes>"
      ]
     },
     "metadata": {},
     "output_type": "display_data"
    }
   ],
   "source": [
    "from matplotlib import pyplot as plt\n",
    "\n",
    "filename = \"../img/cat_example_plot.png\"\n",
    "\n",
    "fig, ax = plt.subplots(figsize=(6, 3), dpi=200)\n",
    "plt.subplots_adjust(bottom=0.15, left=0.275)\n",
    "h = ax.pcolor(\n",
    "    attributions_df.values,\n",
    "    cmap=\"Reds\",\n",
    "    vmin=0,\n",
    "    vmax=0.75,\n",
    ")\n",
    "ax.invert_yaxis()\n",
    "ax.set_yticks([0.5 + i for i in range(len(attributions_df.values))])\n",
    "ax.set_xticks([0.5 + i for i in range(0, attributions_df.values.shape[1], 4)])\n",
    "ax.set_xticklabels(list(range(0, 48, 4)))\n",
    "ax.set_yticklabels(attributions_df.index)\n",
    "cb = plt.colorbar(h, ticks=[0, .15, .3, .45, .6, .75])\n",
    "fig.suptitle(\"What activations are contributing to predicting 'Paris' over 'Rome'?\")\n",
    "plt.savefig(filename)\n",
    "plt.show()"
   ]
  },
  {
   "attachments": {},
   "cell_type": "markdown",
   "metadata": {},
   "source": [
    "We can make three observations about this result:\n",
    "\n",
    "- The last token of the prefix `of` plays an increasingly relevant role in predicting the next token as we go deeper in the model. This is not surprising, as the model needs to rely heavily on local context to preserve fluency.\n",
    "\n",
    "- The representations formed by the model in its intermediate layers for some subwords composing the subject of the factual association (`iff`, `el`, `Tower`) are influencing the prediction of `Paris` over `Rome`. This can be interpreted as the emebddings formed at these layers encoding some knowledge about the association between `Eiffel Tower` and `Paris`, which is then used to correctly predict the next token.\n",
    "\n",
    "- The word `in`, expressing the type of relation between subject and target, is also influencing the prediction of `Paris` over `Rome` in the middle to last layers.\n",
    "\n",
    "In our case study, we conduct an analysis over a full corpus of factual associations, finding that **these patterns are consistent across different examples** and correspond to importance patterns shown by seminal work such as [Meng et al. (2022)](https://rome.baulab.info/) using causal interventions to obtain the same insights.\n",
    "\n",
    "❗ **Key takeaway**: While feature attributions have been historically used to explain local importance of input features, recent methods like our CAT approach show their potential to **explain where information is encoded in the model**, similarly to probing classifiers, but without the noise introduced by training external probes.\n",
    "\n",
    "## Conclusion and Let's Build Together!\n",
    "\n",
    "In this tutorial, we learned how to use modern 🤗-based tools to compute feature attribution for NLP models and evaluate their results. We also learned how to use contrastive attribution to analyze model behavior in more nuanced ways, and how to use contrastive attribution tracing to localize factual knowledge in GPT-2.\n",
    "\n",
    "We hope this tutorial will be helpful for your research! 😃\n",
    "\n",
    "**A final note:** the Inseq library is relatively new and born out of a concerted effort of several PhD student and interpretability researchers. Our goal is to build a toolbox that is robust, flexible and easy to use to improve the reproducibility of research in interpretability for NLP. If you want to use Inseq in your research, or even better contribute to its developments, please reach out to us! 🙏 We would be more than happy to help you out and discuss your ideas! 😃"
   ]
  }
 ],
 "metadata": {
  "kernelspec": {
   "display_name": "venv",
   "language": "python",
   "name": "python3"
  },
  "language_info": {
   "codemirror_mode": {
    "name": "ipython",
    "version": 3
   },
   "file_extension": ".py",
   "mimetype": "text/x-python",
   "name": "python",
   "nbconvert_exporter": "python",
   "pygments_lexer": "ipython3",
   "version": "3.9.13"
  },
  "orig_nbformat": 4
 },
 "nbformat": 4,
 "nbformat_minor": 2
}
